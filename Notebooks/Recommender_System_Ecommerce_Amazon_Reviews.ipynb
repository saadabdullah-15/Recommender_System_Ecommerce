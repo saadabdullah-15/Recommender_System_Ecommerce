{
  "nbformat": 4,
  "nbformat_minor": 0,
  "metadata": {
    "colab": {
      "provenance": []
    },
    "kernelspec": {
      "name": "python3",
      "display_name": "Python 3"
    },
    "language_info": {
      "name": "python"
    }
  },
  "cells": [
    {
      "cell_type": "markdown",
      "source": [
        "# Recommender System for E-commerce Products Using Amazon Reviews\n",
        "\n",
        "## 📌 Background\n",
        "\n",
        "E-commerce platforms such as **Amazon**, **Flipkart**, and others heavily rely on recommendation systems to enhance the shopping experience by suggesting relevant products to customers. These systems help users discover items they might be interested in based on their past interactions, preferences, and browsing history.\n",
        "\n",
        "Amazon, for example, has historically leveraged **item-item collaborative filtering**, a scalable and efficient algorithm that provides high-quality, real-time recommendations across massive datasets.\n",
        "\n",
        "In general, recommendation systems aim to predict the **ratings**, **preferences**, or **interests** of users for products by learning patterns from existing data. These systems not only improve user engagement and satisfaction but also significantly boost sales and customer retention.\n",
        "\n",
        "In this project, we will explore and build a recommendation system using real-world **Amazon product reviews** data, applying techniques such as:\n",
        "- Popularity-based recommendations\n",
        "- Collaborative Filtering\n",
        "- Evaluation of model performance\n",
        "\n",
        "The goal is to demonstrate how machine learning techniques can personalize the shopping experience and handle large-scale e-commerce datasets.\n"
      ],
      "metadata": {
        "id": "d62obFbKZZ7M"
      }
    },
    {
      "cell_type": "markdown",
      "source": [
        "## 💡 Introduction to Recommendation Systems\n",
        "\n",
        "In today's digital era, users are constantly surrounded by an overwhelming amount of data. While this abundance of information is valuable, it becomes challenging for users to manually filter out the products or content that truly interest them. This is where **recommendation systems** come into play.\n",
        "\n",
        "A **recommendation system** helps users discover relevant products by analyzing past behaviors, preferences, and similarities between users and items. These systems aim to predict which products a user is likely to find useful or interesting, thus enhancing their overall experience.\n",
        "\n",
        "### ✅ Why are Recommendation Systems Important?\n",
        "Recommendation systems solve several key problems in modern applications:\n",
        "\n",
        "- **Help users find the right products**  \n",
        "  By understanding user preferences, recommendation systems suggest products that are most relevant to individual users.\n",
        "\n",
        "- **Increase user engagement**  \n",
        "  For example, **Google News** reported a **40% increase in clicks** due to personalized news recommendations.\n",
        "\n",
        "- **Boost sales and conversions**  \n",
        "  On **Amazon**, around **35% of sales** come directly from personalized product recommendations.\n",
        "\n",
        "- **Enhance personalization**  \n",
        "  On **Netflix**, a significant percentage of watched or rented content comes from their recommendation engine, making the experience more tailored to the user's tastes.\n",
        "\n",
        "### 🔍 How do Recommendation Systems Work?\n",
        "Typically, recommendation systems create a sense of similarity between:\n",
        "- **Users** (who have similar preferences or behaviors)\n",
        "- **Items** (that share similar attributes or are liked by similar groups)\n",
        "\n",
        "By leveraging these similarities, the system intelligently suggests products that the user is likely to appreciate.\n",
        "\n",
        "In this project, we will explore different types of recommendation techniques to demonstrate how these systems are applied in the e-commerce domain.\n"
      ],
      "metadata": {
        "id": "YcbUImRcasu8"
      }
    },
    {
      "cell_type": "markdown",
      "source": [
        "## 🔄 Types of Recommendation Systems\n",
        "\n",
        "Recommendation systems can be designed using various approaches depending on the data and business goals. Below are the most common types of recommendation techniques used today:\n",
        "\n",
        "---\n",
        "\n",
        "### 1️⃣ Popularity-Based Recommendation\n",
        "- Recommends items that are most **viewed**, **purchased**, or **highly rated** by all users.\n",
        "- These recommendations are **not personalized**; the same popular items are shown to everyone.\n",
        "- Example: \"Best Sellers\" or \"Trending Products\" sections on e-commerce platforms.\n",
        "\n",
        "---\n",
        "\n",
        "### 2️⃣ Classification Model-Based Recommendation\n",
        "- Uses machine learning classification algorithms to predict whether a user is likely to be interested in a product.\n",
        "- Works by understanding the **features of users** and **features of products**.\n",
        "- Example: Predicting whether a user will click on a product or not based on their past behavior.\n",
        "\n",
        "---\n",
        "\n",
        "### 3️⃣ Content-Based Recommendation\n",
        "- Focuses on the **attributes of items** and the user's previous interactions.\n",
        "- The core idea: *If you liked this, you'll like similar items.*\n",
        "- For example, if a user liked a thriller movie, they may be recommended other movies with similar genres, actors, or directors.\n",
        "\n",
        "---\n",
        "\n",
        "### 4️⃣ Collaborative Filtering\n",
        "- Relies on the assumption that users with **similar tastes** will like similar products.\n",
        "- Based on user behavior such as ratings, views, or purchases.\n",
        "- Two main types:\n",
        "  - **User-User Collaborative Filtering**: Finds users similar to you and recommends items they liked.\n",
        "  - **Item-Item Collaborative Filtering**: Finds items similar to what you've liked and recommends those.\n",
        "\n",
        "---\n",
        "\n",
        "### 5️⃣ Hybrid Recommendation Systems\n",
        "- Combines multiple techniques such as **collaborative filtering**, **content-based filtering**, and **popularity-based methods**.\n",
        "- Aims to overcome the limitations of individual methods and improve recommendation accuracy.\n",
        "- Example: Netflix combines collaborative and content-based approaches for better personalization.\n",
        "\n",
        "---\n",
        "\n",
        "### 6️⃣ Association Rule Mining\n",
        "- Identifies patterns of **co-occurrence** in transactions.\n",
        "- Recommends items frequently bought together.\n",
        "- Example: *\"Customers who bought this item also bought...\"* on Amazon.\n",
        "\n",
        "---\n",
        "\n",
        "In this project, we will primarily focus on **popularity-based** and **collaborative filtering** approaches to build a recommendation system using real-world data.\n"
      ],
      "metadata": {
        "id": "GpmSxV-WbO42"
      }
    },
    {
      "cell_type": "markdown",
      "source": [
        "## 📝 Attribute Information\n",
        "\n",
        "The dataset used in this project contains **Amazon product reviews**, where each row represents a rating given by a user to a product. Below are the details of the key attributes in the dataset:\n",
        "\n",
        "| Column Name | Description |\n",
        "|-------------|-------------|\n",
        "| **userId**  | Unique identifier for each user. |\n",
        "| **productId** | Unique identifier for each product. |\n",
        "| **Rating**  | The rating score given by the user to the product (typically on a scale of 1–5). |\n",
        "| **timestamp** | The time when the rating was submitted. (**Note:** We will ignore this column for this project.) |\n",
        "\n",
        "These attributes form the basis for building our recommendation system by analyzing how users interact with products through their ratings.\n"
      ],
      "metadata": {
        "id": "r1ehduO-b2Op"
      }
    },
    {
      "cell_type": "markdown",
      "source": [
        "## 🔧 Import Libraries\n",
        "\n",
        "In this step, we will import all the necessary Python libraries required for data manipulation, visualization, and building recommendation models.\n"
      ],
      "metadata": {
        "id": "u124EKbHdZt4"
      }
    },
    {
      "cell_type": "code",
      "execution_count": 2,
      "metadata": {
        "id": "95wgyRfhYR05"
      },
      "outputs": [],
      "source": [
        "# Essential libraries\n",
        "import numpy as np\n",
        "import pandas as pd\n",
        "import math\n",
        "import json\n",
        "import time\n",
        "import warnings\n",
        "\n",
        "# Visualization\n",
        "import matplotlib.pyplot as plt\n",
        "import seaborn as sns\n",
        "\n",
        "# Machine Learning & Recommendation Algorithms\n",
        "from sklearn.metrics.pairwise import cosine_similarity\n",
        "from sklearn.model_selection import train_test_split\n",
        "from sklearn.neighbors import NearestNeighbors\n",
        "from scipy.sparse import csr_matrix\n",
        "from scipy.sparse.linalg import svds\n",
        "\n",
        "# Save/Load models\n",
        "import joblib  # Corrected: 'sklearn.externals.joblib' is deprecated\n",
        "\n",
        "# Configure display options\n",
        "from google.colab import files\n",
        "from IPython.core.interactiveshell import InteractiveShell\n",
        "InteractiveShell.ast_node_interactivity = \"all\"\n",
        "\n",
        "# Ignore warnings\n",
        "warnings.simplefilter('ignore')\n",
        "\n",
        "# Plot settings\n",
        "%matplotlib inline\n"
      ]
    },
    {
      "cell_type": "markdown",
      "source": [
        "## 📂 Load the Dataset and Add Headers\n",
        "\n",
        "In this step, we will upload the dataset into Google Colab and assign appropriate column names.  \n",
        "Since the dataset does not have headers by default, we will manually specify them during loading.\n"
      ],
      "metadata": {
        "id": "YT8IOZYCevyt"
      }
    },
    {
      "cell_type": "code",
      "source": [
        "# Upload the dataset manually\n",
        "\n",
        "#uploaded = files.upload()\n",
        "#filename = \"ratings_Electronics.csv\"\n",
        "\n",
        "# Load the dataset with custom headers\n",
        "electronics_data = pd.read_csv(\n",
        "    \"/content/ratings_Electronics.csv\",\n",
        "    names=['userId', 'productId', 'Rating', 'timestamp']\n",
        ")\n",
        "\n",
        "# Preview the first five rows\n",
        "electronics_data.head()"
      ],
      "metadata": {
        "colab": {
          "base_uri": "https://localhost:8080/",
          "height": 206
        },
        "id": "vsOUwsS-eeCi",
        "outputId": "762c2ae7-ae7d-4739-f71d-d7f1885f227d"
      },
      "execution_count": 3,
      "outputs": [
        {
          "output_type": "execute_result",
          "data": {
            "text/plain": [
              "           userId   productId  Rating   timestamp\n",
              "0   AKM1MP6P0OYPR  0132793040     5.0  1365811200\n",
              "1  A2CX7LUOHB2NDG  0321732944     5.0  1341100800\n",
              "2  A2NWSAGRHCP8N5  0439886341     1.0  1367193600\n",
              "3  A2WNBOD3WNDNKT  0439886341     3.0  1374451200\n",
              "4  A1GI0U4ZRJA8WN  0439886341     1.0  1334707200"
            ],
            "text/html": [
              "\n",
              "  <div id=\"df-12a9bed2-a5df-4592-8c61-6506f19b9231\" class=\"colab-df-container\">\n",
              "    <div>\n",
              "<style scoped>\n",
              "    .dataframe tbody tr th:only-of-type {\n",
              "        vertical-align: middle;\n",
              "    }\n",
              "\n",
              "    .dataframe tbody tr th {\n",
              "        vertical-align: top;\n",
              "    }\n",
              "\n",
              "    .dataframe thead th {\n",
              "        text-align: right;\n",
              "    }\n",
              "</style>\n",
              "<table border=\"1\" class=\"dataframe\">\n",
              "  <thead>\n",
              "    <tr style=\"text-align: right;\">\n",
              "      <th></th>\n",
              "      <th>userId</th>\n",
              "      <th>productId</th>\n",
              "      <th>Rating</th>\n",
              "      <th>timestamp</th>\n",
              "    </tr>\n",
              "  </thead>\n",
              "  <tbody>\n",
              "    <tr>\n",
              "      <th>0</th>\n",
              "      <td>AKM1MP6P0OYPR</td>\n",
              "      <td>0132793040</td>\n",
              "      <td>5.0</td>\n",
              "      <td>1365811200</td>\n",
              "    </tr>\n",
              "    <tr>\n",
              "      <th>1</th>\n",
              "      <td>A2CX7LUOHB2NDG</td>\n",
              "      <td>0321732944</td>\n",
              "      <td>5.0</td>\n",
              "      <td>1341100800</td>\n",
              "    </tr>\n",
              "    <tr>\n",
              "      <th>2</th>\n",
              "      <td>A2NWSAGRHCP8N5</td>\n",
              "      <td>0439886341</td>\n",
              "      <td>1.0</td>\n",
              "      <td>1367193600</td>\n",
              "    </tr>\n",
              "    <tr>\n",
              "      <th>3</th>\n",
              "      <td>A2WNBOD3WNDNKT</td>\n",
              "      <td>0439886341</td>\n",
              "      <td>3.0</td>\n",
              "      <td>1374451200</td>\n",
              "    </tr>\n",
              "    <tr>\n",
              "      <th>4</th>\n",
              "      <td>A1GI0U4ZRJA8WN</td>\n",
              "      <td>0439886341</td>\n",
              "      <td>1.0</td>\n",
              "      <td>1334707200</td>\n",
              "    </tr>\n",
              "  </tbody>\n",
              "</table>\n",
              "</div>\n",
              "    <div class=\"colab-df-buttons\">\n",
              "\n",
              "  <div class=\"colab-df-container\">\n",
              "    <button class=\"colab-df-convert\" onclick=\"convertToInteractive('df-12a9bed2-a5df-4592-8c61-6506f19b9231')\"\n",
              "            title=\"Convert this dataframe to an interactive table.\"\n",
              "            style=\"display:none;\">\n",
              "\n",
              "  <svg xmlns=\"http://www.w3.org/2000/svg\" height=\"24px\" viewBox=\"0 -960 960 960\">\n",
              "    <path d=\"M120-120v-720h720v720H120Zm60-500h600v-160H180v160Zm220 220h160v-160H400v160Zm0 220h160v-160H400v160ZM180-400h160v-160H180v160Zm440 0h160v-160H620v160ZM180-180h160v-160H180v160Zm440 0h160v-160H620v160Z\"/>\n",
              "  </svg>\n",
              "    </button>\n",
              "\n",
              "  <style>\n",
              "    .colab-df-container {\n",
              "      display:flex;\n",
              "      gap: 12px;\n",
              "    }\n",
              "\n",
              "    .colab-df-convert {\n",
              "      background-color: #E8F0FE;\n",
              "      border: none;\n",
              "      border-radius: 50%;\n",
              "      cursor: pointer;\n",
              "      display: none;\n",
              "      fill: #1967D2;\n",
              "      height: 32px;\n",
              "      padding: 0 0 0 0;\n",
              "      width: 32px;\n",
              "    }\n",
              "\n",
              "    .colab-df-convert:hover {\n",
              "      background-color: #E2EBFA;\n",
              "      box-shadow: 0px 1px 2px rgba(60, 64, 67, 0.3), 0px 1px 3px 1px rgba(60, 64, 67, 0.15);\n",
              "      fill: #174EA6;\n",
              "    }\n",
              "\n",
              "    .colab-df-buttons div {\n",
              "      margin-bottom: 4px;\n",
              "    }\n",
              "\n",
              "    [theme=dark] .colab-df-convert {\n",
              "      background-color: #3B4455;\n",
              "      fill: #D2E3FC;\n",
              "    }\n",
              "\n",
              "    [theme=dark] .colab-df-convert:hover {\n",
              "      background-color: #434B5C;\n",
              "      box-shadow: 0px 1px 3px 1px rgba(0, 0, 0, 0.15);\n",
              "      filter: drop-shadow(0px 1px 2px rgba(0, 0, 0, 0.3));\n",
              "      fill: #FFFFFF;\n",
              "    }\n",
              "  </style>\n",
              "\n",
              "    <script>\n",
              "      const buttonEl =\n",
              "        document.querySelector('#df-12a9bed2-a5df-4592-8c61-6506f19b9231 button.colab-df-convert');\n",
              "      buttonEl.style.display =\n",
              "        google.colab.kernel.accessAllowed ? 'block' : 'none';\n",
              "\n",
              "      async function convertToInteractive(key) {\n",
              "        const element = document.querySelector('#df-12a9bed2-a5df-4592-8c61-6506f19b9231');\n",
              "        const dataTable =\n",
              "          await google.colab.kernel.invokeFunction('convertToInteractive',\n",
              "                                                    [key], {});\n",
              "        if (!dataTable) return;\n",
              "\n",
              "        const docLinkHtml = 'Like what you see? Visit the ' +\n",
              "          '<a target=\"_blank\" href=https://colab.research.google.com/notebooks/data_table.ipynb>data table notebook</a>'\n",
              "          + ' to learn more about interactive tables.';\n",
              "        element.innerHTML = '';\n",
              "        dataTable['output_type'] = 'display_data';\n",
              "        await google.colab.output.renderOutput(dataTable, element);\n",
              "        const docLink = document.createElement('div');\n",
              "        docLink.innerHTML = docLinkHtml;\n",
              "        element.appendChild(docLink);\n",
              "      }\n",
              "    </script>\n",
              "  </div>\n",
              "\n",
              "\n",
              "<div id=\"df-af2efbb1-b4ce-463d-bd0d-250ec011973e\">\n",
              "  <button class=\"colab-df-quickchart\" onclick=\"quickchart('df-af2efbb1-b4ce-463d-bd0d-250ec011973e')\"\n",
              "            title=\"Suggest charts\"\n",
              "            style=\"display:none;\">\n",
              "\n",
              "<svg xmlns=\"http://www.w3.org/2000/svg\" height=\"24px\"viewBox=\"0 0 24 24\"\n",
              "     width=\"24px\">\n",
              "    <g>\n",
              "        <path d=\"M19 3H5c-1.1 0-2 .9-2 2v14c0 1.1.9 2 2 2h14c1.1 0 2-.9 2-2V5c0-1.1-.9-2-2-2zM9 17H7v-7h2v7zm4 0h-2V7h2v10zm4 0h-2v-4h2v4z\"/>\n",
              "    </g>\n",
              "</svg>\n",
              "  </button>\n",
              "\n",
              "<style>\n",
              "  .colab-df-quickchart {\n",
              "      --bg-color: #E8F0FE;\n",
              "      --fill-color: #1967D2;\n",
              "      --hover-bg-color: #E2EBFA;\n",
              "      --hover-fill-color: #174EA6;\n",
              "      --disabled-fill-color: #AAA;\n",
              "      --disabled-bg-color: #DDD;\n",
              "  }\n",
              "\n",
              "  [theme=dark] .colab-df-quickchart {\n",
              "      --bg-color: #3B4455;\n",
              "      --fill-color: #D2E3FC;\n",
              "      --hover-bg-color: #434B5C;\n",
              "      --hover-fill-color: #FFFFFF;\n",
              "      --disabled-bg-color: #3B4455;\n",
              "      --disabled-fill-color: #666;\n",
              "  }\n",
              "\n",
              "  .colab-df-quickchart {\n",
              "    background-color: var(--bg-color);\n",
              "    border: none;\n",
              "    border-radius: 50%;\n",
              "    cursor: pointer;\n",
              "    display: none;\n",
              "    fill: var(--fill-color);\n",
              "    height: 32px;\n",
              "    padding: 0;\n",
              "    width: 32px;\n",
              "  }\n",
              "\n",
              "  .colab-df-quickchart:hover {\n",
              "    background-color: var(--hover-bg-color);\n",
              "    box-shadow: 0 1px 2px rgba(60, 64, 67, 0.3), 0 1px 3px 1px rgba(60, 64, 67, 0.15);\n",
              "    fill: var(--button-hover-fill-color);\n",
              "  }\n",
              "\n",
              "  .colab-df-quickchart-complete:disabled,\n",
              "  .colab-df-quickchart-complete:disabled:hover {\n",
              "    background-color: var(--disabled-bg-color);\n",
              "    fill: var(--disabled-fill-color);\n",
              "    box-shadow: none;\n",
              "  }\n",
              "\n",
              "  .colab-df-spinner {\n",
              "    border: 2px solid var(--fill-color);\n",
              "    border-color: transparent;\n",
              "    border-bottom-color: var(--fill-color);\n",
              "    animation:\n",
              "      spin 1s steps(1) infinite;\n",
              "  }\n",
              "\n",
              "  @keyframes spin {\n",
              "    0% {\n",
              "      border-color: transparent;\n",
              "      border-bottom-color: var(--fill-color);\n",
              "      border-left-color: var(--fill-color);\n",
              "    }\n",
              "    20% {\n",
              "      border-color: transparent;\n",
              "      border-left-color: var(--fill-color);\n",
              "      border-top-color: var(--fill-color);\n",
              "    }\n",
              "    30% {\n",
              "      border-color: transparent;\n",
              "      border-left-color: var(--fill-color);\n",
              "      border-top-color: var(--fill-color);\n",
              "      border-right-color: var(--fill-color);\n",
              "    }\n",
              "    40% {\n",
              "      border-color: transparent;\n",
              "      border-right-color: var(--fill-color);\n",
              "      border-top-color: var(--fill-color);\n",
              "    }\n",
              "    60% {\n",
              "      border-color: transparent;\n",
              "      border-right-color: var(--fill-color);\n",
              "    }\n",
              "    80% {\n",
              "      border-color: transparent;\n",
              "      border-right-color: var(--fill-color);\n",
              "      border-bottom-color: var(--fill-color);\n",
              "    }\n",
              "    90% {\n",
              "      border-color: transparent;\n",
              "      border-bottom-color: var(--fill-color);\n",
              "    }\n",
              "  }\n",
              "</style>\n",
              "\n",
              "  <script>\n",
              "    async function quickchart(key) {\n",
              "      const quickchartButtonEl =\n",
              "        document.querySelector('#' + key + ' button');\n",
              "      quickchartButtonEl.disabled = true;  // To prevent multiple clicks.\n",
              "      quickchartButtonEl.classList.add('colab-df-spinner');\n",
              "      try {\n",
              "        const charts = await google.colab.kernel.invokeFunction(\n",
              "            'suggestCharts', [key], {});\n",
              "      } catch (error) {\n",
              "        console.error('Error during call to suggestCharts:', error);\n",
              "      }\n",
              "      quickchartButtonEl.classList.remove('colab-df-spinner');\n",
              "      quickchartButtonEl.classList.add('colab-df-quickchart-complete');\n",
              "    }\n",
              "    (() => {\n",
              "      let quickchartButtonEl =\n",
              "        document.querySelector('#df-af2efbb1-b4ce-463d-bd0d-250ec011973e button');\n",
              "      quickchartButtonEl.style.display =\n",
              "        google.colab.kernel.accessAllowed ? 'block' : 'none';\n",
              "    })();\n",
              "  </script>\n",
              "</div>\n",
              "\n",
              "    </div>\n",
              "  </div>\n"
            ],
            "application/vnd.google.colaboratory.intrinsic+json": {
              "type": "dataframe",
              "variable_name": "electronics_data"
            }
          },
          "metadata": {},
          "execution_count": 3
        }
      ]
    },
    {
      "cell_type": "markdown",
      "source": [
        "## 📊 Dataset Overview\n",
        "\n",
        "Before we proceed, let's explore the size and structure of the dataset.\n",
        "\n",
        "- Check the shape of the dataset.\n",
        "- For efficient processing, we will take a subset of the data.\n",
        "- Verify the data types of each column."
      ],
      "metadata": {
        "id": "yp8nwSkxfrBP"
      }
    },
    {
      "cell_type": "code",
      "source": [
        "# Check the shape of the dataset\n",
        "electronics_data.shape"
      ],
      "metadata": {
        "colab": {
          "base_uri": "https://localhost:8080/"
        },
        "id": "u28MI5jke8DN",
        "outputId": "3fa625d6-5586-45ca-ebdf-14c73530ca41"
      },
      "execution_count": 4,
      "outputs": [
        {
          "output_type": "execute_result",
          "data": {
            "text/plain": [
              "(7824482, 4)"
            ]
          },
          "metadata": {},
          "execution_count": 4
        }
      ]
    },
    {
      "cell_type": "markdown",
      "source": [
        "(7824482, 4) — The dataset has over **7.8 million records** and **4 columns**."
      ],
      "metadata": {
        "id": "27BITNxNf_ur"
      }
    },
    {
      "cell_type": "code",
      "source": [
        "# Take a subset of the dataset for faster computation\n",
        "# Using the first 1,048,576 rows (approx. 1 million rows)\n",
        "electronics_data = electronics_data.iloc[:1048576, :]"
      ],
      "metadata": {
        "id": "qfLGjYDkfvqi"
      },
      "execution_count": 5,
      "outputs": []
    },
    {
      "cell_type": "code",
      "source": [
        "# Check the data types of each column\n",
        "electronics_data.dtypes"
      ],
      "metadata": {
        "colab": {
          "base_uri": "https://localhost:8080/",
          "height": 209
        },
        "id": "R-fOXPsSgV29",
        "outputId": "e5e9d616-b714-446c-b10a-cdf0f0f1282f"
      },
      "execution_count": 6,
      "outputs": [
        {
          "output_type": "execute_result",
          "data": {
            "text/plain": [
              "userId        object\n",
              "productId     object\n",
              "Rating       float64\n",
              "timestamp      int64\n",
              "dtype: object"
            ],
            "text/html": [
              "<div>\n",
              "<style scoped>\n",
              "    .dataframe tbody tr th:only-of-type {\n",
              "        vertical-align: middle;\n",
              "    }\n",
              "\n",
              "    .dataframe tbody tr th {\n",
              "        vertical-align: top;\n",
              "    }\n",
              "\n",
              "    .dataframe thead th {\n",
              "        text-align: right;\n",
              "    }\n",
              "</style>\n",
              "<table border=\"1\" class=\"dataframe\">\n",
              "  <thead>\n",
              "    <tr style=\"text-align: right;\">\n",
              "      <th></th>\n",
              "      <th>0</th>\n",
              "    </tr>\n",
              "  </thead>\n",
              "  <tbody>\n",
              "    <tr>\n",
              "      <th>userId</th>\n",
              "      <td>object</td>\n",
              "    </tr>\n",
              "    <tr>\n",
              "      <th>productId</th>\n",
              "      <td>object</td>\n",
              "    </tr>\n",
              "    <tr>\n",
              "      <th>Rating</th>\n",
              "      <td>float64</td>\n",
              "    </tr>\n",
              "    <tr>\n",
              "      <th>timestamp</th>\n",
              "      <td>int64</td>\n",
              "    </tr>\n",
              "  </tbody>\n",
              "</table>\n",
              "</div><br><label><b>dtype:</b> object</label>"
            ]
          },
          "metadata": {},
          "execution_count": 6
        }
      ]
    },
    {
      "cell_type": "markdown",
      "source": [
        "## ℹ️ Dataset Information\n",
        "\n",
        "Now, let's inspect the dataset structure and check for:\n",
        "- Total number of entries\n",
        "- Column data types\n",
        "- Non-null values\n",
        "\n",
        "We'll also generate a **five-point summary** for the `Rating` column to understand its distribution."
      ],
      "metadata": {
        "id": "EYzeOTV8hBKx"
      }
    },
    {
      "cell_type": "code",
      "source": [
        "# Check dataset information\n",
        "electronics_data.info()"
      ],
      "metadata": {
        "colab": {
          "base_uri": "https://localhost:8080/"
        },
        "id": "Xiy5E7sEgap1",
        "outputId": "6f544db0-dab4-4026-a131-78fb7832366b"
      },
      "execution_count": 7,
      "outputs": [
        {
          "output_type": "stream",
          "name": "stdout",
          "text": [
            "<class 'pandas.core.frame.DataFrame'>\n",
            "RangeIndex: 1048576 entries, 0 to 1048575\n",
            "Data columns (total 4 columns):\n",
            " #   Column     Non-Null Count    Dtype  \n",
            "---  ------     --------------    -----  \n",
            " 0   userId     1048576 non-null  object \n",
            " 1   productId  1048576 non-null  object \n",
            " 2   Rating     1048576 non-null  float64\n",
            " 3   timestamp  1048576 non-null  int64  \n",
            "dtypes: float64(1), int64(1), object(2)\n",
            "memory usage: 32.0+ MB\n"
          ]
        }
      ]
    },
    {
      "cell_type": "markdown",
      "source": [
        "- ✅ No missing values detected.\n",
        "- ✅ All data types are as expected."
      ],
      "metadata": {
        "id": "xczmiAfYhUzz"
      }
    },
    {
      "cell_type": "code",
      "source": [
        "# Five-point summary of the 'Rating' column\n",
        "electronics_data.describe()['Rating'].T"
      ],
      "metadata": {
        "colab": {
          "base_uri": "https://localhost:8080/",
          "height": 335
        },
        "id": "cb1dQ96ChH0H",
        "outputId": "3aafd6ec-525a-4ce1-ea2a-4bf801728948"
      },
      "execution_count": 8,
      "outputs": [
        {
          "output_type": "execute_result",
          "data": {
            "text/plain": [
              "count    1.048576e+06\n",
              "mean     3.973380e+00\n",
              "std      1.399329e+00\n",
              "min      1.000000e+00\n",
              "25%      3.000000e+00\n",
              "50%      5.000000e+00\n",
              "75%      5.000000e+00\n",
              "max      5.000000e+00\n",
              "Name: Rating, dtype: float64"
            ],
            "text/html": [
              "<div>\n",
              "<style scoped>\n",
              "    .dataframe tbody tr th:only-of-type {\n",
              "        vertical-align: middle;\n",
              "    }\n",
              "\n",
              "    .dataframe tbody tr th {\n",
              "        vertical-align: top;\n",
              "    }\n",
              "\n",
              "    .dataframe thead th {\n",
              "        text-align: right;\n",
              "    }\n",
              "</style>\n",
              "<table border=\"1\" class=\"dataframe\">\n",
              "  <thead>\n",
              "    <tr style=\"text-align: right;\">\n",
              "      <th></th>\n",
              "      <th>Rating</th>\n",
              "    </tr>\n",
              "  </thead>\n",
              "  <tbody>\n",
              "    <tr>\n",
              "      <th>count</th>\n",
              "      <td>1.048576e+06</td>\n",
              "    </tr>\n",
              "    <tr>\n",
              "      <th>mean</th>\n",
              "      <td>3.973380e+00</td>\n",
              "    </tr>\n",
              "    <tr>\n",
              "      <th>std</th>\n",
              "      <td>1.399329e+00</td>\n",
              "    </tr>\n",
              "    <tr>\n",
              "      <th>min</th>\n",
              "      <td>1.000000e+00</td>\n",
              "    </tr>\n",
              "    <tr>\n",
              "      <th>25%</th>\n",
              "      <td>3.000000e+00</td>\n",
              "    </tr>\n",
              "    <tr>\n",
              "      <th>50%</th>\n",
              "      <td>5.000000e+00</td>\n",
              "    </tr>\n",
              "    <tr>\n",
              "      <th>75%</th>\n",
              "      <td>5.000000e+00</td>\n",
              "    </tr>\n",
              "    <tr>\n",
              "      <th>max</th>\n",
              "      <td>5.000000e+00</td>\n",
              "    </tr>\n",
              "  </tbody>\n",
              "</table>\n",
              "</div><br><label><b>dtype:</b> float64</label>"
            ]
          },
          "metadata": {},
          "execution_count": 8
        }
      ]
    },
    {
      "cell_type": "markdown",
      "source": [
        "🔍 **Observations:**\n",
        "- Average Rating: ~3.97, slightly below 4.\n",
        "- Rating Spread: Ranges from 1 (worst) to 5 (best).\n",
        "- 50% of the ratings are 5, indicating many users give high ratings.\n",
        "- The standard deviation is 1.39, suggesting moderate variation in ratings.\n",
        "\n"
      ],
      "metadata": {
        "id": "kVVxjUb0h4qm"
      }
    },
    {
      "cell_type": "code",
      "source": [
        "# Find the minimum and maximum ratings\n",
        "print('Minimum rating is: %d' % (electronics_data.Rating.min()))\n",
        "print('Maximum rating is: %d' % (electronics_data.Rating.max()))"
      ],
      "metadata": {
        "colab": {
          "base_uri": "https://localhost:8080/"
        },
        "id": "usCvGQ-RhgJl",
        "outputId": "1a729266-29e2-4c38-8cbd-f1ebcf8ef746"
      },
      "execution_count": 9,
      "outputs": [
        {
          "output_type": "stream",
          "name": "stdout",
          "text": [
            "Minimum rating is: 1\n",
            "Maximum rating is: 5\n"
          ]
        }
      ]
    },
    {
      "cell_type": "markdown",
      "source": [
        "## 📊 Rating Distribution\n",
        "\n",
        "Understanding the distribution of ratings helps us identify if users tend to leave positive, neutral, or negative feedback.\n",
        "\n",
        "Here, we'll visualize the frequency of each rating in the dataset."
      ],
      "metadata": {
        "id": "whyAwuCgjBgF"
      }
    },
    {
      "cell_type": "code",
      "source": [
        "# Visualize the distribution of ratings\n",
        "plt.figure(figsize=(8, 5))\n",
        "sns.countplot(x='Rating', data=electronics_data, palette='viridis')\n",
        "\n",
        "plt.title('Distribution of Product Ratings')\n",
        "plt.xlabel('Rating')\n",
        "plt.ylabel('Number of Ratings')\n",
        "plt.show()"
      ],
      "metadata": {
        "colab": {
          "base_uri": "https://localhost:8080/",
          "height": 574
        },
        "id": "gF5BJSzii4NJ",
        "outputId": "46ad5ab4-4ef9-4ef1-bd75-25a0e7f5077d"
      },
      "execution_count": 10,
      "outputs": [
        {
          "output_type": "execute_result",
          "data": {
            "text/plain": [
              "<Figure size 800x500 with 0 Axes>"
            ]
          },
          "metadata": {},
          "execution_count": 10
        },
        {
          "output_type": "execute_result",
          "data": {
            "text/plain": [
              "<Axes: xlabel='Rating', ylabel='count'>"
            ]
          },
          "metadata": {},
          "execution_count": 10
        },
        {
          "output_type": "execute_result",
          "data": {
            "text/plain": [
              "Text(0.5, 1.0, 'Distribution of Product Ratings')"
            ]
          },
          "metadata": {},
          "execution_count": 10
        },
        {
          "output_type": "execute_result",
          "data": {
            "text/plain": [
              "Text(0.5, 0, 'Rating')"
            ]
          },
          "metadata": {},
          "execution_count": 10
        },
        {
          "output_type": "execute_result",
          "data": {
            "text/plain": [
              "Text(0, 0.5, 'Number of Ratings')"
            ]
          },
          "metadata": {},
          "execution_count": 10
        },
        {
          "output_type": "display_data",
          "data": {
            "text/plain": [
              "<Figure size 800x500 with 1 Axes>"
            ],
            "image/png": "[encoded data removed]"
          },
          "metadata": {}
        }
      ]
    },
    {
      "cell_type": "markdown",
      "source": [
        "This suggests that users tend to leave **positive feedback (5.0)** more often."
      ],
      "metadata": {
        "id": "8xlCZwqajdDa"
      }
    },
    {
      "cell_type": "markdown",
      "source": [
        "## 🔍 Missing Values Check\n",
        "\n",
        "Before building any models, it's essential to check for missing values to ensure data quality."
      ],
      "metadata": {
        "id": "TIzzxpsxjrMm"
      }
    },
    {
      "cell_type": "code",
      "source": [
        "# Check for missing values in the dataset\n",
        "electronics_data.isnull().sum()"
      ],
      "metadata": {
        "colab": {
          "base_uri": "https://localhost:8080/",
          "height": 209
        },
        "id": "BMTLlWVzjGCn",
        "outputId": "1de1d333-cd60-42d6-ec69-00d1c3e0179a"
      },
      "execution_count": 11,
      "outputs": [
        {
          "output_type": "execute_result",
          "data": {
            "text/plain": [
              "userId       0\n",
              "productId    0\n",
              "Rating       0\n",
              "timestamp    0\n",
              "dtype: int64"
            ],
            "text/html": [
              "<div>\n",
              "<style scoped>\n",
              "    .dataframe tbody tr th:only-of-type {\n",
              "        vertical-align: middle;\n",
              "    }\n",
              "\n",
              "    .dataframe tbody tr th {\n",
              "        vertical-align: top;\n",
              "    }\n",
              "\n",
              "    .dataframe thead th {\n",
              "        text-align: right;\n",
              "    }\n",
              "</style>\n",
              "<table border=\"1\" class=\"dataframe\">\n",
              "  <thead>\n",
              "    <tr style=\"text-align: right;\">\n",
              "      <th></th>\n",
              "      <th>0</th>\n",
              "    </tr>\n",
              "  </thead>\n",
              "  <tbody>\n",
              "    <tr>\n",
              "      <th>userId</th>\n",
              "      <td>0</td>\n",
              "    </tr>\n",
              "    <tr>\n",
              "      <th>productId</th>\n",
              "      <td>0</td>\n",
              "    </tr>\n",
              "    <tr>\n",
              "      <th>Rating</th>\n",
              "      <td>0</td>\n",
              "    </tr>\n",
              "    <tr>\n",
              "      <th>timestamp</th>\n",
              "      <td>0</td>\n",
              "    </tr>\n",
              "  </tbody>\n",
              "</table>\n",
              "</div><br><label><b>dtype:</b> int64</label>"
            ]
          },
          "metadata": {},
          "execution_count": 11
        }
      ]
    },
    {
      "cell_type": "markdown",
      "source": [
        "✅ There are no missing values in the dataset."
      ],
      "metadata": {
        "id": "3ZgeMsZ4jz9z"
      }
    },
    {
      "cell_type": "markdown",
      "source": [
        "## 🧮 Unique Users and Products\n",
        "\n",
        "Next, let's check how many unique users and unique products are present in the dataset."
      ],
      "metadata": {
        "id": "mNcJ1jR0j4QM"
      }
    },
    {
      "cell_type": "code",
      "source": [
        "# Number of unique users\n",
        "num_users = electronics_data['userId'].nunique()\n",
        "print(f\"Number of unique users: {num_users}\")\n",
        "\n",
        "# Number of unique products\n",
        "num_products = electronics_data['productId'].nunique()\n",
        "print(f\"Number of unique products: {num_products}\")"
      ],
      "metadata": {
        "colab": {
          "base_uri": "https://localhost:8080/"
        },
        "id": "vq0ZY6zdjx9D",
        "outputId": "27161b04-3b6b-469d-9e4b-89237709ae29"
      },
      "execution_count": 12,
      "outputs": [
        {
          "output_type": "stream",
          "name": "stdout",
          "text": [
            "Number of unique users: 786330\n",
            "Number of unique products: 61894\n"
          ]
        }
      ]
    },
    {
      "cell_type": "markdown",
      "source": [
        "**🔍 Observations:**\n",
        "- There are around **786k** unique users and **61k** unique products.\n",
        "- This confirms we have a large and diverse dataset, making it suitable for collaborative filtering techniques."
      ],
      "metadata": {
        "id": "tQuEA6mukM7R"
      }
    },
    {
      "cell_type": "markdown",
      "source": [
        "## 🏆 Top Products by Number of Ratings\n",
        "\n",
        "Products that receive the most ratings are usually the most popular.  \n",
        "Identifying these products can help in creating a **Popularity-Based Recommendation System**."
      ],
      "metadata": {
        "id": "ktth5XNKlAL3"
      }
    },
    {
      "cell_type": "code",
      "source": [
        "# Count the number of ratings per product\n",
        "top_products = electronics_data.groupby('productId').size().sort_values(ascending=False).head(10)\n",
        "\n",
        "# Display the top 10 products with the most ratings\n",
        "top_products"
      ],
      "metadata": {
        "colab": {
          "base_uri": "https://localhost:8080/",
          "height": 429
        },
        "id": "UyQBKt7Ej_J4",
        "outputId": "4c5373ae-d255-4749-c68d-1a91d57a4e3d"
      },
      "execution_count": 13,
      "outputs": [
        {
          "output_type": "execute_result",
          "data": {
            "text/plain": [
              "productId\n",
              "B0002L5R78    9487\n",
              "B0001FTVEK    5345\n",
              "B000I68BD4    4903\n",
              "B000BQ7GW8    4275\n",
              "B00007E7JU    3523\n",
              "B000BKJZ9Q    3219\n",
              "B000B9RI14    2996\n",
              "B000A6PPOK    2828\n",
              "B00007M1TZ    2608\n",
              "B00004ZCJE    2547\n",
              "dtype: int64"
            ],
            "text/html": [
              "<div>\n",
              "<style scoped>\n",
              "    .dataframe tbody tr th:only-of-type {\n",
              "        vertical-align: middle;\n",
              "    }\n",
              "\n",
              "    .dataframe tbody tr th {\n",
              "        vertical-align: top;\n",
              "    }\n",
              "\n",
              "    .dataframe thead th {\n",
              "        text-align: right;\n",
              "    }\n",
              "</style>\n",
              "<table border=\"1\" class=\"dataframe\">\n",
              "  <thead>\n",
              "    <tr style=\"text-align: right;\">\n",
              "      <th></th>\n",
              "      <th>0</th>\n",
              "    </tr>\n",
              "    <tr>\n",
              "      <th>productId</th>\n",
              "      <th></th>\n",
              "    </tr>\n",
              "  </thead>\n",
              "  <tbody>\n",
              "    <tr>\n",
              "      <th>B0002L5R78</th>\n",
              "      <td>9487</td>\n",
              "    </tr>\n",
              "    <tr>\n",
              "      <th>B0001FTVEK</th>\n",
              "      <td>5345</td>\n",
              "    </tr>\n",
              "    <tr>\n",
              "      <th>B000I68BD4</th>\n",
              "      <td>4903</td>\n",
              "    </tr>\n",
              "    <tr>\n",
              "      <th>B000BQ7GW8</th>\n",
              "      <td>4275</td>\n",
              "    </tr>\n",
              "    <tr>\n",
              "      <th>B00007E7JU</th>\n",
              "      <td>3523</td>\n",
              "    </tr>\n",
              "    <tr>\n",
              "      <th>B000BKJZ9Q</th>\n",
              "      <td>3219</td>\n",
              "    </tr>\n",
              "    <tr>\n",
              "      <th>B000B9RI14</th>\n",
              "      <td>2996</td>\n",
              "    </tr>\n",
              "    <tr>\n",
              "      <th>B000A6PPOK</th>\n",
              "      <td>2828</td>\n",
              "    </tr>\n",
              "    <tr>\n",
              "      <th>B00007M1TZ</th>\n",
              "      <td>2608</td>\n",
              "    </tr>\n",
              "    <tr>\n",
              "      <th>B00004ZCJE</th>\n",
              "      <td>2547</td>\n",
              "    </tr>\n",
              "  </tbody>\n",
              "</table>\n",
              "</div><br><label><b>dtype:</b> int64</label>"
            ]
          },
          "metadata": {},
          "execution_count": 13
        }
      ]
    },
    {
      "cell_type": "markdown",
      "source": [
        "## 🗑️ Dropping the Timestamp Column\n",
        "\n",
        "The **`timestamp`** column represents the time when the rating was submitted.  \n",
        "Since we are not using time-based analysis in this project, we can safely drop this column to keep the dataset clean and focused."
      ],
      "metadata": {
        "id": "6wFPwHdrlUx5"
      }
    },
    {
      "cell_type": "code",
      "source": [
        "# Dropping the 'timestamp' column as it's not required\n",
        "electronics_data.drop(['timestamp'], axis=1, inplace=True)\n",
        "\n",
        "# Confirming the removal\n",
        "electronics_data.head()"
      ],
      "metadata": {
        "colab": {
          "base_uri": "https://localhost:8080/",
          "height": 206
        },
        "id": "If2ID7tplH3a",
        "outputId": "fda600a9-d951-47bd-b72d-452dbacc0e7c"
      },
      "execution_count": 14,
      "outputs": [
        {
          "output_type": "execute_result",
          "data": {
            "text/plain": [
              "           userId   productId  Rating\n",
              "0   AKM1MP6P0OYPR  0132793040     5.0\n",
              "1  A2CX7LUOHB2NDG  0321732944     5.0\n",
              "2  A2NWSAGRHCP8N5  0439886341     1.0\n",
              "3  A2WNBOD3WNDNKT  0439886341     3.0\n",
              "4  A1GI0U4ZRJA8WN  0439886341     1.0"
            ],
            "text/html": [
              "\n",
              "  <div id=\"df-549ed017-1fb5-492a-a9cc-898ec26911e3\" class=\"colab-df-container\">\n",
              "    <div>\n",
              "<style scoped>\n",
              "    .dataframe tbody tr th:only-of-type {\n",
              "        vertical-align: middle;\n",
              "    }\n",
              "\n",
              "    .dataframe tbody tr th {\n",
              "        vertical-align: top;\n",
              "    }\n",
              "\n",
              "    .dataframe thead th {\n",
              "        text-align: right;\n",
              "    }\n",
              "</style>\n",
              "<table border=\"1\" class=\"dataframe\">\n",
              "  <thead>\n",
              "    <tr style=\"text-align: right;\">\n",
              "      <th></th>\n",
              "      <th>userId</th>\n",
              "      <th>productId</th>\n",
              "      <th>Rating</th>\n",
              "    </tr>\n",
              "  </thead>\n",
              "  <tbody>\n",
              "    <tr>\n",
              "      <th>0</th>\n",
              "      <td>AKM1MP6P0OYPR</td>\n",
              "      <td>0132793040</td>\n",
              "      <td>5.0</td>\n",
              "    </tr>\n",
              "    <tr>\n",
              "      <th>1</th>\n",
              "      <td>A2CX7LUOHB2NDG</td>\n",
              "      <td>0321732944</td>\n",
              "      <td>5.0</td>\n",
              "    </tr>\n",
              "    <tr>\n",
              "      <th>2</th>\n",
              "      <td>A2NWSAGRHCP8N5</td>\n",
              "      <td>0439886341</td>\n",
              "      <td>1.0</td>\n",
              "    </tr>\n",
              "    <tr>\n",
              "      <th>3</th>\n",
              "      <td>A2WNBOD3WNDNKT</td>\n",
              "      <td>0439886341</td>\n",
              "      <td>3.0</td>\n",
              "    </tr>\n",
              "    <tr>\n",
              "      <th>4</th>\n",
              "      <td>A1GI0U4ZRJA8WN</td>\n",
              "      <td>0439886341</td>\n",
              "      <td>1.0</td>\n",
              "    </tr>\n",
              "  </tbody>\n",
              "</table>\n",
              "</div>\n",
              "    <div class=\"colab-df-buttons\">\n",
              "\n",
              "  <div class=\"colab-df-container\">\n",
              "    <button class=\"colab-df-convert\" onclick=\"convertToInteractive('df-549ed017-1fb5-492a-a9cc-898ec26911e3')\"\n",
              "            title=\"Convert this dataframe to an interactive table.\"\n",
              "            style=\"display:none;\">\n",
              "\n",
              "  <svg xmlns=\"http://www.w3.org/2000/svg\" height=\"24px\" viewBox=\"0 -960 960 960\">\n",
              "    <path d=\"M120-120v-720h720v720H120Zm60-500h600v-160H180v160Zm220 220h160v-160H400v160Zm0 220h160v-160H400v160ZM180-400h160v-160H180v160Zm440 0h160v-160H620v160ZM180-180h160v-160H180v160Zm440 0h160v-160H620v160Z\"/>\n",
              "  </svg>\n",
              "    </button>\n",
              "\n",
              "  <style>\n",
              "    .colab-df-container {\n",
              "      display:flex;\n",
              "      gap: 12px;\n",
              "    }\n",
              "\n",
              "    .colab-df-convert {\n",
              "      background-color: #E8F0FE;\n",
              "      border: none;\n",
              "      border-radius: 50%;\n",
              "      cursor: pointer;\n",
              "      display: none;\n",
              "      fill: #1967D2;\n",
              "      height: 32px;\n",
              "      padding: 0 0 0 0;\n",
              "      width: 32px;\n",
              "    }\n",
              "\n",
              "    .colab-df-convert:hover {\n",
              "      background-color: #E2EBFA;\n",
              "      box-shadow: 0px 1px 2px rgba(60, 64, 67, 0.3), 0px 1px 3px 1px rgba(60, 64, 67, 0.15);\n",
              "      fill: #174EA6;\n",
              "    }\n",
              "\n",
              "    .colab-df-buttons div {\n",
              "      margin-bottom: 4px;\n",
              "    }\n",
              "\n",
              "    [theme=dark] .colab-df-convert {\n",
              "      background-color: #3B4455;\n",
              "      fill: #D2E3FC;\n",
              "    }\n",
              "\n",
              "    [theme=dark] .colab-df-convert:hover {\n",
              "      background-color: #434B5C;\n",
              "      box-shadow: 0px 1px 3px 1px rgba(0, 0, 0, 0.15);\n",
              "      filter: drop-shadow(0px 1px 2px rgba(0, 0, 0, 0.3));\n",
              "      fill: #FFFFFF;\n",
              "    }\n",
              "  </style>\n",
              "\n",
              "    <script>\n",
              "      const buttonEl =\n",
              "        document.querySelector('#df-549ed017-1fb5-492a-a9cc-898ec26911e3 button.colab-df-convert');\n",
              "      buttonEl.style.display =\n",
              "        google.colab.kernel.accessAllowed ? 'block' : 'none';\n",
              "\n",
              "      async function convertToInteractive(key) {\n",
              "        const element = document.querySelector('#df-549ed017-1fb5-492a-a9cc-898ec26911e3');\n",
              "        const dataTable =\n",
              "          await google.colab.kernel.invokeFunction('convertToInteractive',\n",
              "                                                    [key], {});\n",
              "        if (!dataTable) return;\n",
              "\n",
              "        const docLinkHtml = 'Like what you see? Visit the ' +\n",
              "          '<a target=\"_blank\" href=https://colab.research.google.com/notebooks/data_table.ipynb>data table notebook</a>'\n",
              "          + ' to learn more about interactive tables.';\n",
              "        element.innerHTML = '';\n",
              "        dataTable['output_type'] = 'display_data';\n",
              "        await google.colab.output.renderOutput(dataTable, element);\n",
              "        const docLink = document.createElement('div');\n",
              "        docLink.innerHTML = docLinkHtml;\n",
              "        element.appendChild(docLink);\n",
              "      }\n",
              "    </script>\n",
              "  </div>\n",
              "\n",
              "\n",
              "<div id=\"df-96777e4e-4694-4881-90e4-75ecb070f6a6\">\n",
              "  <button class=\"colab-df-quickchart\" onclick=\"quickchart('df-96777e4e-4694-4881-90e4-75ecb070f6a6')\"\n",
              "            title=\"Suggest charts\"\n",
              "            style=\"display:none;\">\n",
              "\n",
              "<svg xmlns=\"http://www.w3.org/2000/svg\" height=\"24px\"viewBox=\"0 0 24 24\"\n",
              "     width=\"24px\">\n",
              "    <g>\n",
              "        <path d=\"M19 3H5c-1.1 0-2 .9-2 2v14c0 1.1.9 2 2 2h14c1.1 0 2-.9 2-2V5c0-1.1-.9-2-2-2zM9 17H7v-7h2v7zm4 0h-2V7h2v10zm4 0h-2v-4h2v4z\"/>\n",
              "    </g>\n",
              "</svg>\n",
              "  </button>\n",
              "\n",
              "<style>\n",
              "  .colab-df-quickchart {\n",
              "      --bg-color: #E8F0FE;\n",
              "      --fill-color: #1967D2;\n",
              "      --hover-bg-color: #E2EBFA;\n",
              "      --hover-fill-color: #174EA6;\n",
              "      --disabled-fill-color: #AAA;\n",
              "      --disabled-bg-color: #DDD;\n",
              "  }\n",
              "\n",
              "  [theme=dark] .colab-df-quickchart {\n",
              "      --bg-color: #3B4455;\n",
              "      --fill-color: #D2E3FC;\n",
              "      --hover-bg-color: #434B5C;\n",
              "      --hover-fill-color: #FFFFFF;\n",
              "      --disabled-bg-color: #3B4455;\n",
              "      --disabled-fill-color: #666;\n",
              "  }\n",
              "\n",
              "  .colab-df-quickchart {\n",
              "    background-color: var(--bg-color);\n",
              "    border: none;\n",
              "    border-radius: 50%;\n",
              "    cursor: pointer;\n",
              "    display: none;\n",
              "    fill: var(--fill-color);\n",
              "    height: 32px;\n",
              "    padding: 0;\n",
              "    width: 32px;\n",
              "  }\n",
              "\n",
              "  .colab-df-quickchart:hover {\n",
              "    background-color: var(--hover-bg-color);\n",
              "    box-shadow: 0 1px 2px rgba(60, 64, 67, 0.3), 0 1px 3px 1px rgba(60, 64, 67, 0.15);\n",
              "    fill: var(--button-hover-fill-color);\n",
              "  }\n",
              "\n",
              "  .colab-df-quickchart-complete:disabled,\n",
              "  .colab-df-quickchart-complete:disabled:hover {\n",
              "    background-color: var(--disabled-bg-color);\n",
              "    fill: var(--disabled-fill-color);\n",
              "    box-shadow: none;\n",
              "  }\n",
              "\n",
              "  .colab-df-spinner {\n",
              "    border: 2px solid var(--fill-color);\n",
              "    border-color: transparent;\n",
              "    border-bottom-color: var(--fill-color);\n",
              "    animation:\n",
              "      spin 1s steps(1) infinite;\n",
              "  }\n",
              "\n",
              "  @keyframes spin {\n",
              "    0% {\n",
              "      border-color: transparent;\n",
              "      border-bottom-color: var(--fill-color);\n",
              "      border-left-color: var(--fill-color);\n",
              "    }\n",
              "    20% {\n",
              "      border-color: transparent;\n",
              "      border-left-color: var(--fill-color);\n",
              "      border-top-color: var(--fill-color);\n",
              "    }\n",
              "    30% {\n",
              "      border-color: transparent;\n",
              "      border-left-color: var(--fill-color);\n",
              "      border-top-color: var(--fill-color);\n",
              "      border-right-color: var(--fill-color);\n",
              "    }\n",
              "    40% {\n",
              "      border-color: transparent;\n",
              "      border-right-color: var(--fill-color);\n",
              "      border-top-color: var(--fill-color);\n",
              "    }\n",
              "    60% {\n",
              "      border-color: transparent;\n",
              "      border-right-color: var(--fill-color);\n",
              "    }\n",
              "    80% {\n",
              "      border-color: transparent;\n",
              "      border-right-color: var(--fill-color);\n",
              "      border-bottom-color: var(--fill-color);\n",
              "    }\n",
              "    90% {\n",
              "      border-color: transparent;\n",
              "      border-bottom-color: var(--fill-color);\n",
              "    }\n",
              "  }\n",
              "</style>\n",
              "\n",
              "  <script>\n",
              "    async function quickchart(key) {\n",
              "      const quickchartButtonEl =\n",
              "        document.querySelector('#' + key + ' button');\n",
              "      quickchartButtonEl.disabled = true;  // To prevent multiple clicks.\n",
              "      quickchartButtonEl.classList.add('colab-df-spinner');\n",
              "      try {\n",
              "        const charts = await google.colab.kernel.invokeFunction(\n",
              "            'suggestCharts', [key], {});\n",
              "      } catch (error) {\n",
              "        console.error('Error during call to suggestCharts:', error);\n",
              "      }\n",
              "      quickchartButtonEl.classList.remove('colab-df-spinner');\n",
              "      quickchartButtonEl.classList.add('colab-df-quickchart-complete');\n",
              "    }\n",
              "    (() => {\n",
              "      let quickchartButtonEl =\n",
              "        document.querySelector('#df-96777e4e-4694-4881-90e4-75ecb070f6a6 button');\n",
              "      quickchartButtonEl.style.display =\n",
              "        google.colab.kernel.accessAllowed ? 'block' : 'none';\n",
              "    })();\n",
              "  </script>\n",
              "</div>\n",
              "\n",
              "    </div>\n",
              "  </div>\n"
            ],
            "application/vnd.google.colaboratory.intrinsic+json": {
              "type": "dataframe",
              "variable_name": "electronics_data"
            }
          },
          "metadata": {},
          "execution_count": 14
        }
      ]
    },
    {
      "cell_type": "markdown",
      "source": [
        "## 📊 Analyzing User Rating Behavior\n",
        "\n",
        "Understanding how many products each user has rated helps us:\n",
        "- Identify **active users** who rate many products.\n",
        "- Detect **inactive users** who may have only rated a few products.\n",
        "- Prepare for filtering users during collaborative filtering (since very rare users may not be useful for recommendations)."
      ],
      "metadata": {
        "id": "wswNWzvXltRa"
      }
    },
    {
      "cell_type": "code",
      "source": [
        "# Number of products rated by each user\n",
        "no_of_rated_products_per_user = electronics_data.groupby(by='userId')['Rating'].count().sort_values(ascending=False)\n",
        "\n",
        "# Display the top 5 users who rated the most products\n",
        "no_of_rated_products_per_user.head()"
      ],
      "metadata": {
        "colab": {
          "base_uri": "https://localhost:8080/",
          "height": 272
        },
        "id": "AVjA1QyqlbIe",
        "outputId": "4fd12fb9-b3b2-4263-eef6-9cc4a8270202"
      },
      "execution_count": 15,
      "outputs": [
        {
          "output_type": "execute_result",
          "data": {
            "text/plain": [
              "userId\n",
              "A5JLAU2ARJ0BO     412\n",
              "A231WM2Z2JL0U3    249\n",
              "A25HBO5V8S8SEA    164\n",
              "A6FIAB28IS79      146\n",
              "AT6CZDCP4TRGA     128\n",
              "Name: Rating, dtype: int64"
            ],
            "text/html": [
              "<div>\n",
              "<style scoped>\n",
              "    .dataframe tbody tr th:only-of-type {\n",
              "        vertical-align: middle;\n",
              "    }\n",
              "\n",
              "    .dataframe tbody tr th {\n",
              "        vertical-align: top;\n",
              "    }\n",
              "\n",
              "    .dataframe thead th {\n",
              "        text-align: right;\n",
              "    }\n",
              "</style>\n",
              "<table border=\"1\" class=\"dataframe\">\n",
              "  <thead>\n",
              "    <tr style=\"text-align: right;\">\n",
              "      <th></th>\n",
              "      <th>Rating</th>\n",
              "    </tr>\n",
              "    <tr>\n",
              "      <th>userId</th>\n",
              "      <th></th>\n",
              "    </tr>\n",
              "  </thead>\n",
              "  <tbody>\n",
              "    <tr>\n",
              "      <th>A5JLAU2ARJ0BO</th>\n",
              "      <td>412</td>\n",
              "    </tr>\n",
              "    <tr>\n",
              "      <th>A231WM2Z2JL0U3</th>\n",
              "      <td>249</td>\n",
              "    </tr>\n",
              "    <tr>\n",
              "      <th>A25HBO5V8S8SEA</th>\n",
              "      <td>164</td>\n",
              "    </tr>\n",
              "    <tr>\n",
              "      <th>A6FIAB28IS79</th>\n",
              "      <td>146</td>\n",
              "    </tr>\n",
              "    <tr>\n",
              "      <th>AT6CZDCP4TRGA</th>\n",
              "      <td>128</td>\n",
              "    </tr>\n",
              "  </tbody>\n",
              "</table>\n",
              "</div><br><label><b>dtype:</b> int64</label>"
            ]
          },
          "metadata": {},
          "execution_count": 15
        }
      ]
    },
    {
      "cell_type": "code",
      "source": [
        "# Summary statistics of the number of ratings per user\n",
        "no_of_rated_products_per_user.describe()"
      ],
      "metadata": {
        "colab": {
          "base_uri": "https://localhost:8080/",
          "height": 335
        },
        "id": "H-iRTUYkl7ZK",
        "outputId": "9575066b-3d50-4d2a-8457-bad2d2de602c"
      },
      "execution_count": 16,
      "outputs": [
        {
          "output_type": "execute_result",
          "data": {
            "text/plain": [
              "count    786330.000000\n",
              "mean          1.333506\n",
              "std           1.385612\n",
              "min           1.000000\n",
              "25%           1.000000\n",
              "50%           1.000000\n",
              "75%           1.000000\n",
              "max         412.000000\n",
              "Name: Rating, dtype: float64"
            ],
            "text/html": [
              "<div>\n",
              "<style scoped>\n",
              "    .dataframe tbody tr th:only-of-type {\n",
              "        vertical-align: middle;\n",
              "    }\n",
              "\n",
              "    .dataframe tbody tr th {\n",
              "        vertical-align: top;\n",
              "    }\n",
              "\n",
              "    .dataframe thead th {\n",
              "        text-align: right;\n",
              "    }\n",
              "</style>\n",
              "<table border=\"1\" class=\"dataframe\">\n",
              "  <thead>\n",
              "    <tr style=\"text-align: right;\">\n",
              "      <th></th>\n",
              "      <th>Rating</th>\n",
              "    </tr>\n",
              "  </thead>\n",
              "  <tbody>\n",
              "    <tr>\n",
              "      <th>count</th>\n",
              "      <td>786330.000000</td>\n",
              "    </tr>\n",
              "    <tr>\n",
              "      <th>mean</th>\n",
              "      <td>1.333506</td>\n",
              "    </tr>\n",
              "    <tr>\n",
              "      <th>std</th>\n",
              "      <td>1.385612</td>\n",
              "    </tr>\n",
              "    <tr>\n",
              "      <th>min</th>\n",
              "      <td>1.000000</td>\n",
              "    </tr>\n",
              "    <tr>\n",
              "      <th>25%</th>\n",
              "      <td>1.000000</td>\n",
              "    </tr>\n",
              "    <tr>\n",
              "      <th>50%</th>\n",
              "      <td>1.000000</td>\n",
              "    </tr>\n",
              "    <tr>\n",
              "      <th>75%</th>\n",
              "      <td>1.000000</td>\n",
              "    </tr>\n",
              "    <tr>\n",
              "      <th>max</th>\n",
              "      <td>412.000000</td>\n",
              "    </tr>\n",
              "  </tbody>\n",
              "</table>\n",
              "</div><br><label><b>dtype:</b> float64</label>"
            ]
          },
          "metadata": {},
          "execution_count": 16
        }
      ]
    },
    {
      "cell_type": "markdown",
      "source": [
        "**🔍 Observations:**\n",
        "- There are 786,330 unique users.\n",
        "- 75% of users have rated only 1 product, meaning most users are not very active.\n",
        "- The most active user rated 412 products.\n",
        "- The average number of ratings per user is just 1.33, showing a very sparse dataset (common in recommendation systems)."
      ],
      "metadata": {
        "id": "TDspj0QmmMha"
      }
    },
    {
      "cell_type": "markdown",
      "source": [
        "## 📈 Quantile Analysis of User Ratings\n",
        "\n",
        "To understand how user activity is distributed across the dataset, we will:\n",
        "- Calculate the **quantiles** of the number of ratings per user.\n",
        "- Visualize how user activity drops off.\n",
        "- Identify thresholds for filtering out less active users if needed.\n",
        "\n",
        "This helps us decide whether to filter users who have rated very few products, which can improve collaborative filtering performance."
      ],
      "metadata": {
        "id": "lwwsTT9xmw_L"
      }
    },
    {
      "cell_type": "code",
      "source": [
        "# Calculate quantiles for number of ratings per user\n",
        "quantiles = no_of_rated_products_per_user.quantile(np.arange(0, 1.01, 0.01), interpolation='higher')\n",
        "\n",
        "# Plot quantile distribution\n",
        "plt.figure(figsize=(10, 10))\n",
        "plt.title(\"Quantiles and their Values\")\n",
        "\n",
        "# Line plot of quantiles\n",
        "quantiles.plot()\n",
        "\n",
        "# Highlight quantiles with 0.05 difference\n",
        "plt.scatter(x=quantiles.index[::5], y=quantiles.values[::5], c='orange', label=\"Quantiles at 5% intervals\")\n",
        "\n",
        "# Highlight quantiles with 0.25 difference\n",
        "plt.scatter(x=quantiles.index[::25], y=quantiles.values[::25], c='magenta', label=\"Quantiles at 25% intervals\")\n",
        "\n",
        "plt.ylabel('Number of Ratings per User')\n",
        "plt.xlabel('Quantile')\n",
        "plt.legend(loc='best')\n",
        "plt.show()"
      ],
      "metadata": {
        "colab": {
          "base_uri": "https://localhost:8080/",
          "height": 1000
        },
        "id": "XGYGr7hymDsR",
        "outputId": "aaefe2b8-79fe-4a09-8301-c1fb52d9d801"
      },
      "execution_count": 17,
      "outputs": [
        {
          "output_type": "execute_result",
          "data": {
            "text/plain": [
              "<Figure size 1000x1000 with 0 Axes>"
            ]
          },
          "metadata": {},
          "execution_count": 17
        },
        {
          "output_type": "execute_result",
          "data": {
            "text/plain": [
              "Text(0.5, 1.0, 'Quantiles and their Values')"
            ]
          },
          "metadata": {},
          "execution_count": 17
        },
        {
          "output_type": "execute_result",
          "data": {
            "text/plain": [
              "<Axes: title={'center': 'Quantiles and their Values'}>"
            ]
          },
          "metadata": {},
          "execution_count": 17
        },
        {
          "output_type": "execute_result",
          "data": {
            "text/plain": [
              "<matplotlib.collections.PathCollection at 0x7815cd295ad0>"
            ]
          },
          "metadata": {},
          "execution_count": 17
        },
        {
          "output_type": "execute_result",
          "data": {
            "text/plain": [
              "<matplotlib.collections.PathCollection at 0x7815cd2b1b90>"
            ]
          },
          "metadata": {},
          "execution_count": 17
        },
        {
          "output_type": "execute_result",
          "data": {
            "text/plain": [
              "Text(0, 0.5, 'Number of Ratings per User')"
            ]
          },
          "metadata": {},
          "execution_count": 17
        },
        {
          "output_type": "execute_result",
          "data": {
            "text/plain": [
              "Text(0.5, 0, 'Quantile')"
            ]
          },
          "metadata": {},
          "execution_count": 17
        },
        {
          "output_type": "execute_result",
          "data": {
            "text/plain": [
              "<matplotlib.legend.Legend at 0x7815cd2723d0>"
            ]
          },
          "metadata": {},
          "execution_count": 17
        },
        {
          "output_type": "display_data",
          "data": {
            "text/plain": [
              "<Figure size 1000x1000 with 1 Axes>"
            ],
            "image/png": "[encoded data removed]"
          },
          "metadata": {}
        }
      ]
    },
    {
      "cell_type": "markdown",
      "source": [
        "### ✅ Output Observation:\n",
        "- The quantile plot shows that **most users have rated very few products**, with almost **90% of users rating only 1 or 2 products**.\n",
        "- There's a sharp spike at the very end (near the 100th percentile), which represents the **small number of highly active users** (top 1%) who have rated over **400 products**.\n",
        "- This confirms the dataset's **sparsity**, which is typical in recommendation systems.\n",
        "\n"
      ],
      "metadata": {
        "id": "Gzcsv2nCnVeP"
      }
    },
    {
      "cell_type": "markdown",
      "source": [
        "## 🔎 Count of Active Users (Rating More Than 50 Products)\n",
        "\n",
        "To identify highly active users, let's count how many users have rated **50 or more products**.  \n",
        "These users are valuable for building strong collaborative filtering models since they provide more data."
      ],
      "metadata": {
        "id": "dVXOJQxGn0Uf"
      }
    },
    {
      "cell_type": "code",
      "source": [
        "# Count of users who have rated more than 50 products\n",
        "active_users_count = sum(no_of_rated_products_per_user >= 50)\n",
        "print('\\n Number of users who rated more than 50 products: {}\\n'.format(active_users_count))"
      ],
      "metadata": {
        "colab": {
          "base_uri": "https://localhost:8080/"
        },
        "id": "4r_tVNqDmviL",
        "outputId": "79d7d808-d215-4e22-faa4-694bd94209d2"
      },
      "execution_count": 18,
      "outputs": [
        {
          "output_type": "stream",
          "name": "stdout",
          "text": [
            "\n",
            " Number of users who rated more than 50 products: 38\n",
            "\n"
          ]
        }
      ]
    },
    {
      "cell_type": "markdown",
      "source": [
        "**🔍 Observations:**\n",
        "- Out of 786,330 users, only 38 users have rated more than 50 products.\n",
        "- This is less than 0.005% of the total users, highlighting extreme sparsity in user activity.\n",
        "- Most users have rated only 1 product, which is a common challenge in real-world recommendation systems (often referred to as the **cold start problem**)."
      ],
      "metadata": {
        "id": "VK8Va-D-ocX8"
      }
    },
    {
      "cell_type": "markdown",
      "source": [
        "## ⭐ Popularity-Based Recommendation System\n",
        "\n",
        "A **Popularity-Based Recommendation System** suggests products based on their overall popularity, without considering individual user preferences.\n",
        "\n",
        "### 🔹 How does it work?\n",
        "- It recommends items that are **frequently purchased**, **highly rated**, or **most viewed** by **all users**.\n",
        "- These recommendations are **the same for every user**, including new users who have no prior interactions.\n",
        "- Example: If a product is consistently purchased by most new users, it is likely to be recommended to every new user who signs up.\n",
        "\n",
        "### 🔹 Advantages:\n",
        "- Simple to implement.\n",
        "- Works well for new users (**cold-start problem**) since it does not rely on the user's past behavior.\n",
        "\n",
        "### 🔹 Disadvantages:\n",
        "- **No personalization**: Every user receives the same set of recommendations.\n",
        "- Ignores individual preferences, so it may not always be relevant.\n",
        "- Can't adapt based on what a user likes or dislikes.\n",
        "\n",
        "### 🔍 When to use:\n",
        "- For displaying trending products.\n",
        "- As a fallback when user behavior data is minimal.\n",
        "- In combination with other techniques (like in **hybrid recommenders**) to balance personalization and popularity.\n"
      ],
      "metadata": {
        "id": "o6UFl-c4WxAw"
      }
    },
    {
      "cell_type": "markdown",
      "source": [
        "## ✂️ Filtering Products with 50 or More Ratings\n",
        "\n",
        "To build a more reliable **Popularity-Based Recommendation System**,  \n",
        "we will filter out products that have received **fewer than 50 ratings**.  \n",
        "\n",
        "This helps us focus on products that have been rated by a larger number of users, ensuring better-quality and widely liked recommendations.\n"
      ],
      "metadata": {
        "id": "HSEUFeyzXrxv"
      }
    },
    {
      "cell_type": "code",
      "source": [
        "# Filter products with 50 or more ratings\n",
        "new_df = electronics_data.groupby(\"productId\").filter(lambda x: x['Rating'].count() >= 50)\n",
        "\n",
        "# Check the shape of the new filtered dataset\n",
        "new_df.shape"
      ],
      "metadata": {
        "colab": {
          "base_uri": "https://localhost:8080/"
        },
        "id": "0HF8G51DuZ91",
        "outputId": "dbf020d7-bae9-4c14-d66d-e4b31d3301e4"
      },
      "execution_count": 19,
      "outputs": [
        {
          "output_type": "execute_result",
          "data": {
            "text/plain": [
              "(677947, 3)"
            ]
          },
          "metadata": {},
          "execution_count": 19
        }
      ]
    },
    {
      "cell_type": "markdown",
      "source": [
        "## 📊 Visualizing Number of Ratings per Product (After Filtering)"
      ],
      "metadata": {
        "id": "hkUdWi9bvSEH"
      }
    },
    {
      "cell_type": "code",
      "source": [
        "# Count the number of ratings per product\n",
        "no_of_ratings_per_product = new_df.groupby('productId')['Rating'].count().sort_values(ascending=False)\n",
        "\n",
        "# Plot the number of ratings per product\n",
        "fig = plt.figure(figsize=plt.figaspect(0.5))\n",
        "ax = plt.gca()\n",
        "\n",
        "plt.plot(no_of_ratings_per_product.values)\n",
        "plt.title('Number of Ratings per Product (Filtered)')\n",
        "plt.xlabel('Products')\n",
        "plt.ylabel('Number of Ratings per Product')\n",
        "\n",
        "# Hide x-axis product labels to keep the plot clean\n",
        "ax.set_xticklabels([])\n",
        "\n",
        "plt.show()\n"
      ],
      "metadata": {
        "id": "uVa86qbbUOEV",
        "colab": {
          "base_uri": "https://localhost:8080/",
          "height": 718
        },
        "outputId": "297f668f-2a0d-4811-dbdd-47021fc2332a"
      },
      "execution_count": 20,
      "outputs": [
        {
          "output_type": "execute_result",
          "data": {
            "text/plain": [
              "[<matplotlib.lines.Line2D at 0x7815d1ba7ed0>]"
            ]
          },
          "metadata": {},
          "execution_count": 20
        },
        {
          "output_type": "execute_result",
          "data": {
            "text/plain": [
              "Text(0.5, 1.0, 'Number of Ratings per Product (Filtered)')"
            ]
          },
          "metadata": {},
          "execution_count": 20
        },
        {
          "output_type": "execute_result",
          "data": {
            "text/plain": [
              "Text(0.5, 0, 'Products')"
            ]
          },
          "metadata": {},
          "execution_count": 20
        },
        {
          "output_type": "execute_result",
          "data": {
            "text/plain": [
              "Text(0, 0.5, 'Number of Ratings per Product')"
            ]
          },
          "metadata": {},
          "execution_count": 20
        },
        {
          "output_type": "execute_result",
          "data": {
            "text/plain": [
              "[Text(-500.0, 0, ''),\n",
              " Text(0.0, 0, ''),\n",
              " Text(500.0, 0, ''),\n",
              " Text(1000.0, 0, ''),\n",
              " Text(1500.0, 0, ''),\n",
              " Text(2000.0, 0, ''),\n",
              " Text(2500.0, 0, ''),\n",
              " Text(3000.0, 0, ''),\n",
              " Text(3500.0, 0, ''),\n",
              " Text(4000.0, 0, ''),\n",
              " Text(4500.0, 0, '')]"
            ]
          },
          "metadata": {},
          "execution_count": 20
        },
        {
          "output_type": "display_data",
          "data": {
            "text/plain": [
              "<Figure size 960x480 with 1 Axes>"
            ],
            "image/png": "[encoded data removed]"
          },
          "metadata": {}
        }
      ]
    },
    {
      "cell_type": "markdown",
      "source": [
        "### ✅ Output Observation:\n",
        "- The plot shows a **long-tail distribution** where:\n",
        "  - A small number of products have **extremely high numbers of ratings** (over 9,000 ratings).\n",
        "  - Most products have **just over 50 ratings** (since we filtered for products with at least 50).\n",
        "- This confirms the typical behavior in e-commerce datasets, where a few products dominate in popularity, while the majority receive relatively few ratings.\n",
        "- Focusing on these popular products makes our **Popularity-Based Recommender** effective for showing trending or widely appreciated items."
      ],
      "metadata": {
        "id": "7baxuV5Jv9wz"
      }
    },
    {
      "cell_type": "markdown",
      "source": [
        "## ⭐ Average Ratings and Most Popular Products\n",
        "\n",
        "After filtering products with at least **50 ratings**, let's analyze:\n",
        "- The **average rating** of products.\n",
        "- The **highest-rated products**.\n",
        "- The **most rated (popular)** products.\n",
        "\n",
        "This helps us understand which products are not only popular but also well-rated.\n"
      ],
      "metadata": {
        "id": "LsHsAuOlX-0i"
      }
    },
    {
      "cell_type": "code",
      "source": [
        "# Display the average rating of the first few products\n",
        "new_df.groupby('productId')['Rating'].mean().head()"
      ],
      "metadata": {
        "id": "iQ9JoPTiX_Q6",
        "colab": {
          "base_uri": "https://localhost:8080/",
          "height": 272
        },
        "outputId": "cb8c2dbd-969b-41a0-81db-6319bb03bae7"
      },
      "execution_count": 21,
      "outputs": [
        {
          "output_type": "execute_result",
          "data": {
            "text/plain": [
              "productId\n",
              "0972683275    4.470980\n",
              "1400501466    3.560000\n",
              "1400501520    4.243902\n",
              "1400501776    3.884892\n",
              "1400532620    3.684211\n",
              "Name: Rating, dtype: float64"
            ],
            "text/html": [
              "<div>\n",
              "<style scoped>\n",
              "    .dataframe tbody tr th:only-of-type {\n",
              "        vertical-align: middle;\n",
              "    }\n",
              "\n",
              "    .dataframe tbody tr th {\n",
              "        vertical-align: top;\n",
              "    }\n",
              "\n",
              "    .dataframe thead th {\n",
              "        text-align: right;\n",
              "    }\n",
              "</style>\n",
              "<table border=\"1\" class=\"dataframe\">\n",
              "  <thead>\n",
              "    <tr style=\"text-align: right;\">\n",
              "      <th></th>\n",
              "      <th>Rating</th>\n",
              "    </tr>\n",
              "    <tr>\n",
              "      <th>productId</th>\n",
              "      <th></th>\n",
              "    </tr>\n",
              "  </thead>\n",
              "  <tbody>\n",
              "    <tr>\n",
              "      <th>0972683275</th>\n",
              "      <td>4.470980</td>\n",
              "    </tr>\n",
              "    <tr>\n",
              "      <th>1400501466</th>\n",
              "      <td>3.560000</td>\n",
              "    </tr>\n",
              "    <tr>\n",
              "      <th>1400501520</th>\n",
              "      <td>4.243902</td>\n",
              "    </tr>\n",
              "    <tr>\n",
              "      <th>1400501776</th>\n",
              "      <td>3.884892</td>\n",
              "    </tr>\n",
              "    <tr>\n",
              "      <th>1400532620</th>\n",
              "      <td>3.684211</td>\n",
              "    </tr>\n",
              "  </tbody>\n",
              "</table>\n",
              "</div><br><label><b>dtype:</b> float64</label>"
            ]
          },
          "metadata": {},
          "execution_count": 21
        }
      ]
    },
    {
      "cell_type": "code",
      "source": [
        "# Top 5 products with the highest average ratings\n",
        "new_df.groupby('productId')['Rating'].mean().sort_values(ascending=False).head()"
      ],
      "metadata": {
        "id": "QGguab6cYLuG",
        "colab": {
          "base_uri": "https://localhost:8080/",
          "height": 272
        },
        "outputId": "98a63581-e6dd-4da0-feb4-97134fa2dd0c"
      },
      "execution_count": 22,
      "outputs": [
        {
          "output_type": "execute_result",
          "data": {
            "text/plain": [
              "productId\n",
              "B0000DYV9H    4.947368\n",
              "B000053HC5    4.945783\n",
              "B00009R96C    4.885714\n",
              "B00005LE76    4.879310\n",
              "B000I1X3W8    4.869565\n",
              "Name: Rating, dtype: float64"
            ],
            "text/html": [
              "<div>\n",
              "<style scoped>\n",
              "    .dataframe tbody tr th:only-of-type {\n",
              "        vertical-align: middle;\n",
              "    }\n",
              "\n",
              "    .dataframe tbody tr th {\n",
              "        vertical-align: top;\n",
              "    }\n",
              "\n",
              "    .dataframe thead th {\n",
              "        text-align: right;\n",
              "    }\n",
              "</style>\n",
              "<table border=\"1\" class=\"dataframe\">\n",
              "  <thead>\n",
              "    <tr style=\"text-align: right;\">\n",
              "      <th></th>\n",
              "      <th>Rating</th>\n",
              "    </tr>\n",
              "    <tr>\n",
              "      <th>productId</th>\n",
              "      <th></th>\n",
              "    </tr>\n",
              "  </thead>\n",
              "  <tbody>\n",
              "    <tr>\n",
              "      <th>B0000DYV9H</th>\n",
              "      <td>4.947368</td>\n",
              "    </tr>\n",
              "    <tr>\n",
              "      <th>B000053HC5</th>\n",
              "      <td>4.945783</td>\n",
              "    </tr>\n",
              "    <tr>\n",
              "      <th>B00009R96C</th>\n",
              "      <td>4.885714</td>\n",
              "    </tr>\n",
              "    <tr>\n",
              "      <th>B00005LE76</th>\n",
              "      <td>4.879310</td>\n",
              "    </tr>\n",
              "    <tr>\n",
              "      <th>B000I1X3W8</th>\n",
              "      <td>4.869565</td>\n",
              "    </tr>\n",
              "  </tbody>\n",
              "</table>\n",
              "</div><br><label><b>dtype:</b> float64</label>"
            ]
          },
          "metadata": {},
          "execution_count": 22
        }
      ]
    },
    {
      "cell_type": "code",
      "source": [
        "# Products with the highest number of ratings\n",
        "new_df.groupby('productId')['Rating'].count().sort_values(ascending=False).head()"
      ],
      "metadata": {
        "id": "08xSQHYsYSTG",
        "colab": {
          "base_uri": "https://localhost:8080/",
          "height": 272
        },
        "outputId": "e01839f5-10b8-4301-920f-ae682a627afd"
      },
      "execution_count": 23,
      "outputs": [
        {
          "output_type": "execute_result",
          "data": {
            "text/plain": [
              "productId\n",
              "B0002L5R78    9487\n",
              "B0001FTVEK    5345\n",
              "B000I68BD4    4903\n",
              "B000BQ7GW8    4275\n",
              "B00007E7JU    3523\n",
              "Name: Rating, dtype: int64"
            ],
            "text/html": [
              "<div>\n",
              "<style scoped>\n",
              "    .dataframe tbody tr th:only-of-type {\n",
              "        vertical-align: middle;\n",
              "    }\n",
              "\n",
              "    .dataframe tbody tr th {\n",
              "        vertical-align: top;\n",
              "    }\n",
              "\n",
              "    .dataframe thead th {\n",
              "        text-align: right;\n",
              "    }\n",
              "</style>\n",
              "<table border=\"1\" class=\"dataframe\">\n",
              "  <thead>\n",
              "    <tr style=\"text-align: right;\">\n",
              "      <th></th>\n",
              "      <th>Rating</th>\n",
              "    </tr>\n",
              "    <tr>\n",
              "      <th>productId</th>\n",
              "      <th></th>\n",
              "    </tr>\n",
              "  </thead>\n",
              "  <tbody>\n",
              "    <tr>\n",
              "      <th>B0002L5R78</th>\n",
              "      <td>9487</td>\n",
              "    </tr>\n",
              "    <tr>\n",
              "      <th>B0001FTVEK</th>\n",
              "      <td>5345</td>\n",
              "    </tr>\n",
              "    <tr>\n",
              "      <th>B000I68BD4</th>\n",
              "      <td>4903</td>\n",
              "    </tr>\n",
              "    <tr>\n",
              "      <th>B000BQ7GW8</th>\n",
              "      <td>4275</td>\n",
              "    </tr>\n",
              "    <tr>\n",
              "      <th>B00007E7JU</th>\n",
              "      <td>3523</td>\n",
              "    </tr>\n",
              "  </tbody>\n",
              "</table>\n",
              "</div><br><label><b>dtype:</b> int64</label>"
            ]
          },
          "metadata": {},
          "execution_count": 23
        }
      ]
    },
    {
      "cell_type": "markdown",
      "source": [
        "## 📊 Average Rating & Rating Counts\n",
        "\n",
        "To build a **Popularity-Based Recommendation System**, we need:\n",
        "1. The **average rating** of each product.\n",
        "2. The **total number of ratings** each product has received.\n",
        "\n",
        "This helps us recommend products that are **both highly rated and widely rated**."
      ],
      "metadata": {
        "id": "4WdN0ovwY7Bj"
      }
    },
    {
      "cell_type": "code",
      "source": [
        "# Create a DataFrame with the mean rating for each product\n",
        "ratings_mean_count = pd.DataFrame(new_df.groupby('productId')['Rating'].mean())\n",
        "\n",
        "# Add a column for the count of ratings per product\n",
        "ratings_mean_count['rating_counts'] = new_df.groupby('productId')['Rating'].count()\n",
        "\n",
        "# Display the first few rows\n",
        "ratings_mean_count.head()"
      ],
      "metadata": {
        "colab": {
          "base_uri": "https://localhost:8080/",
          "height": 237
        },
        "id": "wizIF1rdY8Fy",
        "outputId": "c18fed46-0310-411d-84a7-2e512f6fa6f2"
      },
      "execution_count": 24,
      "outputs": [
        {
          "output_type": "execute_result",
          "data": {
            "text/plain": [
              "              Rating  rating_counts\n",
              "productId                          \n",
              "0972683275  4.470980           1051\n",
              "1400501466  3.560000            250\n",
              "1400501520  4.243902             82\n",
              "1400501776  3.884892            139\n",
              "1400532620  3.684211            171"
            ],
            "text/html": [
              "\n",
              "  <div id=\"df-e2ae3f0d-d220-48ef-a004-308ec96065b7\" class=\"colab-df-container\">\n",
              "    <div>\n",
              "<style scoped>\n",
              "    .dataframe tbody tr th:only-of-type {\n",
              "        vertical-align: middle;\n",
              "    }\n",
              "\n",
              "    .dataframe tbody tr th {\n",
              "        vertical-align: top;\n",
              "    }\n",
              "\n",
              "    .dataframe thead th {\n",
              "        text-align: right;\n",
              "    }\n",
              "</style>\n",
              "<table border=\"1\" class=\"dataframe\">\n",
              "  <thead>\n",
              "    <tr style=\"text-align: right;\">\n",
              "      <th></th>\n",
              "      <th>Rating</th>\n",
              "      <th>rating_counts</th>\n",
              "    </tr>\n",
              "    <tr>\n",
              "      <th>productId</th>\n",
              "      <th></th>\n",
              "      <th></th>\n",
              "    </tr>\n",
              "  </thead>\n",
              "  <tbody>\n",
              "    <tr>\n",
              "      <th>0972683275</th>\n",
              "      <td>4.470980</td>\n",
              "      <td>1051</td>\n",
              "    </tr>\n",
              "    <tr>\n",
              "      <th>1400501466</th>\n",
              "      <td>3.560000</td>\n",
              "      <td>250</td>\n",
              "    </tr>\n",
              "    <tr>\n",
              "      <th>1400501520</th>\n",
              "      <td>4.243902</td>\n",
              "      <td>82</td>\n",
              "    </tr>\n",
              "    <tr>\n",
              "      <th>1400501776</th>\n",
              "      <td>3.884892</td>\n",
              "      <td>139</td>\n",
              "    </tr>\n",
              "    <tr>\n",
              "      <th>1400532620</th>\n",
              "      <td>3.684211</td>\n",
              "      <td>171</td>\n",
              "    </tr>\n",
              "  </tbody>\n",
              "</table>\n",
              "</div>\n",
              "    <div class=\"colab-df-buttons\">\n",
              "\n",
              "  <div class=\"colab-df-container\">\n",
              "    <button class=\"colab-df-convert\" onclick=\"convertToInteractive('df-e2ae3f0d-d220-48ef-a004-308ec96065b7')\"\n",
              "            title=\"Convert this dataframe to an interactive table.\"\n",
              "            style=\"display:none;\">\n",
              "\n",
              "  <svg xmlns=\"http://www.w3.org/2000/svg\" height=\"24px\" viewBox=\"0 -960 960 960\">\n",
              "    <path d=\"M120-120v-720h720v720H120Zm60-500h600v-160H180v160Zm220 220h160v-160H400v160Zm0 220h160v-160H400v160ZM180-400h160v-160H180v160Zm440 0h160v-160H620v160ZM180-180h160v-160H180v160Zm440 0h160v-160H620v160Z\"/>\n",
              "  </svg>\n",
              "    </button>\n",
              "\n",
              "  <style>\n",
              "    .colab-df-container {\n",
              "      display:flex;\n",
              "      gap: 12px;\n",
              "    }\n",
              "\n",
              "    .colab-df-convert {\n",
              "      background-color: #E8F0FE;\n",
              "      border: none;\n",
              "      border-radius: 50%;\n",
              "      cursor: pointer;\n",
              "      display: none;\n",
              "      fill: #1967D2;\n",
              "      height: 32px;\n",
              "      padding: 0 0 0 0;\n",
              "      width: 32px;\n",
              "    }\n",
              "\n",
              "    .colab-df-convert:hover {\n",
              "      background-color: #E2EBFA;\n",
              "      box-shadow: 0px 1px 2px rgba(60, 64, 67, 0.3), 0px 1px 3px 1px rgba(60, 64, 67, 0.15);\n",
              "      fill: #174EA6;\n",
              "    }\n",
              "\n",
              "    .colab-df-buttons div {\n",
              "      margin-bottom: 4px;\n",
              "    }\n",
              "\n",
              "    [theme=dark] .colab-df-convert {\n",
              "      background-color: #3B4455;\n",
              "      fill: #D2E3FC;\n",
              "    }\n",
              "\n",
              "    [theme=dark] .colab-df-convert:hover {\n",
              "      background-color: #434B5C;\n",
              "      box-shadow: 0px 1px 3px 1px rgba(0, 0, 0, 0.15);\n",
              "      filter: drop-shadow(0px 1px 2px rgba(0, 0, 0, 0.3));\n",
              "      fill: #FFFFFF;\n",
              "    }\n",
              "  </style>\n",
              "\n",
              "    <script>\n",
              "      const buttonEl =\n",
              "        document.querySelector('#df-e2ae3f0d-d220-48ef-a004-308ec96065b7 button.colab-df-convert');\n",
              "      buttonEl.style.display =\n",
              "        google.colab.kernel.accessAllowed ? 'block' : 'none';\n",
              "\n",
              "      async function convertToInteractive(key) {\n",
              "        const element = document.querySelector('#df-e2ae3f0d-d220-48ef-a004-308ec96065b7');\n",
              "        const dataTable =\n",
              "          await google.colab.kernel.invokeFunction('convertToInteractive',\n",
              "                                                    [key], {});\n",
              "        if (!dataTable) return;\n",
              "\n",
              "        const docLinkHtml = 'Like what you see? Visit the ' +\n",
              "          '<a target=\"_blank\" href=https://colab.research.google.com/notebooks/data_table.ipynb>data table notebook</a>'\n",
              "          + ' to learn more about interactive tables.';\n",
              "        element.innerHTML = '';\n",
              "        dataTable['output_type'] = 'display_data';\n",
              "        await google.colab.output.renderOutput(dataTable, element);\n",
              "        const docLink = document.createElement('div');\n",
              "        docLink.innerHTML = docLinkHtml;\n",
              "        element.appendChild(docLink);\n",
              "      }\n",
              "    </script>\n",
              "  </div>\n",
              "\n",
              "\n",
              "<div id=\"df-36e7568c-aedb-4a96-859f-c197dcf6d85f\">\n",
              "  <button class=\"colab-df-quickchart\" onclick=\"quickchart('df-36e7568c-aedb-4a96-859f-c197dcf6d85f')\"\n",
              "            title=\"Suggest charts\"\n",
              "            style=\"display:none;\">\n",
              "\n",
              "<svg xmlns=\"http://www.w3.org/2000/svg\" height=\"24px\"viewBox=\"0 0 24 24\"\n",
              "     width=\"24px\">\n",
              "    <g>\n",
              "        <path d=\"M19 3H5c-1.1 0-2 .9-2 2v14c0 1.1.9 2 2 2h14c1.1 0 2-.9 2-2V5c0-1.1-.9-2-2-2zM9 17H7v-7h2v7zm4 0h-2V7h2v10zm4 0h-2v-4h2v4z\"/>\n",
              "    </g>\n",
              "</svg>\n",
              "  </button>\n",
              "\n",
              "<style>\n",
              "  .colab-df-quickchart {\n",
              "      --bg-color: #E8F0FE;\n",
              "      --fill-color: #1967D2;\n",
              "      --hover-bg-color: #E2EBFA;\n",
              "      --hover-fill-color: #174EA6;\n",
              "      --disabled-fill-color: #AAA;\n",
              "      --disabled-bg-color: #DDD;\n",
              "  }\n",
              "\n",
              "  [theme=dark] .colab-df-quickchart {\n",
              "      --bg-color: #3B4455;\n",
              "      --fill-color: #D2E3FC;\n",
              "      --hover-bg-color: #434B5C;\n",
              "      --hover-fill-color: #FFFFFF;\n",
              "      --disabled-bg-color: #3B4455;\n",
              "      --disabled-fill-color: #666;\n",
              "  }\n",
              "\n",
              "  .colab-df-quickchart {\n",
              "    background-color: var(--bg-color);\n",
              "    border: none;\n",
              "    border-radius: 50%;\n",
              "    cursor: pointer;\n",
              "    display: none;\n",
              "    fill: var(--fill-color);\n",
              "    height: 32px;\n",
              "    padding: 0;\n",
              "    width: 32px;\n",
              "  }\n",
              "\n",
              "  .colab-df-quickchart:hover {\n",
              "    background-color: var(--hover-bg-color);\n",
              "    box-shadow: 0 1px 2px rgba(60, 64, 67, 0.3), 0 1px 3px 1px rgba(60, 64, 67, 0.15);\n",
              "    fill: var(--button-hover-fill-color);\n",
              "  }\n",
              "\n",
              "  .colab-df-quickchart-complete:disabled,\n",
              "  .colab-df-quickchart-complete:disabled:hover {\n",
              "    background-color: var(--disabled-bg-color);\n",
              "    fill: var(--disabled-fill-color);\n",
              "    box-shadow: none;\n",
              "  }\n",
              "\n",
              "  .colab-df-spinner {\n",
              "    border: 2px solid var(--fill-color);\n",
              "    border-color: transparent;\n",
              "    border-bottom-color: var(--fill-color);\n",
              "    animation:\n",
              "      spin 1s steps(1) infinite;\n",
              "  }\n",
              "\n",
              "  @keyframes spin {\n",
              "    0% {\n",
              "      border-color: transparent;\n",
              "      border-bottom-color: var(--fill-color);\n",
              "      border-left-color: var(--fill-color);\n",
              "    }\n",
              "    20% {\n",
              "      border-color: transparent;\n",
              "      border-left-color: var(--fill-color);\n",
              "      border-top-color: var(--fill-color);\n",
              "    }\n",
              "    30% {\n",
              "      border-color: transparent;\n",
              "      border-left-color: var(--fill-color);\n",
              "      border-top-color: var(--fill-color);\n",
              "      border-right-color: var(--fill-color);\n",
              "    }\n",
              "    40% {\n",
              "      border-color: transparent;\n",
              "      border-right-color: var(--fill-color);\n",
              "      border-top-color: var(--fill-color);\n",
              "    }\n",
              "    60% {\n",
              "      border-color: transparent;\n",
              "      border-right-color: var(--fill-color);\n",
              "    }\n",
              "    80% {\n",
              "      border-color: transparent;\n",
              "      border-right-color: var(--fill-color);\n",
              "      border-bottom-color: var(--fill-color);\n",
              "    }\n",
              "    90% {\n",
              "      border-color: transparent;\n",
              "      border-bottom-color: var(--fill-color);\n",
              "    }\n",
              "  }\n",
              "</style>\n",
              "\n",
              "  <script>\n",
              "    async function quickchart(key) {\n",
              "      const quickchartButtonEl =\n",
              "        document.querySelector('#' + key + ' button');\n",
              "      quickchartButtonEl.disabled = true;  // To prevent multiple clicks.\n",
              "      quickchartButtonEl.classList.add('colab-df-spinner');\n",
              "      try {\n",
              "        const charts = await google.colab.kernel.invokeFunction(\n",
              "            'suggestCharts', [key], {});\n",
              "      } catch (error) {\n",
              "        console.error('Error during call to suggestCharts:', error);\n",
              "      }\n",
              "      quickchartButtonEl.classList.remove('colab-df-spinner');\n",
              "      quickchartButtonEl.classList.add('colab-df-quickchart-complete');\n",
              "    }\n",
              "    (() => {\n",
              "      let quickchartButtonEl =\n",
              "        document.querySelector('#df-36e7568c-aedb-4a96-859f-c197dcf6d85f button');\n",
              "      quickchartButtonEl.style.display =\n",
              "        google.colab.kernel.accessAllowed ? 'block' : 'none';\n",
              "    })();\n",
              "  </script>\n",
              "</div>\n",
              "\n",
              "    </div>\n",
              "  </div>\n"
            ],
            "application/vnd.google.colaboratory.intrinsic+json": {
              "type": "dataframe",
              "variable_name": "ratings_mean_count",
              "summary": "{\n  \"name\": \"ratings_mean_count\",\n  \"rows\": 3813,\n  \"fields\": [\n    {\n      \"column\": \"productId\",\n      \"properties\": {\n        \"dtype\": \"string\",\n        \"num_unique_values\": 3813,\n        \"samples\": [\n          \"B000F7VKL6\",\n          \"B000EGGRG6\",\n          \"B00006B7T7\"\n        ],\n        \"semantic_type\": \"\",\n        \"description\": \"\"\n      }\n    },\n    {\n      \"column\": \"Rating\",\n      \"properties\": {\n        \"dtype\": \"number\",\n        \"std\": 0.5593815245188963,\n        \"min\": 1.2037037037037037,\n        \"max\": 4.947368421052632,\n        \"num_unique_values\": 3005,\n        \"samples\": [\n          3.485294117647059,\n          3.756838905775076,\n          3.630434782608696\n        ],\n        \"semantic_type\": \"\",\n        \"description\": \"\"\n      }\n    },\n    {\n      \"column\": \"rating_counts\",\n      \"properties\": {\n        \"dtype\": \"number\",\n        \"std\": 319,\n        \"min\": 50,\n        \"max\": 9487,\n        \"num_unique_values\": 572,\n        \"samples\": [\n          1347,\n          326,\n          130\n        ],\n        \"semantic_type\": \"\",\n        \"description\": \"\"\n      }\n    }\n  ]\n}"
            }
          },
          "metadata": {},
          "execution_count": 24
        }
      ]
    },
    {
      "cell_type": "code",
      "source": [
        "# Find the maximum number of ratings for a single product\n",
        "ratings_mean_count['rating_counts'].max()"
      ],
      "metadata": {
        "id": "qi2oVJieY-2z",
        "colab": {
          "base_uri": "https://localhost:8080/"
        },
        "outputId": "aa6b8942-8045-4ebc-c627-dee90fabc94c"
      },
      "execution_count": 25,
      "outputs": [
        {
          "output_type": "execute_result",
          "data": {
            "text/plain": [
              "9487"
            ]
          },
          "metadata": {},
          "execution_count": 25
        }
      ]
    },
    {
      "cell_type": "markdown",
      "source": [
        "## 📊 Visualizations of Product Ratings and Popularity\n",
        "\n",
        "To better understand the distribution of ratings and the popularity of products, we will:\n",
        "- Visualize the distribution of **rating counts**.\n",
        "- Visualize the distribution of **average ratings**.\n",
        "- Plot the relationship between **average rating** and **number of ratings**.\n",
        "- Visualize the **top 30 most-rated products**."
      ],
      "metadata": {
        "id": "jSbkEL3wxpqP"
      }
    },
    {
      "cell_type": "markdown",
      "source": [
        "###🔹 Distribution of Rating Counts (How many ratings products have?)"
      ],
      "metadata": {
        "id": "OoNEwBDwxs4U"
      }
    },
    {
      "cell_type": "code",
      "source": [
        "plt.figure(figsize=(8,6))\n",
        "plt.rcParams['patch.force_edgecolor'] = True\n",
        "ratings_mean_count['rating_counts'].hist(bins=50)\n",
        "plt.title('Distribution of Number of Ratings per Product')\n",
        "plt.xlabel('Number of Ratings')\n",
        "plt.ylabel('Count of Products')\n",
        "plt.show()"
      ],
      "metadata": {
        "colab": {
          "base_uri": "https://localhost:8080/",
          "height": 651
        },
        "id": "66mBIL3sw_rF",
        "outputId": "9a430e65-5b1b-413b-e8e0-a13eb94f032e"
      },
      "execution_count": 26,
      "outputs": [
        {
          "output_type": "execute_result",
          "data": {
            "text/plain": [
              "<Figure size 800x600 with 0 Axes>"
            ]
          },
          "metadata": {},
          "execution_count": 26
        },
        {
          "output_type": "execute_result",
          "data": {
            "text/plain": [
              "<Axes: >"
            ]
          },
          "metadata": {},
          "execution_count": 26
        },
        {
          "output_type": "execute_result",
          "data": {
            "text/plain": [
              "Text(0.5, 1.0, 'Distribution of Number of Ratings per Product')"
            ]
          },
          "metadata": {},
          "execution_count": 26
        },
        {
          "output_type": "execute_result",
          "data": {
            "text/plain": [
              "Text(0.5, 0, 'Number of Ratings')"
            ]
          },
          "metadata": {},
          "execution_count": 26
        },
        {
          "output_type": "execute_result",
          "data": {
            "text/plain": [
              "Text(0, 0.5, 'Count of Products')"
            ]
          },
          "metadata": {},
          "execution_count": 26
        },
        {
          "output_type": "display_data",
          "data": {
            "text/plain": [
              "<Figure size 800x600 with 1 Axes>"
            ],
            "image/png": "[encoded data removed]"
          },
          "metadata": {}
        }
      ]
    },
    {
      "cell_type": "markdown",
      "source": [
        "#### ✅ Observation:\n",
        "- The majority of products have **around 50–200 ratings**, which aligns with our filtering of products having at least 50 ratings.\n",
        "- A **long tail distribution** is observed — very few products receive thousands of ratings, while most products receive significantly fewer.\n",
        "- Indicates **product popularity is highly skewed**."
      ],
      "metadata": {
        "id": "lU5KadiqzNF_"
      }
    },
    {
      "cell_type": "markdown",
      "source": [
        "###🔹 Distribution of Average Product Ratings"
      ],
      "metadata": {
        "id": "HXbX2HEOyL2D"
      }
    },
    {
      "cell_type": "code",
      "source": [
        "plt.figure(figsize=(8,6))\n",
        "plt.rcParams['patch.force_edgecolor'] = True\n",
        "ratings_mean_count['Rating'].hist(bins=50)\n",
        "plt.title('Distribution of Average Product Ratings')\n",
        "plt.xlabel('Average Rating')\n",
        "plt.ylabel('Count of Products')\n",
        "plt.show()"
      ],
      "metadata": {
        "colab": {
          "base_uri": "https://localhost:8080/",
          "height": 651
        },
        "id": "1D-PVjdwyJ1n",
        "outputId": "8af93e7f-0113-4544-90c9-0f0eb05a5730"
      },
      "execution_count": 27,
      "outputs": [
        {
          "output_type": "execute_result",
          "data": {
            "text/plain": [
              "<Figure size 800x600 with 0 Axes>"
            ]
          },
          "metadata": {},
          "execution_count": 27
        },
        {
          "output_type": "execute_result",
          "data": {
            "text/plain": [
              "<Axes: >"
            ]
          },
          "metadata": {},
          "execution_count": 27
        },
        {
          "output_type": "execute_result",
          "data": {
            "text/plain": [
              "Text(0.5, 1.0, 'Distribution of Average Product Ratings')"
            ]
          },
          "metadata": {},
          "execution_count": 27
        },
        {
          "output_type": "execute_result",
          "data": {
            "text/plain": [
              "Text(0.5, 0, 'Average Rating')"
            ]
          },
          "metadata": {},
          "execution_count": 27
        },
        {
          "output_type": "execute_result",
          "data": {
            "text/plain": [
              "Text(0, 0.5, 'Count of Products')"
            ]
          },
          "metadata": {},
          "execution_count": 27
        },
        {
          "output_type": "display_data",
          "data": {
            "text/plain": [
              "<Figure size 800x600 with 1 Axes>"
            ],
            "image/png": "[encoded data removed]"
          },
          "metadata": {}
        }
      ]
    },
    {
      "cell_type": "markdown",
      "source": [
        "#### ✅ Observation:\n",
        "- Most products have an **average rating between 3.5 and 5**.\n",
        "- The distribution is **right-skewed**, reflecting a tendency towards **positive feedback**.\n",
        "- Very few products receive low average ratings."
      ],
      "metadata": {
        "id": "2xcMSdsJzWPU"
      }
    },
    {
      "cell_type": "markdown",
      "source": [
        "###🔹 Relationship Between Average Rating and Number of Ratings"
      ],
      "metadata": {
        "id": "_c3mW2VnyRfk"
      }
    },
    {
      "cell_type": "code",
      "source": [
        "plt.figure(figsize=(8,6))\n",
        "plt.rcParams['patch.force_edgecolor'] = True\n",
        "sns.jointplot(x='Rating', y='rating_counts', data=ratings_mean_count, alpha=0.4)\n",
        "plt.show()"
      ],
      "metadata": {
        "colab": {
          "base_uri": "https://localhost:8080/",
          "height": 659
        },
        "id": "zYrigZazx03w",
        "outputId": "d0c99cce-c4d5-4aae-b26e-50bc013ba0f3"
      },
      "execution_count": 28,
      "outputs": [
        {
          "output_type": "execute_result",
          "data": {
            "text/plain": [
              "<Figure size 800x600 with 0 Axes>"
            ]
          },
          "metadata": {},
          "execution_count": 28
        },
        {
          "output_type": "execute_result",
          "data": {
            "text/plain": [
              "<seaborn.axisgrid.JointGrid at 0x7815cd1bc690>"
            ]
          },
          "metadata": {},
          "execution_count": 28
        },
        {
          "output_type": "display_data",
          "data": {
            "text/plain": [
              "<Figure size 800x600 with 0 Axes>"
            ]
          },
          "metadata": {}
        },
        {
          "output_type": "display_data",
          "data": {
            "text/plain": [
              "<Figure size 600x600 with 3 Axes>"
            ],
            "image/png": "[encoded data removed]"
          },
          "metadata": {}
        }
      ]
    },
    {
      "cell_type": "markdown",
      "source": [
        "#### ✅ Observation:\n",
        "- Popular products (those with many ratings) tend to have **high average ratings**.\n",
        "- Few products have **low ratings with high engagement**, which is typical in e-commerce data.\n",
        "- This positive correlation suggests popular products are often well-rated."
      ],
      "metadata": {
        "id": "PAcaUV8Czfe0"
      }
    },
    {
      "cell_type": "markdown",
      "source": [
        "###🔹 Top 30 Most-Rated Products"
      ],
      "metadata": {
        "id": "a-M556V-yj3h"
      }
    },
    {
      "cell_type": "code",
      "source": [
        "# Top 30 most popular products\n",
        "popular_products = pd.DataFrame(new_df.groupby('productId')['Rating'].count())\n",
        "most_popular = popular_products.sort_values('Rating', ascending=False)\n",
        "\n",
        "# Plot top 30 products\n",
        "most_popular.head(30).plot(kind=\"bar\", figsize=(12,6), color='skyblue')\n",
        "plt.title('Top 30 Most Rated Products')\n",
        "plt.xlabel('Product ID')\n",
        "plt.ylabel('Number of Ratings')\n",
        "plt.xticks(rotation=90)\n",
        "plt.show()"
      ],
      "metadata": {
        "colab": {
          "base_uri": "https://localhost:8080/",
          "height": 1000
        },
        "id": "OK1Jf9Gwyeus",
        "outputId": "b85ec7b0-4285-4b50-d172-1455a854850e"
      },
      "execution_count": 29,
      "outputs": [
        {
          "output_type": "execute_result",
          "data": {
            "text/plain": [
              "<Axes: xlabel='productId'>"
            ]
          },
          "metadata": {},
          "execution_count": 29
        },
        {
          "output_type": "execute_result",
          "data": {
            "text/plain": [
              "Text(0.5, 1.0, 'Top 30 Most Rated Products')"
            ]
          },
          "metadata": {},
          "execution_count": 29
        },
        {
          "output_type": "execute_result",
          "data": {
            "text/plain": [
              "Text(0.5, 0, 'Product ID')"
            ]
          },
          "metadata": {},
          "execution_count": 29
        },
        {
          "output_type": "execute_result",
          "data": {
            "text/plain": [
              "Text(0, 0.5, 'Number of Ratings')"
            ]
          },
          "metadata": {},
          "execution_count": 29
        },
        {
          "output_type": "execute_result",
          "data": {
            "text/plain": [
              "(array([ 0,  1,  2,  3,  4,  5,  6,  7,  8,  9, 10, 11, 12, 13, 14, 15, 16,\n",
              "        17, 18, 19, 20, 21, 22, 23, 24, 25, 26, 27, 28, 29]),\n",
              " [Text(0, 0, 'B0002L5R78'),\n",
              "  Text(1, 0, 'B0001FTVEK'),\n",
              "  Text(2, 0, 'B000I68BD4'),\n",
              "  Text(3, 0, 'B000BQ7GW8'),\n",
              "  Text(4, 0, 'B00007E7JU'),\n",
              "  Text(5, 0, 'B000BKJZ9Q'),\n",
              "  Text(6, 0, 'B000B9RI14'),\n",
              "  Text(7, 0, 'B000A6PPOK'),\n",
              "  Text(8, 0, 'B00007M1TZ'),\n",
              "  Text(9, 0, 'B00004ZCJE'),\n",
              "  Text(10, 0, 'B000CSWCQA'),\n",
              "  Text(11, 0, 'B000652M6Y'),\n",
              "  Text(12, 0, 'B00020S7XK'),\n",
              "  Text(13, 0, 'B0007MXZB2'),\n",
              "  Text(14, 0, 'B00001P4ZH'),\n",
              "  Text(15, 0, 'B00093IIRA'),\n",
              "  Text(16, 0, 'B00009R6TA'),\n",
              "  Text(17, 0, 'B000BTL0OA'),\n",
              "  Text(18, 0, 'B00007E7C8'),\n",
              "  Text(19, 0, 'B000CKVOOY'),\n",
              "  Text(20, 0, 'B00007KDVI'),\n",
              "  Text(21, 0, 'B000ID7QNI'),\n",
              "  Text(22, 0, 'B0007XJSQC'),\n",
              "  Text(23, 0, 'B000EPLP3C'),\n",
              "  Text(24, 0, 'B000HPV3RW'),\n",
              "  Text(25, 0, 'B000C1Z0HA'),\n",
              "  Text(26, 0, 'B00007EDZG'),\n",
              "  Text(27, 0, 'B000FBK3QK'),\n",
              "  Text(28, 0, 'B000065BP9'),\n",
              "  Text(29, 0, 'B00004T8R2')])"
            ]
          },
          "metadata": {},
          "execution_count": 29
        },
        {
          "output_type": "display_data",
          "data": {
            "text/plain": [
              "<Figure size 1200x600 with 1 Axes>"
            ],
            "image/png": "[encoded data removed]"
          },
          "metadata": {}
        }
      ]
    },
    {
      "cell_type": "markdown",
      "source": [
        "#### ✅ Observation:\n",
        "- The chart shows the **top 30 most rated products**.\n",
        "- These products are highly popular and would be **ideal candidates** for a **popularity-based recommendation system**.\n",
        "- There is a sharp decline after the most popular products, again highlighting the long ta"
      ],
      "metadata": {
        "id": "0f9KnQcdzxrK"
      }
    },
    {
      "cell_type": "markdown",
      "source": [
        "###🔹 Implementation:"
      ],
      "metadata": {
        "id": "6uA6x7BQ0OpB"
      }
    },
    {
      "cell_type": "code",
      "source": [
        "# Get the count of ratings for each product\n",
        "popular_products = pd.DataFrame(new_df.groupby('productId')['Rating'].count())\n",
        "\n",
        "# Rename the column for clarity\n",
        "popular_products.rename(columns={'Rating': 'rating_count'}, inplace=True)\n",
        "\n",
        "# Sort products by rating count in descending order\n",
        "most_popular_products = popular_products.sort_values('rating_count', ascending=False).head(10)\n",
        "\n",
        "# Display the top 10 most popular products\n",
        "most_popular_products\n"
      ],
      "metadata": {
        "colab": {
          "base_uri": "https://localhost:8080/",
          "height": 394
        },
        "id": "bDG1tSLQyVKb",
        "outputId": "d76202f4-9bbd-4a1c-d87d-a3f2eae14531"
      },
      "execution_count": 30,
      "outputs": [
        {
          "output_type": "execute_result",
          "data": {
            "text/plain": [
              "            rating_count\n",
              "productId               \n",
              "B0002L5R78          9487\n",
              "B0001FTVEK          5345\n",
              "B000I68BD4          4903\n",
              "B000BQ7GW8          4275\n",
              "B00007E7JU          3523\n",
              "B000BKJZ9Q          3219\n",
              "B000B9RI14          2996\n",
              "B000A6PPOK          2828\n",
              "B00007M1TZ          2608\n",
              "B00004ZCJE          2547"
            ],
            "text/html": [
              "\n",
              "  <div id=\"df-517b24da-0795-4c50-b208-484b0ee309e3\" class=\"colab-df-container\">\n",
              "    <div>\n",
              "<style scoped>\n",
              "    .dataframe tbody tr th:only-of-type {\n",
              "        vertical-align: middle;\n",
              "    }\n",
              "\n",
              "    .dataframe tbody tr th {\n",
              "        vertical-align: top;\n",
              "    }\n",
              "\n",
              "    .dataframe thead th {\n",
              "        text-align: right;\n",
              "    }\n",
              "</style>\n",
              "<table border=\"1\" class=\"dataframe\">\n",
              "  <thead>\n",
              "    <tr style=\"text-align: right;\">\n",
              "      <th></th>\n",
              "      <th>rating_count</th>\n",
              "    </tr>\n",
              "    <tr>\n",
              "      <th>productId</th>\n",
              "      <th></th>\n",
              "    </tr>\n",
              "  </thead>\n",
              "  <tbody>\n",
              "    <tr>\n",
              "      <th>B0002L5R78</th>\n",
              "      <td>9487</td>\n",
              "    </tr>\n",
              "    <tr>\n",
              "      <th>B0001FTVEK</th>\n",
              "      <td>5345</td>\n",
              "    </tr>\n",
              "    <tr>\n",
              "      <th>B000I68BD4</th>\n",
              "      <td>4903</td>\n",
              "    </tr>\n",
              "    <tr>\n",
              "      <th>B000BQ7GW8</th>\n",
              "      <td>4275</td>\n",
              "    </tr>\n",
              "    <tr>\n",
              "      <th>B00007E7JU</th>\n",
              "      <td>3523</td>\n",
              "    </tr>\n",
              "    <tr>\n",
              "      <th>B000BKJZ9Q</th>\n",
              "      <td>3219</td>\n",
              "    </tr>\n",
              "    <tr>\n",
              "      <th>B000B9RI14</th>\n",
              "      <td>2996</td>\n",
              "    </tr>\n",
              "    <tr>\n",
              "      <th>B000A6PPOK</th>\n",
              "      <td>2828</td>\n",
              "    </tr>\n",
              "    <tr>\n",
              "      <th>B00007M1TZ</th>\n",
              "      <td>2608</td>\n",
              "    </tr>\n",
              "    <tr>\n",
              "      <th>B00004ZCJE</th>\n",
              "      <td>2547</td>\n",
              "    </tr>\n",
              "  </tbody>\n",
              "</table>\n",
              "</div>\n",
              "    <div class=\"colab-df-buttons\">\n",
              "\n",
              "  <div class=\"colab-df-container\">\n",
              "    <button class=\"colab-df-convert\" onclick=\"convertToInteractive('df-517b24da-0795-4c50-b208-484b0ee309e3')\"\n",
              "            title=\"Convert this dataframe to an interactive table.\"\n",
              "            style=\"display:none;\">\n",
              "\n",
              "  <svg xmlns=\"http://www.w3.org/2000/svg\" height=\"24px\" viewBox=\"0 -960 960 960\">\n",
              "    <path d=\"M120-120v-720h720v720H120Zm60-500h600v-160H180v160Zm220 220h160v-160H400v160Zm0 220h160v-160H400v160ZM180-400h160v-160H180v160Zm440 0h160v-160H620v160ZM180-180h160v-160H180v160Zm440 0h160v-160H620v160Z\"/>\n",
              "  </svg>\n",
              "    </button>\n",
              "\n",
              "  <style>\n",
              "    .colab-df-container {\n",
              "      display:flex;\n",
              "      gap: 12px;\n",
              "    }\n",
              "\n",
              "    .colab-df-convert {\n",
              "      background-color: #E8F0FE;\n",
              "      border: none;\n",
              "      border-radius: 50%;\n",
              "      cursor: pointer;\n",
              "      display: none;\n",
              "      fill: #1967D2;\n",
              "      height: 32px;\n",
              "      padding: 0 0 0 0;\n",
              "      width: 32px;\n",
              "    }\n",
              "\n",
              "    .colab-df-convert:hover {\n",
              "      background-color: #E2EBFA;\n",
              "      box-shadow: 0px 1px 2px rgba(60, 64, 67, 0.3), 0px 1px 3px 1px rgba(60, 64, 67, 0.15);\n",
              "      fill: #174EA6;\n",
              "    }\n",
              "\n",
              "    .colab-df-buttons div {\n",
              "      margin-bottom: 4px;\n",
              "    }\n",
              "\n",
              "    [theme=dark] .colab-df-convert {\n",
              "      background-color: #3B4455;\n",
              "      fill: #D2E3FC;\n",
              "    }\n",
              "\n",
              "    [theme=dark] .colab-df-convert:hover {\n",
              "      background-color: #434B5C;\n",
              "      box-shadow: 0px 1px 3px 1px rgba(0, 0, 0, 0.15);\n",
              "      filter: drop-shadow(0px 1px 2px rgba(0, 0, 0, 0.3));\n",
              "      fill: #FFFFFF;\n",
              "    }\n",
              "  </style>\n",
              "\n",
              "    <script>\n",
              "      const buttonEl =\n",
              "        document.querySelector('#df-517b24da-0795-4c50-b208-484b0ee309e3 button.colab-df-convert');\n",
              "      buttonEl.style.display =\n",
              "        google.colab.kernel.accessAllowed ? 'block' : 'none';\n",
              "\n",
              "      async function convertToInteractive(key) {\n",
              "        const element = document.querySelector('#df-517b24da-0795-4c50-b208-484b0ee309e3');\n",
              "        const dataTable =\n",
              "          await google.colab.kernel.invokeFunction('convertToInteractive',\n",
              "                                                    [key], {});\n",
              "        if (!dataTable) return;\n",
              "\n",
              "        const docLinkHtml = 'Like what you see? Visit the ' +\n",
              "          '<a target=\"_blank\" href=https://colab.research.google.com/notebooks/data_table.ipynb>data table notebook</a>'\n",
              "          + ' to learn more about interactive tables.';\n",
              "        element.innerHTML = '';\n",
              "        dataTable['output_type'] = 'display_data';\n",
              "        await google.colab.output.renderOutput(dataTable, element);\n",
              "        const docLink = document.createElement('div');\n",
              "        docLink.innerHTML = docLinkHtml;\n",
              "        element.appendChild(docLink);\n",
              "      }\n",
              "    </script>\n",
              "  </div>\n",
              "\n",
              "\n",
              "<div id=\"df-1fbbbb32-0b0d-423c-a2c5-40cdc6023840\">\n",
              "  <button class=\"colab-df-quickchart\" onclick=\"quickchart('df-1fbbbb32-0b0d-423c-a2c5-40cdc6023840')\"\n",
              "            title=\"Suggest charts\"\n",
              "            style=\"display:none;\">\n",
              "\n",
              "<svg xmlns=\"http://www.w3.org/2000/svg\" height=\"24px\"viewBox=\"0 0 24 24\"\n",
              "     width=\"24px\">\n",
              "    <g>\n",
              "        <path d=\"M19 3H5c-1.1 0-2 .9-2 2v14c0 1.1.9 2 2 2h14c1.1 0 2-.9 2-2V5c0-1.1-.9-2-2-2zM9 17H7v-7h2v7zm4 0h-2V7h2v10zm4 0h-2v-4h2v4z\"/>\n",
              "    </g>\n",
              "</svg>\n",
              "  </button>\n",
              "\n",
              "<style>\n",
              "  .colab-df-quickchart {\n",
              "      --bg-color: #E8F0FE;\n",
              "      --fill-color: #1967D2;\n",
              "      --hover-bg-color: #E2EBFA;\n",
              "      --hover-fill-color: #174EA6;\n",
              "      --disabled-fill-color: #AAA;\n",
              "      --disabled-bg-color: #DDD;\n",
              "  }\n",
              "\n",
              "  [theme=dark] .colab-df-quickchart {\n",
              "      --bg-color: #3B4455;\n",
              "      --fill-color: #D2E3FC;\n",
              "      --hover-bg-color: #434B5C;\n",
              "      --hover-fill-color: #FFFFFF;\n",
              "      --disabled-bg-color: #3B4455;\n",
              "      --disabled-fill-color: #666;\n",
              "  }\n",
              "\n",
              "  .colab-df-quickchart {\n",
              "    background-color: var(--bg-color);\n",
              "    border: none;\n",
              "    border-radius: 50%;\n",
              "    cursor: pointer;\n",
              "    display: none;\n",
              "    fill: var(--fill-color);\n",
              "    height: 32px;\n",
              "    padding: 0;\n",
              "    width: 32px;\n",
              "  }\n",
              "\n",
              "  .colab-df-quickchart:hover {\n",
              "    background-color: var(--hover-bg-color);\n",
              "    box-shadow: 0 1px 2px rgba(60, 64, 67, 0.3), 0 1px 3px 1px rgba(60, 64, 67, 0.15);\n",
              "    fill: var(--button-hover-fill-color);\n",
              "  }\n",
              "\n",
              "  .colab-df-quickchart-complete:disabled,\n",
              "  .colab-df-quickchart-complete:disabled:hover {\n",
              "    background-color: var(--disabled-bg-color);\n",
              "    fill: var(--disabled-fill-color);\n",
              "    box-shadow: none;\n",
              "  }\n",
              "\n",
              "  .colab-df-spinner {\n",
              "    border: 2px solid var(--fill-color);\n",
              "    border-color: transparent;\n",
              "    border-bottom-color: var(--fill-color);\n",
              "    animation:\n",
              "      spin 1s steps(1) infinite;\n",
              "  }\n",
              "\n",
              "  @keyframes spin {\n",
              "    0% {\n",
              "      border-color: transparent;\n",
              "      border-bottom-color: var(--fill-color);\n",
              "      border-left-color: var(--fill-color);\n",
              "    }\n",
              "    20% {\n",
              "      border-color: transparent;\n",
              "      border-left-color: var(--fill-color);\n",
              "      border-top-color: var(--fill-color);\n",
              "    }\n",
              "    30% {\n",
              "      border-color: transparent;\n",
              "      border-left-color: var(--fill-color);\n",
              "      border-top-color: var(--fill-color);\n",
              "      border-right-color: var(--fill-color);\n",
              "    }\n",
              "    40% {\n",
              "      border-color: transparent;\n",
              "      border-right-color: var(--fill-color);\n",
              "      border-top-color: var(--fill-color);\n",
              "    }\n",
              "    60% {\n",
              "      border-color: transparent;\n",
              "      border-right-color: var(--fill-color);\n",
              "    }\n",
              "    80% {\n",
              "      border-color: transparent;\n",
              "      border-right-color: var(--fill-color);\n",
              "      border-bottom-color: var(--fill-color);\n",
              "    }\n",
              "    90% {\n",
              "      border-color: transparent;\n",
              "      border-bottom-color: var(--fill-color);\n",
              "    }\n",
              "  }\n",
              "</style>\n",
              "\n",
              "  <script>\n",
              "    async function quickchart(key) {\n",
              "      const quickchartButtonEl =\n",
              "        document.querySelector('#' + key + ' button');\n",
              "      quickchartButtonEl.disabled = true;  // To prevent multiple clicks.\n",
              "      quickchartButtonEl.classList.add('colab-df-spinner');\n",
              "      try {\n",
              "        const charts = await google.colab.kernel.invokeFunction(\n",
              "            'suggestCharts', [key], {});\n",
              "      } catch (error) {\n",
              "        console.error('Error during call to suggestCharts:', error);\n",
              "      }\n",
              "      quickchartButtonEl.classList.remove('colab-df-spinner');\n",
              "      quickchartButtonEl.classList.add('colab-df-quickchart-complete');\n",
              "    }\n",
              "    (() => {\n",
              "      let quickchartButtonEl =\n",
              "        document.querySelector('#df-1fbbbb32-0b0d-423c-a2c5-40cdc6023840 button');\n",
              "      quickchartButtonEl.style.display =\n",
              "        google.colab.kernel.accessAllowed ? 'block' : 'none';\n",
              "    })();\n",
              "  </script>\n",
              "</div>\n",
              "\n",
              "  <div id=\"id_fc4d2db4-28ed-4068-ba61-209984725fad\">\n",
              "    <style>\n",
              "      .colab-df-generate {\n",
              "        background-color: #E8F0FE;\n",
              "        border: none;\n",
              "        border-radius: 50%;\n",
              "        cursor: pointer;\n",
              "        display: none;\n",
              "        fill: #1967D2;\n",
              "        height: 32px;\n",
              "        padding: 0 0 0 0;\n",
              "        width: 32px;\n",
              "      }\n",
              "\n",
              "      .colab-df-generate:hover {\n",
              "        background-color: #E2EBFA;\n",
              "        box-shadow: 0px 1px 2px rgba(60, 64, 67, 0.3), 0px 1px 3px 1px rgba(60, 64, 67, 0.15);\n",
              "        fill: #174EA6;\n",
              "      }\n",
              "\n",
              "      [theme=dark] .colab-df-generate {\n",
              "        background-color: #3B4455;\n",
              "        fill: #D2E3FC;\n",
              "      }\n",
              "\n",
              "      [theme=dark] .colab-df-generate:hover {\n",
              "        background-color: #434B5C;\n",
              "        box-shadow: 0px 1px 3px 1px rgba(0, 0, 0, 0.15);\n",
              "        filter: drop-shadow(0px 1px 2px rgba(0, 0, 0, 0.3));\n",
              "        fill: #FFFFFF;\n",
              "      }\n",
              "    </style>\n",
              "    <button class=\"colab-df-generate\" onclick=\"generateWithVariable('most_popular_products')\"\n",
              "            title=\"Generate code using this dataframe.\"\n",
              "            style=\"display:none;\">\n",
              "\n",
              "  <svg xmlns=\"http://www.w3.org/2000/svg\" height=\"24px\"viewBox=\"0 0 24 24\"\n",
              "       width=\"24px\">\n",
              "    <path d=\"M7,19H8.4L18.45,9,17,7.55,7,17.6ZM5,21V16.75L18.45,3.32a2,2,0,0,1,2.83,0l1.4,1.43a1.91,1.91,0,0,1,.58,1.4,1.91,1.91,0,0,1-.58,1.4L9.25,21ZM18.45,9,17,7.55Zm-12,3A5.31,5.31,0,0,0,4.9,8.1,5.31,5.31,0,0,0,1,6.5,5.31,5.31,0,0,0,4.9,4.9,5.31,5.31,0,0,0,6.5,1,5.31,5.31,0,0,0,8.1,4.9,5.31,5.31,0,0,0,12,6.5,5.46,5.46,0,0,0,6.5,12Z\"/>\n",
              "  </svg>\n",
              "    </button>\n",
              "    <script>\n",
              "      (() => {\n",
              "      const buttonEl =\n",
              "        document.querySelector('#id_fc4d2db4-28ed-4068-ba61-209984725fad button.colab-df-generate');\n",
              "      buttonEl.style.display =\n",
              "        google.colab.kernel.accessAllowed ? 'block' : 'none';\n",
              "\n",
              "      buttonEl.onclick = () => {\n",
              "        google.colab.notebook.generateWithVariable('most_popular_products');\n",
              "      }\n",
              "      })();\n",
              "    </script>\n",
              "  </div>\n",
              "\n",
              "    </div>\n",
              "  </div>\n"
            ],
            "application/vnd.google.colaboratory.intrinsic+json": {
              "type": "dataframe",
              "variable_name": "most_popular_products",
              "summary": "{\n  \"name\": \"most_popular_products\",\n  \"rows\": 10,\n  \"fields\": [\n    {\n      \"column\": \"productId\",\n      \"properties\": {\n        \"dtype\": \"string\",\n        \"num_unique_values\": 10,\n        \"samples\": [\n          \"B00007M1TZ\",\n          \"B0001FTVEK\",\n          \"B000BKJZ9Q\"\n        ],\n        \"semantic_type\": \"\",\n        \"description\": \"\"\n      }\n    },\n    {\n      \"column\": \"rating_count\",\n      \"properties\": {\n        \"dtype\": \"number\",\n        \"std\": 2102,\n        \"min\": 2547,\n        \"max\": 9487,\n        \"num_unique_values\": 10,\n        \"samples\": [\n          2608,\n          5345,\n          3219\n        ],\n        \"semantic_type\": \"\",\n        \"description\": \"\"\n      }\n    }\n  ]\n}"
            }
          },
          "metadata": {},
          "execution_count": 30
        }
      ]
    },
    {
      "cell_type": "markdown",
      "source": [
        "### 🔍 Observations:\n",
        "- These are the **top trending products** in the dataset.\n",
        "- Every user would receive the **same recommendations**, regardless of their personal tastes.\n",
        "- This approach works well when:\n",
        "  - A user is new (cold-start problem).\n",
        "  - Personalization data is not available.\n",
        "  - Trending products need to be highlighted."
      ],
      "metadata": {
        "id": "kM_DLxh10moS"
      }
    },
    {
      "cell_type": "markdown",
      "source": [
        ":# 🔄 Collaborative Filtering Recommendation System\n",
        "\n",
        "Unlike popularity-based recommendations, **Collaborative Filtering (CF)** provides **personalized recommendations** based on user behavior.\n",
        "\n",
        "### ✅ How Collaborative Filtering works:\n",
        "- It finds **similar users** or **similar items** based on past ratings.\n",
        "- Recommends products that **similar users** have liked or that are **similar to products** the user has rated highly.\n",
        "  \n",
        "### 🔹 Two common types:\n",
        "1. **User-User Collaborative Filtering:**  \n",
        "   Finds users similar to you and recommends what they liked.\n",
        "   \n",
        "2. **Item-Item Collaborative Filtering:**  \n",
        "   Finds products similar to what you've rated highly and recommends similar products.\n"
      ],
      "metadata": {
        "id": "mmWru2vo1Pig"
      }
    },
    {
      "cell_type": "markdown",
      "source": [
        "🚀 Let's start with Item-Item Collaborative Filtering using K-Nearest Neighbors (KNN).\n",
        "###🔹 Implementation Setup:"
      ],
      "metadata": {
        "id": "OKzxbHXH1gbo"
      }
    },
    {
      "cell_type": "markdown",
      "source": [
        "Due to the large size of the dataset, we apply filtering to include only:\n",
        "- Users who have rated at least **10 products**.\n",
        "- Products that have received at least **50 ratings**.\n",
        "\n",
        "This reduces the matrix size and prevents memory crashes while ensuring meaningful recommendations."
      ],
      "metadata": {
        "id": "n8asvl1X3VWy"
      }
    },
    {
      "cell_type": "code",
      "source": [
        "# Filter users who have rated at least 10 products\n",
        "filtered_users = new_df.groupby('userId').filter(lambda x: x['Rating'].count() >= 5)\n",
        "\n",
        "# Filter products that have at least 50 ratings\n",
        "filtered_df = filtered_users.groupby('productId').filter(lambda x: x['Rating'].count() >= 25)\n",
        "\n",
        "print(f\"Filtered dataset shape: {filtered_df.shape}\")\n"
      ],
      "metadata": {
        "id": "H6i_wh4X0WDw",
        "colab": {
          "base_uri": "https://localhost:8080/"
        },
        "outputId": "5bfc64ec-f1d7-4c93-e6d7-8704b67e42e3"
      },
      "execution_count": 31,
      "outputs": [
        {
          "output_type": "stream",
          "name": "stdout",
          "text": [
            "Filtered dataset shape: (13285, 3)\n"
          ]
        }
      ]
    },
    {
      "cell_type": "markdown",
      "source": [
        "Then, use filtered_df to create the pivot table."
      ],
      "metadata": {
        "id": "1R3F9Adl3urF"
      }
    },
    {
      "cell_type": "markdown",
      "source": [
        "###Create the pivot table:"
      ],
      "metadata": {
        "id": "eq9qnGVAXkFH"
      }
    },
    {
      "cell_type": "code",
      "source": [
        "# Create pivot table (products as rows, users as columns)\n",
        "product_user_matrix = filtered_df.pivot_table(\n",
        "    index='productId',\n",
        "    columns='userId',\n",
        "    values='Rating'\n",
        ").fillna(0)\n",
        "\n",
        "print(f\"Pivot table shape: {product_user_matrix.shape}\")"
      ],
      "metadata": {
        "id": "0vUkivp44PSX",
        "colab": {
          "base_uri": "https://localhost:8080/"
        },
        "outputId": "cc66cc60-1558-4ec0-e1d7-2917cc50ca8d"
      },
      "execution_count": 32,
      "outputs": [
        {
          "output_type": "stream",
          "name": "stdout",
          "text": [
            "Pivot table shape: (279, 4635)\n"
          ]
        }
      ]
    },
    {
      "cell_type": "markdown",
      "source": [
        "# 🔄 Item-Item Collaborative Filtering (KNN)\n",
        "\n",
        "Now that we've reduced the dataset to a manageable size (**279 products** and **4635 users**), we can successfully apply **Item-Item Collaborative Filtering** using **K-Nearest Neighbors (KNN)**.\n",
        "\n",
        "This method helps us recommend products similar to a given product, based on user ratings."
      ],
      "metadata": {
        "id": "SoL1A3gZZQJA"
      }
    },
    {
      "cell_type": "markdown",
      "source": [
        "###✅ Step 1: Prepare the Sparse Matrix"
      ],
      "metadata": {
        "id": "ec7u3VsrZwEW"
      }
    },
    {
      "cell_type": "code",
      "source": [
        "from scipy.sparse import csr_matrix\n",
        "from sklearn.neighbors import NearestNeighbors\n",
        "\n",
        "# Convert the pivot table to a sparse matrix to optimize memory usage\n",
        "product_user_sparse_matrix = csr_matrix(product_user_matrix.values)"
      ],
      "metadata": {
        "id": "XqyS4yAXYo02"
      },
      "execution_count": 33,
      "outputs": []
    },
    {
      "cell_type": "markdown",
      "source": [
        "### ✅ Explanation:\n",
        "- We use a **sparse matrix** because most entries in the pivot table are zeros (unrated products).\n",
        "- Sparse matrices help reduce memory usage and speed up computation."
      ],
      "metadata": {
        "id": "IEPKbYycZ3s_"
      }
    },
    {
      "cell_type": "markdown",
      "source": [
        "###✅ Step 2: Initialize and Train the KNN Model"
      ],
      "metadata": {
        "id": "Wzbo8u28athm"
      }
    },
    {
      "cell_type": "code",
      "source": [
        "# Initialize the KNN model using cosine similarity\n",
        "model_knn = NearestNeighbors(metric='cosine', algorithm='brute')\n",
        "\n",
        "# Fit the model on the sparse product-user matrix\n",
        "model_knn.fit(product_user_sparse_matrix)"
      ],
      "metadata": {
        "colab": {
          "base_uri": "https://localhost:8080/",
          "height": 80
        },
        "id": "ehpBEVawZmtj",
        "outputId": "392e61fc-43d3-4a22-ac28-df836cb01198"
      },
      "execution_count": 34,
      "outputs": [
        {
          "output_type": "execute_result",
          "data": {
            "text/plain": [
              "NearestNeighbors(algorithm='brute', metric='cosine')"
            ],
            "text/html": [
              "<style>#sk-container-id-1 {\n",
              "  /* Definition of color scheme common for light and dark mode */\n",
              "  --sklearn-color-text: #000;\n",
              "  --sklearn-color-text-muted: #666;\n",
              "  --sklearn-color-line: gray;\n",
              "  /* Definition of color scheme for unfitted estimators */\n",
              "  --sklearn-color-unfitted-level-0: #fff5e6;\n",
              "  --sklearn-color-unfitted-level-1: #f6e4d2;\n",
              "  --sklearn-color-unfitted-level-2: #ffe0b3;\n",
              "  --sklearn-color-unfitted-level-3: chocolate;\n",
              "  /* Definition of color scheme for fitted estimators */\n",
              "  --sklearn-color-fitted-level-0: #f0f8ff;\n",
              "  --sklearn-color-fitted-level-1: #d4ebff;\n",
              "  --sklearn-color-fitted-level-2: #b3dbfd;\n",
              "  --sklearn-color-fitted-level-3: cornflowerblue;\n",
              "\n",
              "  /* Specific color for light theme */\n",
              "  --sklearn-color-text-on-default-background: var(--sg-text-color, var(--theme-code-foreground, var(--jp-content-font-color1, black)));\n",
              "  --sklearn-color-background: var(--sg-background-color, var(--theme-background, var(--jp-layout-color0, white)));\n",
              "  --sklearn-color-border-box: var(--sg-text-color, var(--theme-code-foreground, var(--jp-content-font-color1, black)));\n",
              "  --sklearn-color-icon: #696969;\n",
              "\n",
              "  @media (prefers-color-scheme: dark) {\n",
              "    /* Redefinition of color scheme for dark theme */\n",
              "    --sklearn-color-text-on-default-background: var(--sg-text-color, var(--theme-code-foreground, var(--jp-content-font-color1, white)));\n",
              "    --sklearn-color-background: var(--sg-background-color, var(--theme-background, var(--jp-layout-color0, #111)));\n",
              "    --sklearn-color-border-box: var(--sg-text-color, var(--theme-code-foreground, var(--jp-content-font-color1, white)));\n",
              "    --sklearn-color-icon: #878787;\n",
              "  }\n",
              "}\n",
              "\n",
              "#sk-container-id-1 {\n",
              "  color: var(--sklearn-color-text);\n",
              "}\n",
              "\n",
              "#sk-container-id-1 pre {\n",
              "  padding: 0;\n",
              "}\n",
              "\n",
              "#sk-container-id-1 input.sk-hidden--visually {\n",
              "  border: 0;\n",
              "  clip: rect(1px 1px 1px 1px);\n",
              "  clip: rect(1px, 1px, 1px, 1px);\n",
              "  height: 1px;\n",
              "  margin: -1px;\n",
              "  overflow: hidden;\n",
              "  padding: 0;\n",
              "  position: absolute;\n",
              "  width: 1px;\n",
              "}\n",
              "\n",
              "#sk-container-id-1 div.sk-dashed-wrapped {\n",
              "  border: 1px dashed var(--sklearn-color-line);\n",
              "  margin: 0 0.4em 0.5em 0.4em;\n",
              "  box-sizing: border-box;\n",
              "  padding-bottom: 0.4em;\n",
              "  background-color: var(--sklearn-color-background);\n",
              "}\n",
              "\n",
              "#sk-container-id-1 div.sk-container {\n",
              "  /* jupyter's `normalize.less` sets `[hidden] { display: none; }`\n",
              "     but bootstrap.min.css set `[hidden] { display: none !important; }`\n",
              "     so we also need the `!important` here to be able to override the\n",
              "     default hidden behavior on the sphinx rendered scikit-learn.org.\n",
              "     See: https://github.com/scikit-learn/scikit-learn/issues/21755 */\n",
              "  display: inline-block !important;\n",
              "  position: relative;\n",
              "}\n",
              "\n",
              "#sk-container-id-1 div.sk-text-repr-fallback {\n",
              "  display: none;\n",
              "}\n",
              "\n",
              "div.sk-parallel-item,\n",
              "div.sk-serial,\n",
              "div.sk-item {\n",
              "  /* draw centered vertical line to link estimators */\n",
              "  background-image: linear-gradient(var(--sklearn-color-text-on-default-background), var(--sklearn-color-text-on-default-background));\n",
              "  background-size: 2px 100%;\n",
              "  background-repeat: no-repeat;\n",
              "  background-position: center center;\n",
              "}\n",
              "\n",
              "/* Parallel-specific style estimator block */\n",
              "\n",
              "#sk-container-id-1 div.sk-parallel-item::after {\n",
              "  content: \"\";\n",
              "  width: 100%;\n",
              "  border-bottom: 2px solid var(--sklearn-color-text-on-default-background);\n",
              "  flex-grow: 1;\n",
              "}\n",
              "\n",
              "#sk-container-id-1 div.sk-parallel {\n",
              "  display: flex;\n",
              "  align-items: stretch;\n",
              "  justify-content: center;\n",
              "  background-color: var(--sklearn-color-background);\n",
              "  position: relative;\n",
              "}\n",
              "\n",
              "#sk-container-id-1 div.sk-parallel-item {\n",
              "  display: flex;\n",
              "  flex-direction: column;\n",
              "}\n",
              "\n",
              "#sk-container-id-1 div.sk-parallel-item:first-child::after {\n",
              "  align-self: flex-end;\n",
              "  width: 50%;\n",
              "}\n",
              "\n",
              "#sk-container-id-1 div.sk-parallel-item:last-child::after {\n",
              "  align-self: flex-start;\n",
              "  width: 50%;\n",
              "}\n",
              "\n",
              "#sk-container-id-1 div.sk-parallel-item:only-child::after {\n",
              "  width: 0;\n",
              "}\n",
              "\n",
              "/* Serial-specific style estimator block */\n",
              "\n",
              "#sk-container-id-1 div.sk-serial {\n",
              "  display: flex;\n",
              "  flex-direction: column;\n",
              "  align-items: center;\n",
              "  background-color: var(--sklearn-color-background);\n",
              "  padding-right: 1em;\n",
              "  padding-left: 1em;\n",
              "}\n",
              "\n",
              "\n",
              "/* Toggleable style: style used for estimator/Pipeline/ColumnTransformer box that is\n",
              "clickable and can be expanded/collapsed.\n",
              "- Pipeline and ColumnTransformer use this feature and define the default style\n",
              "- Estimators will overwrite some part of the style using the `sk-estimator` class\n",
              "*/\n",
              "\n",
              "/* Pipeline and ColumnTransformer style (default) */\n",
              "\n",
              "#sk-container-id-1 div.sk-toggleable {\n",
              "  /* Default theme specific background. It is overwritten whether we have a\n",
              "  specific estimator or a Pipeline/ColumnTransformer */\n",
              "  background-color: var(--sklearn-color-background);\n",
              "}\n",
              "\n",
              "/* Toggleable label */\n",
              "#sk-container-id-1 label.sk-toggleable__label {\n",
              "  cursor: pointer;\n",
              "  display: flex;\n",
              "  width: 100%;\n",
              "  margin-bottom: 0;\n",
              "  padding: 0.5em;\n",
              "  box-sizing: border-box;\n",
              "  text-align: center;\n",
              "  align-items: start;\n",
              "  justify-content: space-between;\n",
              "  gap: 0.5em;\n",
              "}\n",
              "\n",
              "#sk-container-id-1 label.sk-toggleable__label .caption {\n",
              "  font-size: 0.6rem;\n",
              "  font-weight: lighter;\n",
              "  color: var(--sklearn-color-text-muted);\n",
              "}\n",
              "\n",
              "#sk-container-id-1 label.sk-toggleable__label-arrow:before {\n",
              "  /* Arrow on the left of the label */\n",
              "  content: \"▸\";\n",
              "  float: left;\n",
              "  margin-right: 0.25em;\n",
              "  color: var(--sklearn-color-icon);\n",
              "}\n",
              "\n",
              "#sk-container-id-1 label.sk-toggleable__label-arrow:hover:before {\n",
              "  color: var(--sklearn-color-text);\n",
              "}\n",
              "\n",
              "/* Toggleable content - dropdown */\n",
              "\n",
              "#sk-container-id-1 div.sk-toggleable__content {\n",
              "  max-height: 0;\n",
              "  max-width: 0;\n",
              "  overflow: hidden;\n",
              "  text-align: left;\n",
              "  /* unfitted */\n",
              "  background-color: var(--sklearn-color-unfitted-level-0);\n",
              "}\n",
              "\n",
              "#sk-container-id-1 div.sk-toggleable__content.fitted {\n",
              "  /* fitted */\n",
              "  background-color: var(--sklearn-color-fitted-level-0);\n",
              "}\n",
              "\n",
              "#sk-container-id-1 div.sk-toggleable__content pre {\n",
              "  margin: 0.2em;\n",
              "  border-radius: 0.25em;\n",
              "  color: var(--sklearn-color-text);\n",
              "  /* unfitted */\n",
              "  background-color: var(--sklearn-color-unfitted-level-0);\n",
              "}\n",
              "\n",
              "#sk-container-id-1 div.sk-toggleable__content.fitted pre {\n",
              "  /* unfitted */\n",
              "  background-color: var(--sklearn-color-fitted-level-0);\n",
              "}\n",
              "\n",
              "#sk-container-id-1 input.sk-toggleable__control:checked~div.sk-toggleable__content {\n",
              "  /* Expand drop-down */\n",
              "  max-height: 200px;\n",
              "  max-width: 100%;\n",
              "  overflow: auto;\n",
              "}\n",
              "\n",
              "#sk-container-id-1 input.sk-toggleable__control:checked~label.sk-toggleable__label-arrow:before {\n",
              "  content: \"▾\";\n",
              "}\n",
              "\n",
              "/* Pipeline/ColumnTransformer-specific style */\n",
              "\n",
              "#sk-container-id-1 div.sk-label input.sk-toggleable__control:checked~label.sk-toggleable__label {\n",
              "  color: var(--sklearn-color-text);\n",
              "  background-color: var(--sklearn-color-unfitted-level-2);\n",
              "}\n",
              "\n",
              "#sk-container-id-1 div.sk-label.fitted input.sk-toggleable__control:checked~label.sk-toggleable__label {\n",
              "  background-color: var(--sklearn-color-fitted-level-2);\n",
              "}\n",
              "\n",
              "/* Estimator-specific style */\n",
              "\n",
              "/* Colorize estimator box */\n",
              "#sk-container-id-1 div.sk-estimator input.sk-toggleable__control:checked~label.sk-toggleable__label {\n",
              "  /* unfitted */\n",
              "  background-color: var(--sklearn-color-unfitted-level-2);\n",
              "}\n",
              "\n",
              "#sk-container-id-1 div.sk-estimator.fitted input.sk-toggleable__control:checked~label.sk-toggleable__label {\n",
              "  /* fitted */\n",
              "  background-color: var(--sklearn-color-fitted-level-2);\n",
              "}\n",
              "\n",
              "#sk-container-id-1 div.sk-label label.sk-toggleable__label,\n",
              "#sk-container-id-1 div.sk-label label {\n",
              "  /* The background is the default theme color */\n",
              "  color: var(--sklearn-color-text-on-default-background);\n",
              "}\n",
              "\n",
              "/* On hover, darken the color of the background */\n",
              "#sk-container-id-1 div.sk-label:hover label.sk-toggleable__label {\n",
              "  color: var(--sklearn-color-text);\n",
              "  background-color: var(--sklearn-color-unfitted-level-2);\n",
              "}\n",
              "\n",
              "/* Label box, darken color on hover, fitted */\n",
              "#sk-container-id-1 div.sk-label.fitted:hover label.sk-toggleable__label.fitted {\n",
              "  color: var(--sklearn-color-text);\n",
              "  background-color: var(--sklearn-color-fitted-level-2);\n",
              "}\n",
              "\n",
              "/* Estimator label */\n",
              "\n",
              "#sk-container-id-1 div.sk-label label {\n",
              "  font-family: monospace;\n",
              "  font-weight: bold;\n",
              "  display: inline-block;\n",
              "  line-height: 1.2em;\n",
              "}\n",
              "\n",
              "#sk-container-id-1 div.sk-label-container {\n",
              "  text-align: center;\n",
              "}\n",
              "\n",
              "/* Estimator-specific */\n",
              "#sk-container-id-1 div.sk-estimator {\n",
              "  font-family: monospace;\n",
              "  border: 1px dotted var(--sklearn-color-border-box);\n",
              "  border-radius: 0.25em;\n",
              "  box-sizing: border-box;\n",
              "  margin-bottom: 0.5em;\n",
              "  /* unfitted */\n",
              "  background-color: var(--sklearn-color-unfitted-level-0);\n",
              "}\n",
              "\n",
              "#sk-container-id-1 div.sk-estimator.fitted {\n",
              "  /* fitted */\n",
              "  background-color: var(--sklearn-color-fitted-level-0);\n",
              "}\n",
              "\n",
              "/* on hover */\n",
              "#sk-container-id-1 div.sk-estimator:hover {\n",
              "  /* unfitted */\n",
              "  background-color: var(--sklearn-color-unfitted-level-2);\n",
              "}\n",
              "\n",
              "#sk-container-id-1 div.sk-estimator.fitted:hover {\n",
              "  /* fitted */\n",
              "  background-color: var(--sklearn-color-fitted-level-2);\n",
              "}\n",
              "\n",
              "/* Specification for estimator info (e.g. \"i\" and \"?\") */\n",
              "\n",
              "/* Common style for \"i\" and \"?\" */\n",
              "\n",
              ".sk-estimator-doc-link,\n",
              "a:link.sk-estimator-doc-link,\n",
              "a:visited.sk-estimator-doc-link {\n",
              "  float: right;\n",
              "  font-size: smaller;\n",
              "  line-height: 1em;\n",
              "  font-family: monospace;\n",
              "  background-color: var(--sklearn-color-background);\n",
              "  border-radius: 1em;\n",
              "  height: 1em;\n",
              "  width: 1em;\n",
              "  text-decoration: none !important;\n",
              "  margin-left: 0.5em;\n",
              "  text-align: center;\n",
              "  /* unfitted */\n",
              "  border: var(--sklearn-color-unfitted-level-1) 1pt solid;\n",
              "  color: var(--sklearn-color-unfitted-level-1);\n",
              "}\n",
              "\n",
              ".sk-estimator-doc-link.fitted,\n",
              "a:link.sk-estimator-doc-link.fitted,\n",
              "a:visited.sk-estimator-doc-link.fitted {\n",
              "  /* fitted */\n",
              "  border: var(--sklearn-color-fitted-level-1) 1pt solid;\n",
              "  color: var(--sklearn-color-fitted-level-1);\n",
              "}\n",
              "\n",
              "/* On hover */\n",
              "div.sk-estimator:hover .sk-estimator-doc-link:hover,\n",
              ".sk-estimator-doc-link:hover,\n",
              "div.sk-label-container:hover .sk-estimator-doc-link:hover,\n",
              ".sk-estimator-doc-link:hover {\n",
              "  /* unfitted */\n",
              "  background-color: var(--sklearn-color-unfitted-level-3);\n",
              "  color: var(--sklearn-color-background);\n",
              "  text-decoration: none;\n",
              "}\n",
              "\n",
              "div.sk-estimator.fitted:hover .sk-estimator-doc-link.fitted:hover,\n",
              ".sk-estimator-doc-link.fitted:hover,\n",
              "div.sk-label-container:hover .sk-estimator-doc-link.fitted:hover,\n",
              ".sk-estimator-doc-link.fitted:hover {\n",
              "  /* fitted */\n",
              "  background-color: var(--sklearn-color-fitted-level-3);\n",
              "  color: var(--sklearn-color-background);\n",
              "  text-decoration: none;\n",
              "}\n",
              "\n",
              "/* Span, style for the box shown on hovering the info icon */\n",
              ".sk-estimator-doc-link span {\n",
              "  display: none;\n",
              "  z-index: 9999;\n",
              "  position: relative;\n",
              "  font-weight: normal;\n",
              "  right: .2ex;\n",
              "  padding: .5ex;\n",
              "  margin: .5ex;\n",
              "  width: min-content;\n",
              "  min-width: 20ex;\n",
              "  max-width: 50ex;\n",
              "  color: var(--sklearn-color-text);\n",
              "  box-shadow: 2pt 2pt 4pt #999;\n",
              "  /* unfitted */\n",
              "  background: var(--sklearn-color-unfitted-level-0);\n",
              "  border: .5pt solid var(--sklearn-color-unfitted-level-3);\n",
              "}\n",
              "\n",
              ".sk-estimator-doc-link.fitted span {\n",
              "  /* fitted */\n",
              "  background: var(--sklearn-color-fitted-level-0);\n",
              "  border: var(--sklearn-color-fitted-level-3);\n",
              "}\n",
              "\n",
              ".sk-estimator-doc-link:hover span {\n",
              "  display: block;\n",
              "}\n",
              "\n",
              "/* \"?\"-specific style due to the `<a>` HTML tag */\n",
              "\n",
              "#sk-container-id-1 a.estimator_doc_link {\n",
              "  float: right;\n",
              "  font-size: 1rem;\n",
              "  line-height: 1em;\n",
              "  font-family: monospace;\n",
              "  background-color: var(--sklearn-color-background);\n",
              "  border-radius: 1rem;\n",
              "  height: 1rem;\n",
              "  width: 1rem;\n",
              "  text-decoration: none;\n",
              "  /* unfitted */\n",
              "  color: var(--sklearn-color-unfitted-level-1);\n",
              "  border: var(--sklearn-color-unfitted-level-1) 1pt solid;\n",
              "}\n",
              "\n",
              "#sk-container-id-1 a.estimator_doc_link.fitted {\n",
              "  /* fitted */\n",
              "  border: var(--sklearn-color-fitted-level-1) 1pt solid;\n",
              "  color: var(--sklearn-color-fitted-level-1);\n",
              "}\n",
              "\n",
              "/* On hover */\n",
              "#sk-container-id-1 a.estimator_doc_link:hover {\n",
              "  /* unfitted */\n",
              "  background-color: var(--sklearn-color-unfitted-level-3);\n",
              "  color: var(--sklearn-color-background);\n",
              "  text-decoration: none;\n",
              "}\n",
              "\n",
              "#sk-container-id-1 a.estimator_doc_link.fitted:hover {\n",
              "  /* fitted */\n",
              "  background-color: var(--sklearn-color-fitted-level-3);\n",
              "}\n",
              "</style><div id=\"sk-container-id-1\" class=\"sk-top-container\"><div class=\"sk-text-repr-fallback\"><pre>NearestNeighbors(algorithm=&#x27;brute&#x27;, metric=&#x27;cosine&#x27;)</pre><b>In a Jupyter environment, please rerun this cell to show the HTML representation or trust the notebook. <br />On GitHub, the HTML representation is unable to render, please try loading this page with nbviewer.org.</b></div><div class=\"sk-container\" hidden><div class=\"sk-item\"><div class=\"sk-estimator fitted sk-toggleable\"><input class=\"sk-toggleable__control sk-hidden--visually\" id=\"sk-estimator-id-1\" type=\"checkbox\" checked><label for=\"sk-estimator-id-1\" class=\"sk-toggleable__label fitted sk-toggleable__label-arrow\"><div><div>NearestNeighbors</div></div><div><a class=\"sk-estimator-doc-link fitted\" rel=\"noreferrer\" target=\"_blank\" href=\"https://scikit-learn.org/1.6/modules/generated/sklearn.neighbors.NearestNeighbors.html\">?<span>Documentation for NearestNeighbors</span></a><span class=\"sk-estimator-doc-link fitted\">i<span>Fitted</span></span></div></label><div class=\"sk-toggleable__content fitted\"><pre>NearestNeighbors(algorithm=&#x27;brute&#x27;, metric=&#x27;cosine&#x27;)</pre></div> </div></div></div></div>"
            ]
          },
          "metadata": {},
          "execution_count": 34
        }
      ]
    },
    {
      "cell_type": "markdown",
      "source": [
        "### ✅ Explanation:\n",
        "- **Cosine similarity** measures how similar two products are, based on user ratings.\n",
        "- The **brute-force algorithm** is suitable here due to the dataset size."
      ],
      "metadata": {
        "id": "0AhMYrWLa8qv"
      }
    },
    {
      "cell_type": "markdown",
      "source": [
        "###✅ Step 3: Generate Item-Item Recommendations"
      ],
      "metadata": {
        "id": "H6hvn3pKbMPu"
      }
    },
    {
      "cell_type": "code",
      "source": [
        "# Randomly select a product to find similar products\n",
        "query_index = np.random.choice(product_user_matrix.shape[0])\n",
        "\n",
        "# Find the 6 nearest neighbors (including itself)\n",
        "distances, indices = model_knn.kneighbors(\n",
        "    product_user_matrix.iloc[query_index, :].values.reshape(1, -1),\n",
        "    n_neighbors=6\n",
        ")\n",
        "\n",
        "# Display recommendations\n",
        "print(f\"\\nRecommendations for Product ID: {product_user_matrix.index[query_index]}\\n\")\n",
        "for i in range(1, len(distances.flatten())):\n",
        "    print(f\"{i}: {product_user_matrix.index[indices.flatten()[i]]} (Distance: {distances.flatten()[i]:.4f})\")\n"
      ],
      "metadata": {
        "colab": {
          "base_uri": "https://localhost:8080/"
        },
        "id": "S13cg5A1a2Jt",
        "outputId": "e7bf96a2-1afd-4afc-c592-4e762651897f"
      },
      "execution_count": 35,
      "outputs": [
        {
          "output_type": "stream",
          "name": "stdout",
          "text": [
            "\n",
            "Recommendations for Product ID: B000ERAON2\n",
            "\n",
            "1: B000AV14M2 (Distance: 0.8758)\n",
            "2: B00091S0WA (Distance: 0.9065)\n",
            "3: B000EOMXM0 (Distance: 0.9330)\n",
            "4: B000FOYMKU (Distance: 0.9384)\n",
            "5: B0000AAAPF (Distance: 0.9417)\n"
          ]
        }
      ]
    },
    {
      "cell_type": "markdown",
      "source": [
        "## ✅ Item-Item Collaborative Filtering: Results\n",
        "\n",
        "We used **K-Nearest Neighbors (KNN)** to find products similar to a randomly selected product based on user ratings.\n",
        "\n",
        "### 🎯 Example Recommendation:\n",
        "For the product **Product ID: B00009R9A1**, the top 5 similar products are:\n",
        "\n",
        "| Rank | Similar Product ID | Similarity Distance |\n",
        "|------|--------------------|---------------------|\n",
        "| 1    | B00004ZCJE        | 0.8948             |\n",
        "| 2    | B00017LSPI        | 0.9254             |\n",
        "| 3    | B00009R6TA        | 0.9257             |\n",
        "| 4    | B0002YE686        | 0.9264             |\n",
        "| 5    | B00006JN3G        | 0.9409             |\n",
        "\n",
        "### ✅ Interpretation:\n",
        "- The **smaller the distance**, the **more similar** the product.\n",
        "- These recommendations are **personalized based on user behavior patterns** (collaborative filtering).\n",
        "- Users who liked **B00009R9A1** also rated these similar products highly.\n",
        "\n",
        "### 🔍 Observations:\n",
        "- Distances are relatively small (<1), showing reasonable similarity.\n",
        "- All recommended products are drawn from shared rating behaviors.\n",
        "- This system works well for finding **related products** without considering product content or attributes."
      ],
      "metadata": {
        "id": "n_YBdbj-cD8q"
      }
    },
    {
      "cell_type": "markdown",
      "source": [
        "## 🔄 Collaborative Filtering (Item-Item) with Surprise\n",
        "\n",
        "We will now use the **Surprise** library to implement **Item-Item Collaborative Filtering**.\n",
        "\n",
        "### ✅ Why Surprise?\n",
        "- Designed specifically for recommendation systems.\n",
        "- Handles data loading, train-test splitting, bias adjustment, similarity computations, and evaluation.\n",
        "- Supports both **User-User** and **Item-Item** collaborative filtering.\n",
        "\n",
        "---\n",
        "\n",
        "### ✅ Step 1: Import required libraries\n",
        "```python\n",
        "from surprise import KNNWithMeans, Dataset, accuracy, Reader\n",
        "from surprise.model_selection import train_test_split"
      ],
      "metadata": {
        "id": "rWZfPmscdosc"
      }
    },
    {
      "cell_type": "code",
      "source": [
        "!pip install scikit-surprise"
      ],
      "metadata": {
        "colab": {
          "base_uri": "https://localhost:8080/"
        },
        "id": "LySitTqWbO_4",
        "outputId": "494b4eca-3940-4b7b-a028-76f9cf6843a1"
      },
      "execution_count": 36,
      "outputs": [
        {
          "output_type": "stream",
          "name": "stdout",
          "text": [
            "Requirement already satisfied: scikit-surprise in /usr/local/lib/python3.11/dist-packages (1.1.4)\n",
            "Requirement already satisfied: joblib>=1.2.0 in /usr/local/lib/python3.11/dist-packages (from scikit-surprise) (1.4.2)\n",
            "Requirement already satisfied: numpy>=1.19.5 in /usr/local/lib/python3.11/dist-packages (from scikit-surprise) (1.26.4)\n",
            "Requirement already satisfied: scipy>=1.6.0 in /usr/local/lib/python3.11/dist-packages (from scikit-surprise) (1.13.1)\n"
          ]
        }
      ]
    },
    {
      "cell_type": "code",
      "source": [
        "from surprise import KNNWithMeans, Dataset, Reader, accuracy\n",
        "from surprise.model_selection import train_test_split"
      ],
      "metadata": {
        "id": "M4_093OidvoG"
      },
      "execution_count": 37,
      "outputs": []
    },
    {
      "cell_type": "markdown",
      "source": [
        "###✅ Step 2: Prepare the dataset"
      ],
      "metadata": {
        "id": "-iVTjebZen5e"
      }
    },
    {
      "cell_type": "code",
      "source": [
        "# Define the rating scale (from 1 to 5)\n",
        "reader = Reader(rating_scale=(1, 5))\n",
        "\n",
        "# Load the dataset into Surprise format from our filtered DataFrame\n",
        "# Note: Make sure we are using only the relevant columns: userId, productId, Rating\n",
        "data = Dataset.load_from_df(new_df[['userId', 'productId', 'Rating']], reader)"
      ],
      "metadata": {
        "id": "wrBIdk-4efIE"
      },
      "execution_count": 38,
      "outputs": []
    },
    {
      "cell_type": "markdown",
      "source": [
        "### ✅ Explanation:\n",
        "- **Reader:** Defines the scale of ratings so Surprise knows the minimum and maximum values.\n",
        "- **Dataset.load_from_df():** Converts our Pandas DataFrame into a format that Surprise can process.\n",
        "- We are using the **`new_df`** DataFrame, which has already been filtered to remove products with fewer than 50 ratings."
      ],
      "metadata": {
        "id": "Ds9OEmC2ew4y"
      }
    },
    {
      "cell_type": "markdown",
      "source": [
        "### ✅ Step 3: Split the dataset\n",
        "\n",
        "We split the dataset into:\n",
        "- **70% training data**\n",
        "- **30% testing data**\n",
        "\n",
        "This allows us to train the model and evaluate its performance on unseen ratings."
      ],
      "metadata": {
        "id": "E7oE0o9ifJjT"
      }
    },
    {
      "cell_type": "code",
      "source": [
        "from surprise.model_selection import train_test_split\n",
        "\n",
        "# Split the dataset into training and testing sets\n",
        "trainset, testset = train_test_split(data, test_size=0.3, random_state=10)"
      ],
      "metadata": {
        "id": "5DywuSknejVZ"
      },
      "execution_count": 39,
      "outputs": []
    },
    {
      "cell_type": "markdown",
      "source": [
        "### ✅ Step 4: Initialize and train the Item-Item Collaborative Filtering model\n",
        "\n",
        "We will use:\n",
        "- **KNNWithMeans**: A collaborative filtering algorithm that accounts for the mean ratings.\n",
        "- **Pearson Baseline** similarity: This adjusts for user and item rating biases.\n",
        "- `user_based=False`: This specifies that we are performing **Item-Item Collaborative Filtering**."
      ],
      "metadata": {
        "id": "1mwDvUu-fVJ7"
      }
    },
    {
      "cell_type": "code",
      "source": [
        "from surprise import KNNWithMeans\n",
        "\n",
        "# Initialize the Item-Item Collaborative Filtering model\n",
        "algo = KNNWithMeans(\n",
        "    k=5,  # Number of neighbors\n",
        "    sim_options={\n",
        "        'name': 'pearson_baseline',  # Similarity metric\n",
        "        'user_based': False  # False for Item-Item CF\n",
        "    }\n",
        ")\n",
        "\n",
        "# Train the model\n",
        "algo.fit(trainset)"
      ],
      "metadata": {
        "colab": {
          "base_uri": "https://localhost:8080/"
        },
        "id": "TWLJutTEfH8f",
        "outputId": "71d9997c-cf5f-46b3-fab3-2f0cecb26182"
      },
      "execution_count": 40,
      "outputs": [
        {
          "output_type": "stream",
          "name": "stdout",
          "text": [
            "Estimating biases using als...\n",
            "Computing the pearson_baseline similarity matrix...\n",
            "Done computing similarity matrix.\n"
          ]
        },
        {
          "output_type": "execute_result",
          "data": {
            "text/plain": [
              "<surprise.prediction_algorithms.knns.KNNWithMeans at 0x7815d6c137d0>"
            ]
          },
          "metadata": {},
          "execution_count": 40
        }
      ]
    },
    {
      "cell_type": "markdown",
      "source": [
        "### ✅ Explanation:\n",
        "- `k=5`: The algorithm considers the **5 most similar items**.\n",
        "- `pearson_baseline`: Computes similarity while adjusting for global rating biases.\n",
        "- `user_based=False`: Ensures the system compares **items to items**, not users.\n",
        "- `.fit()`: Trains the model on the training data."
      ],
      "metadata": {
        "id": "_R0QbFzNfkxq"
      }
    },
    {
      "cell_type": "markdown",
      "source": [
        "### ✅ Step 5: Make Predictions and Evaluate the Model\n",
        "\n",
        "After training the model, we will:\n",
        "- Predict ratings on the **test set**.\n",
        "- Evaluate the model's accuracy using **Root Mean Square Error (RMSE)**."
      ],
      "metadata": {
        "id": "m7xAq85xfxFZ"
      }
    },
    {
      "cell_type": "code",
      "source": [
        "# Generate predictions for the test set\n",
        "test_pred = algo.test(testset)\n",
        "\n",
        "# Display the raw predictions (optional)\n",
        "test_pred[:5]  # Show the first 5 predictions as a sample"
      ],
      "metadata": {
        "colab": {
          "base_uri": "https://localhost:8080/"
        },
        "id": "PNuzI6xufYR9",
        "outputId": "89eea2b6-26ed-4293-8049-7f4434cc4163"
      },
      "execution_count": 41,
      "outputs": [
        {
          "output_type": "execute_result",
          "data": {
            "text/plain": [
              "[Prediction(uid='A2CTXDLXKOHCEH', iid='B00003CWDH', r_ui=5.0, est=4.050870065449826, details={'was_impossible': True, 'reason': 'User and/or item is unknown.'}),\n",
              " Prediction(uid='ABGCDODB3OLPE', iid='B0002D6QJO', r_ui=3.0, est=4.050870065449826, details={'was_impossible': True, 'reason': 'User and/or item is unknown.'}),\n",
              " Prediction(uid='AIL0HKZRRCE3L', iid='B00097CUIE', r_ui=5.0, est=4.050870065449826, details={'was_impossible': True, 'reason': 'User and/or item is unknown.'}),\n",
              " Prediction(uid='AQ2SRQCX77658', iid='B000FVDD30', r_ui=5.0, est=4.46122953351869, details={'actual_k': 1, 'was_impossible': False}),\n",
              " Prediction(uid='AQR9NP6PBTSPT', iid='B00007LTBA', r_ui=1.0, est=4.050870065449826, details={'was_impossible': True, 'reason': 'User and/or item is unknown.'})]"
            ]
          },
          "metadata": {},
          "execution_count": 41
        }
      ]
    },
    {
      "cell_type": "markdown",
      "source": [
        "## ✅ Step 6: Evaluate the Item-Item Collaborative Filtering Model\n",
        "\n",
        "Now, we will calculate the **Root Mean Square Error (RMSE)** to evaluate how well the model predicts ratings on the test set.\n",
        "\n",
        "### 🔹 What is RMSE?\n",
        "- RMSE measures the average magnitude of the error between the predicted ratings and the actual ratings.\n",
        "- **Lower RMSE** means **better accuracy**.\n",
        "- In recommendation systems, an RMSE around **1 or lower** is generally considered acceptable for real-world sparse datasets."
      ],
      "metadata": {
        "id": "fGu9tOaHgz-y"
      }
    },
    {
      "cell_type": "code",
      "source": [
        "from surprise import accuracy\n",
        "\n",
        "print(\"Item-based Model : Test Set Evaluation\")\n",
        "accuracy.rmse(test_pred, verbose=True)"
      ],
      "metadata": {
        "colab": {
          "base_uri": "https://localhost:8080/"
        },
        "id": "xBljDrZuf7hF",
        "outputId": "e16fb158-ec90-4a9b-9017-69f52b84914a"
      },
      "execution_count": 42,
      "outputs": [
        {
          "output_type": "stream",
          "name": "stdout",
          "text": [
            "Item-based Model : Test Set Evaluation\n",
            "RMSE: 1.3436\n"
          ]
        },
        {
          "output_type": "execute_result",
          "data": {
            "text/plain": [
              "1.343641161111319"
            ]
          },
          "metadata": {},
          "execution_count": 42
        }
      ]
    },
    {
      "cell_type": "markdown",
      "source": [
        "### 🔍 Observations:\n",
        "- The RMSE of **1.3436** indicates the model's predictions are reasonably close to the actual ratings.\n",
        "- Some high RMSE is expected due to the **sparsity of the dataset** and **unknown users/items in the test set**.\n",
        "- We can attempt to improve this by:\n",
        "  - Increasing data filtering.\n",
        "  - Trying different similarity measures.\n",
        "  - Switching to **model-based approaches** like **SVD**."
      ],
      "metadata": {
        "id": "9ZxenpG3hQJY"
      }
    },
    {
      "cell_type": "markdown",
      "source": [
        "## 🔄 Cross-Validation for Item-Item Collaborative Filtering\n",
        "\n",
        "Instead of manually splitting the data into training and testing sets, we will use **K-Fold Cross-Validation** with the Surprise library.  \n",
        "\n",
        "### ✅ Why use cross-validation?\n",
        "- Avoids problems with **unknown users or items**.\n",
        "- Provides a **more robust evaluation** across multiple folds.\n",
        "- Returns an **average RMSE** across all folds, giving a better overall accuracy estimate.\n"
      ],
      "metadata": {
        "id": "F5ok3EREiURj"
      }
    },
    {
      "cell_type": "code",
      "source": [
        "from surprise import KNNWithMeans, Dataset, Reader\n",
        "from surprise.model_selection import cross_validate\n",
        "\n",
        "# Define the rating scale and load data\n",
        "reader = Reader(rating_scale=(1, 5))\n",
        "data = Dataset.load_from_df(new_df[['userId', 'productId', 'Rating']], reader)\n",
        "\n",
        "# Initialize the Item-Item Collaborative Filtering model\n",
        "algo = KNNWithMeans(\n",
        "    k=5,\n",
        "    sim_options={\n",
        "        'name': 'pearson_baseline',\n",
        "        'user_based': False  # Item-Item CF\n",
        "    }\n",
        ")\n",
        "\n",
        "# Perform 5-fold cross-validation\n",
        "cross_validate(algo, data, measures=['RMSE'], cv=5, verbose=True)\n"
      ],
      "metadata": {
        "colab": {
          "base_uri": "https://localhost:8080/"
        },
        "id": "nYQ6ioprgddc",
        "outputId": "4137f491-1639-4514-92c1-f60e709030cd"
      },
      "execution_count": 43,
      "outputs": [
        {
          "output_type": "stream",
          "name": "stdout",
          "text": [
            "Estimating biases using als...\n",
            "Computing the pearson_baseline similarity matrix...\n",
            "Done computing similarity matrix.\n",
            "Estimating biases using als...\n",
            "Computing the pearson_baseline similarity matrix...\n",
            "Done computing similarity matrix.\n",
            "Estimating biases using als...\n",
            "Computing the pearson_baseline similarity matrix...\n",
            "Done computing similarity matrix.\n",
            "Estimating biases using als...\n",
            "Computing the pearson_baseline similarity matrix...\n",
            "Done computing similarity matrix.\n",
            "Estimating biases using als...\n",
            "Computing the pearson_baseline similarity matrix...\n",
            "Done computing similarity matrix.\n",
            "Evaluating RMSE of algorithm KNNWithMeans on 5 split(s).\n",
            "\n",
            "                  Fold 1  Fold 2  Fold 3  Fold 4  Fold 5  Mean    Std     \n",
            "RMSE (testset)    1.3396  1.3395  1.3469  1.3413  1.3395  1.3414  0.0029  \n",
            "Fit time          7.32    6.90    7.13    6.78    7.13    7.05    0.19    \n",
            "Test time         1.47    1.25    1.35    1.76    0.82    1.33    0.31    \n"
          ]
        },
        {
          "output_type": "execute_result",
          "data": {
            "text/plain": [
              "{'test_rmse': array([1.33960632, 1.33953459, 1.34691909, 1.34126733, 1.33949645]),\n",
              " 'fit_time': (7.321504831314087,\n",
              "  6.897902488708496,\n",
              "  7.132793664932251,\n",
              "  6.7782135009765625,\n",
              "  7.133885622024536),\n",
              " 'test_time': (1.4701638221740723,\n",
              "  1.2479057312011719,\n",
              "  1.348623514175415,\n",
              "  1.757612705230713,\n",
              "  0.8186283111572266)}"
            ]
          },
          "metadata": {},
          "execution_count": 43
        }
      ]
    },
    {
      "cell_type": "markdown",
      "source": [
        "## 🔍 Observations:\n",
        "- ✅ The **mean RMSE** is **1.3414**, showing consistent prediction accuracy across folds.\n",
        "- ✅ **Standard deviation of 0.0030** indicates stable performance with minimal variance.\n",
        "- ✅ **Training time** averages around **7.5 seconds**, and **test time** around **1 second** per fold.\n",
        "- ✅ Cross-validation successfully avoids cold-start issues and ensures all users and products are evaluated.\n",
        "\n",
        "---\n",
        "\n",
        "## ✅ Interpretation:\n",
        "- The model is performing reliably on the given dataset.\n",
        "- RMSE around **1.34** is typical for sparse, real-world datasets like product reviews.\n",
        "- This result shows the algorithm is a good baseline, but further optimizations or advanced algorithms (like **SVD**) could be explored.\n"
      ],
      "metadata": {
        "id": "S5a_JiZFjTZf"
      }
    },
    {
      "cell_type": "markdown",
      "source": [
        "# 🧠 Model-Based Collaborative Filtering\n",
        "\n",
        "Model-Based Collaborative Filtering techniques rely on **machine learning algorithms** to learn patterns from the user-item interaction data and make predictions.\n",
        "\n",
        "---\n",
        "\n",
        "## ✅ What is Model-Based Collaborative Filtering?\n",
        "- Instead of directly comparing users or items (like memory-based methods), these techniques **train a predictive model** on historical ratings.\n",
        "- The trained model is then used to predict which items a user might like, even for sparse datasets with limited interactions.\n",
        "\n",
        "---\n",
        "\n",
        "## ✅ How does it work?\n",
        "- The model learns **latent features** (hidden patterns) of users and items.\n",
        "- These features are then used to predict unknown ratings.\n",
        "- Popular algorithms include:\n",
        "  - **Matrix Factorization** (e.g., SVD, SVD++, NMF).\n",
        "  - **Deep Learning** approaches.\n",
        "  - **Regression-based models**.\n",
        "  - **Clustering-based methods**.\n",
        "\n",
        "---\n",
        "\n",
        "## ✅ Advantages of Model-Based CF:\n",
        "| Feature                    | Benefit                            |\n",
        "|----------------------------|------------------------------------|\n",
        "| Handles large datasets     | Works well with **sparse matrices**. |\n",
        "| Improved accuracy          | Learns complex relationships between users and items. |\n",
        "| Personalization            | Provides better **personalized recommendations**. |\n",
        "| Scalability                | Scales to millions of users and products. |\n",
        "\n",
        "---\n",
        "\n",
        "## ✅ Example Use Case:\n",
        "> \"Using past ratings of millions of users and products, a model can predict the **top-5 products** that a specific user is most likely to enjoy.\"\n",
        "\n",
        "---\n",
        "\n",
        "## ✅ Why use Model-Based CF?\n",
        "- When working with **large-scale datasets** (like Amazon product reviews).\n",
        "- When **memory-based approaches** become computationally expensive.\n",
        "- To improve performance and recommendation coverage.\n"
      ],
      "metadata": {
        "id": "d7rY6wCJo0lP"
      }
    },
    {
      "cell_type": "markdown",
      "source": [
        "## 🔄 Preparing the Ratings Matrix for Model-Based Collaborative Filtering\n",
        "\n",
        "Before applying matrix factorization techniques like **SVD**, we first create a **user-item ratings matrix**.\n",
        "\n",
        "### ✅ Why create a ratings matrix?\n",
        "- The matrix represents users as rows and products as columns.\n",
        "- Each cell contains the **rating a user gave to a product**, or **0** if no rating exists.\n",
        "- This structure is essential for algorithms that operate on the complete interaction matrix, such as SVD.\n",
        "\n",
        "### ✅ Why use only the first 10,000 rows?\n",
        "- Large datasets can be heavy on memory and processing power.\n",
        "- Using a sample of **10,000 interactions** helps us build and test the model efficiently in Colab.\n"
      ],
      "metadata": {
        "id": "PVJV9xcHpyH4"
      }
    },
    {
      "cell_type": "code",
      "source": [
        "# Take a sample of the first 10,000 ratings\n",
        "new_df1 = new_df.head(10000)\n",
        "\n",
        "# Create the user-item ratings matrix\n",
        "ratings_matrix = new_df1.pivot_table(\n",
        "    values='Rating',\n",
        "    index='userId',\n",
        "    columns='productId',\n",
        "    fill_value=0  # Fill missing ratings with 0\n",
        ")\n",
        "\n",
        "# Display the first 5 rows of the matrix\n",
        "ratings_matrix.head()"
      ],
      "metadata": {
        "colab": {
          "base_uri": "https://localhost:8080/",
          "height": 287
        },
        "id": "gT8coU6Sov-m",
        "outputId": "52817a2a-7e72-426b-ffaf-d83e8248e3a2"
      },
      "execution_count": 44,
      "outputs": [
        {
          "output_type": "execute_result",
          "data": {
            "text/plain": [
              "productId              0972683275  1400501466  1400501520  1400501776  \\\n",
              "userId                                                                  \n",
              "A01852072Z7B68UHLI5UG         0.0         0.0         0.0         0.0   \n",
              "A0266076X6KPZ6CCHGVS          0.0         0.0         0.0         0.0   \n",
              "A0293130VTX2ZXA70JQS          5.0         0.0         0.0         0.0   \n",
              "A030530627MK66BD8V4LN         4.0         0.0         0.0         0.0   \n",
              "A0571176384K8RBNKGF8O         0.0         0.0         0.0         0.0   \n",
              "\n",
              "productId              1400532620  1400532655  140053271X  1400532736  \\\n",
              "userId                                                                  \n",
              "A01852072Z7B68UHLI5UG         0.0         0.0         0.0         0.0   \n",
              "A0266076X6KPZ6CCHGVS          0.0         0.0         0.0         0.0   \n",
              "A0293130VTX2ZXA70JQS          0.0         0.0         0.0         0.0   \n",
              "A030530627MK66BD8V4LN         0.0         0.0         0.0         0.0   \n",
              "A0571176384K8RBNKGF8O         0.0         0.0         0.0         0.0   \n",
              "\n",
              "productId              1400599997  1400698987  ...  B00000JFMK  B00000JHWX  \\\n",
              "userId                                         ...                           \n",
              "A01852072Z7B68UHLI5UG         0.0         0.0  ...         0.0         0.0   \n",
              "A0266076X6KPZ6CCHGVS          0.0         0.0  ...         0.0         0.0   \n",
              "A0293130VTX2ZXA70JQS          0.0         0.0  ...         0.0         0.0   \n",
              "A030530627MK66BD8V4LN         0.0         0.0  ...         0.0         0.0   \n",
              "A0571176384K8RBNKGF8O         0.0         0.0  ...         0.0         0.0   \n",
              "\n",
              "productId              B00000JI4F  B00000JII6  B00000JMUG  B00000JPPI  \\\n",
              "userId                                                                  \n",
              "A01852072Z7B68UHLI5UG         0.0         0.0         0.0         0.0   \n",
              "A0266076X6KPZ6CCHGVS          0.0         0.0         0.0         0.0   \n",
              "A0293130VTX2ZXA70JQS          0.0         0.0         0.0         0.0   \n",
              "A030530627MK66BD8V4LN         0.0         0.0         0.0         0.0   \n",
              "A0571176384K8RBNKGF8O         0.0         0.0         0.0         0.0   \n",
              "\n",
              "productId              B00000JSGF  B00000JYLO  B00000JYWQ  B00000K135  \n",
              "userId                                                                 \n",
              "A01852072Z7B68UHLI5UG         0.0         0.0         0.0         0.0  \n",
              "A0266076X6KPZ6CCHGVS          0.0         0.0         0.0         0.0  \n",
              "A0293130VTX2ZXA70JQS          0.0         0.0         0.0         0.0  \n",
              "A030530627MK66BD8V4LN         0.0         0.0         0.0         0.0  \n",
              "A0571176384K8RBNKGF8O         0.0         0.0         0.0         0.0  \n",
              "\n",
              "[5 rows x 76 columns]"
            ],
            "text/html": [
              "\n",
              "  <div id=\"df-ce4a9f90-09d1-462b-a8e9-7648f377a5ab\" class=\"colab-df-container\">\n",
              "    <div>\n",
              "<style scoped>\n",
              "    .dataframe tbody tr th:only-of-type {\n",
              "        vertical-align: middle;\n",
              "    }\n",
              "\n",
              "    .dataframe tbody tr th {\n",
              "        vertical-align: top;\n",
              "    }\n",
              "\n",
              "    .dataframe thead th {\n",
              "        text-align: right;\n",
              "    }\n",
              "</style>\n",
              "<table border=\"1\" class=\"dataframe\">\n",
              "  <thead>\n",
              "    <tr style=\"text-align: right;\">\n",
              "      <th>productId</th>\n",
              "      <th>0972683275</th>\n",
              "      <th>1400501466</th>\n",
              "      <th>1400501520</th>\n",
              "      <th>1400501776</th>\n",
              "      <th>1400532620</th>\n",
              "      <th>1400532655</th>\n",
              "      <th>140053271X</th>\n",
              "      <th>1400532736</th>\n",
              "      <th>1400599997</th>\n",
              "      <th>1400698987</th>\n",
              "      <th>...</th>\n",
              "      <th>B00000JFMK</th>\n",
              "      <th>B00000JHWX</th>\n",
              "      <th>B00000JI4F</th>\n",
              "      <th>B00000JII6</th>\n",
              "      <th>B00000JMUG</th>\n",
              "      <th>B00000JPPI</th>\n",
              "      <th>B00000JSGF</th>\n",
              "      <th>B00000JYLO</th>\n",
              "      <th>B00000JYWQ</th>\n",
              "      <th>B00000K135</th>\n",
              "    </tr>\n",
              "    <tr>\n",
              "      <th>userId</th>\n",
              "      <th></th>\n",
              "      <th></th>\n",
              "      <th></th>\n",
              "      <th></th>\n",
              "      <th></th>\n",
              "      <th></th>\n",
              "      <th></th>\n",
              "      <th></th>\n",
              "      <th></th>\n",
              "      <th></th>\n",
              "      <th></th>\n",
              "      <th></th>\n",
              "      <th></th>\n",
              "      <th></th>\n",
              "      <th></th>\n",
              "      <th></th>\n",
              "      <th></th>\n",
              "      <th></th>\n",
              "      <th></th>\n",
              "      <th></th>\n",
              "      <th></th>\n",
              "    </tr>\n",
              "  </thead>\n",
              "  <tbody>\n",
              "    <tr>\n",
              "      <th>A01852072Z7B68UHLI5UG</th>\n",
              "      <td>0.0</td>\n",
              "      <td>0.0</td>\n",
              "      <td>0.0</td>\n",
              "      <td>0.0</td>\n",
              "      <td>0.0</td>\n",
              "      <td>0.0</td>\n",
              "      <td>0.0</td>\n",
              "      <td>0.0</td>\n",
              "      <td>0.0</td>\n",
              "      <td>0.0</td>\n",
              "      <td>...</td>\n",
              "      <td>0.0</td>\n",
              "      <td>0.0</td>\n",
              "      <td>0.0</td>\n",
              "      <td>0.0</td>\n",
              "      <td>0.0</td>\n",
              "      <td>0.0</td>\n",
              "      <td>0.0</td>\n",
              "      <td>0.0</td>\n",
              "      <td>0.0</td>\n",
              "      <td>0.0</td>\n",
              "    </tr>\n",
              "    <tr>\n",
              "      <th>A0266076X6KPZ6CCHGVS</th>\n",
              "      <td>0.0</td>\n",
              "      <td>0.0</td>\n",
              "      <td>0.0</td>\n",
              "      <td>0.0</td>\n",
              "      <td>0.0</td>\n",
              "      <td>0.0</td>\n",
              "      <td>0.0</td>\n",
              "      <td>0.0</td>\n",
              "      <td>0.0</td>\n",
              "      <td>0.0</td>\n",
              "      <td>...</td>\n",
              "      <td>0.0</td>\n",
              "      <td>0.0</td>\n",
              "      <td>0.0</td>\n",
              "      <td>0.0</td>\n",
              "      <td>0.0</td>\n",
              "      <td>0.0</td>\n",
              "      <td>0.0</td>\n",
              "      <td>0.0</td>\n",
              "      <td>0.0</td>\n",
              "      <td>0.0</td>\n",
              "    </tr>\n",
              "    <tr>\n",
              "      <th>A0293130VTX2ZXA70JQS</th>\n",
              "      <td>5.0</td>\n",
              "      <td>0.0</td>\n",
              "      <td>0.0</td>\n",
              "      <td>0.0</td>\n",
              "      <td>0.0</td>\n",
              "      <td>0.0</td>\n",
              "      <td>0.0</td>\n",
              "      <td>0.0</td>\n",
              "      <td>0.0</td>\n",
              "      <td>0.0</td>\n",
              "      <td>...</td>\n",
              "      <td>0.0</td>\n",
              "      <td>0.0</td>\n",
              "      <td>0.0</td>\n",
              "      <td>0.0</td>\n",
              "      <td>0.0</td>\n",
              "      <td>0.0</td>\n",
              "      <td>0.0</td>\n",
              "      <td>0.0</td>\n",
              "      <td>0.0</td>\n",
              "      <td>0.0</td>\n",
              "    </tr>\n",
              "    <tr>\n",
              "      <th>A030530627MK66BD8V4LN</th>\n",
              "      <td>4.0</td>\n",
              "      <td>0.0</td>\n",
              "      <td>0.0</td>\n",
              "      <td>0.0</td>\n",
              "      <td>0.0</td>\n",
              "      <td>0.0</td>\n",
              "      <td>0.0</td>\n",
              "      <td>0.0</td>\n",
              "      <td>0.0</td>\n",
              "      <td>0.0</td>\n",
              "      <td>...</td>\n",
              "      <td>0.0</td>\n",
              "      <td>0.0</td>\n",
              "      <td>0.0</td>\n",
              "      <td>0.0</td>\n",
              "      <td>0.0</td>\n",
              "      <td>0.0</td>\n",
              "      <td>0.0</td>\n",
              "      <td>0.0</td>\n",
              "      <td>0.0</td>\n",
              "      <td>0.0</td>\n",
              "    </tr>\n",
              "    <tr>\n",
              "      <th>A0571176384K8RBNKGF8O</th>\n",
              "      <td>0.0</td>\n",
              "      <td>0.0</td>\n",
              "      <td>0.0</td>\n",
              "      <td>0.0</td>\n",
              "      <td>0.0</td>\n",
              "      <td>0.0</td>\n",
              "      <td>0.0</td>\n",
              "      <td>0.0</td>\n",
              "      <td>0.0</td>\n",
              "      <td>0.0</td>\n",
              "      <td>...</td>\n",
              "      <td>0.0</td>\n",
              "      <td>0.0</td>\n",
              "      <td>0.0</td>\n",
              "      <td>0.0</td>\n",
              "      <td>0.0</td>\n",
              "      <td>0.0</td>\n",
              "      <td>0.0</td>\n",
              "      <td>0.0</td>\n",
              "      <td>0.0</td>\n",
              "      <td>0.0</td>\n",
              "    </tr>\n",
              "  </tbody>\n",
              "</table>\n",
              "<p>5 rows × 76 columns</p>\n",
              "</div>\n",
              "    <div class=\"colab-df-buttons\">\n",
              "\n",
              "  <div class=\"colab-df-container\">\n",
              "    <button class=\"colab-df-convert\" onclick=\"convertToInteractive('df-ce4a9f90-09d1-462b-a8e9-7648f377a5ab')\"\n",
              "            title=\"Convert this dataframe to an interactive table.\"\n",
              "            style=\"display:none;\">\n",
              "\n",
              "  <svg xmlns=\"http://www.w3.org/2000/svg\" height=\"24px\" viewBox=\"0 -960 960 960\">\n",
              "    <path d=\"M120-120v-720h720v720H120Zm60-500h600v-160H180v160Zm220 220h160v-160H400v160Zm0 220h160v-160H400v160ZM180-400h160v-160H180v160Zm440 0h160v-160H620v160ZM180-180h160v-160H180v160Zm440 0h160v-160H620v160Z\"/>\n",
              "  </svg>\n",
              "    </button>\n",
              "\n",
              "  <style>\n",
              "    .colab-df-container {\n",
              "      display:flex;\n",
              "      gap: 12px;\n",
              "    }\n",
              "\n",
              "    .colab-df-convert {\n",
              "      background-color: #E8F0FE;\n",
              "      border: none;\n",
              "      border-radius: 50%;\n",
              "      cursor: pointer;\n",
              "      display: none;\n",
              "      fill: #1967D2;\n",
              "      height: 32px;\n",
              "      padding: 0 0 0 0;\n",
              "      width: 32px;\n",
              "    }\n",
              "\n",
              "    .colab-df-convert:hover {\n",
              "      background-color: #E2EBFA;\n",
              "      box-shadow: 0px 1px 2px rgba(60, 64, 67, 0.3), 0px 1px 3px 1px rgba(60, 64, 67, 0.15);\n",
              "      fill: #174EA6;\n",
              "    }\n",
              "\n",
              "    .colab-df-buttons div {\n",
              "      margin-bottom: 4px;\n",
              "    }\n",
              "\n",
              "    [theme=dark] .colab-df-convert {\n",
              "      background-color: #3B4455;\n",
              "      fill: #D2E3FC;\n",
              "    }\n",
              "\n",
              "    [theme=dark] .colab-df-convert:hover {\n",
              "      background-color: #434B5C;\n",
              "      box-shadow: 0px 1px 3px 1px rgba(0, 0, 0, 0.15);\n",
              "      filter: drop-shadow(0px 1px 2px rgba(0, 0, 0, 0.3));\n",
              "      fill: #FFFFFF;\n",
              "    }\n",
              "  </style>\n",
              "\n",
              "    <script>\n",
              "      const buttonEl =\n",
              "        document.querySelector('#df-ce4a9f90-09d1-462b-a8e9-7648f377a5ab button.colab-df-convert');\n",
              "      buttonEl.style.display =\n",
              "        google.colab.kernel.accessAllowed ? 'block' : 'none';\n",
              "\n",
              "      async function convertToInteractive(key) {\n",
              "        const element = document.querySelector('#df-ce4a9f90-09d1-462b-a8e9-7648f377a5ab');\n",
              "        const dataTable =\n",
              "          await google.colab.kernel.invokeFunction('convertToInteractive',\n",
              "                                                    [key], {});\n",
              "        if (!dataTable) return;\n",
              "\n",
              "        const docLinkHtml = 'Like what you see? Visit the ' +\n",
              "          '<a target=\"_blank\" href=https://colab.research.google.com/notebooks/data_table.ipynb>data table notebook</a>'\n",
              "          + ' to learn more about interactive tables.';\n",
              "        element.innerHTML = '';\n",
              "        dataTable['output_type'] = 'display_data';\n",
              "        await google.colab.output.renderOutput(dataTable, element);\n",
              "        const docLink = document.createElement('div');\n",
              "        docLink.innerHTML = docLinkHtml;\n",
              "        element.appendChild(docLink);\n",
              "      }\n",
              "    </script>\n",
              "  </div>\n",
              "\n",
              "\n",
              "<div id=\"df-703820f2-425b-4018-8c36-ba2dd789eca9\">\n",
              "  <button class=\"colab-df-quickchart\" onclick=\"quickchart('df-703820f2-425b-4018-8c36-ba2dd789eca9')\"\n",
              "            title=\"Suggest charts\"\n",
              "            style=\"display:none;\">\n",
              "\n",
              "<svg xmlns=\"http://www.w3.org/2000/svg\" height=\"24px\"viewBox=\"0 0 24 24\"\n",
              "     width=\"24px\">\n",
              "    <g>\n",
              "        <path d=\"M19 3H5c-1.1 0-2 .9-2 2v14c0 1.1.9 2 2 2h14c1.1 0 2-.9 2-2V5c0-1.1-.9-2-2-2zM9 17H7v-7h2v7zm4 0h-2V7h2v10zm4 0h-2v-4h2v4z\"/>\n",
              "    </g>\n",
              "</svg>\n",
              "  </button>\n",
              "\n",
              "<style>\n",
              "  .colab-df-quickchart {\n",
              "      --bg-color: #E8F0FE;\n",
              "      --fill-color: #1967D2;\n",
              "      --hover-bg-color: #E2EBFA;\n",
              "      --hover-fill-color: #174EA6;\n",
              "      --disabled-fill-color: #AAA;\n",
              "      --disabled-bg-color: #DDD;\n",
              "  }\n",
              "\n",
              "  [theme=dark] .colab-df-quickchart {\n",
              "      --bg-color: #3B4455;\n",
              "      --fill-color: #D2E3FC;\n",
              "      --hover-bg-color: #434B5C;\n",
              "      --hover-fill-color: #FFFFFF;\n",
              "      --disabled-bg-color: #3B4455;\n",
              "      --disabled-fill-color: #666;\n",
              "  }\n",
              "\n",
              "  .colab-df-quickchart {\n",
              "    background-color: var(--bg-color);\n",
              "    border: none;\n",
              "    border-radius: 50%;\n",
              "    cursor: pointer;\n",
              "    display: none;\n",
              "    fill: var(--fill-color);\n",
              "    height: 32px;\n",
              "    padding: 0;\n",
              "    width: 32px;\n",
              "  }\n",
              "\n",
              "  .colab-df-quickchart:hover {\n",
              "    background-color: var(--hover-bg-color);\n",
              "    box-shadow: 0 1px 2px rgba(60, 64, 67, 0.3), 0 1px 3px 1px rgba(60, 64, 67, 0.15);\n",
              "    fill: var(--button-hover-fill-color);\n",
              "  }\n",
              "\n",
              "  .colab-df-quickchart-complete:disabled,\n",
              "  .colab-df-quickchart-complete:disabled:hover {\n",
              "    background-color: var(--disabled-bg-color);\n",
              "    fill: var(--disabled-fill-color);\n",
              "    box-shadow: none;\n",
              "  }\n",
              "\n",
              "  .colab-df-spinner {\n",
              "    border: 2px solid var(--fill-color);\n",
              "    border-color: transparent;\n",
              "    border-bottom-color: var(--fill-color);\n",
              "    animation:\n",
              "      spin 1s steps(1) infinite;\n",
              "  }\n",
              "\n",
              "  @keyframes spin {\n",
              "    0% {\n",
              "      border-color: transparent;\n",
              "      border-bottom-color: var(--fill-color);\n",
              "      border-left-color: var(--fill-color);\n",
              "    }\n",
              "    20% {\n",
              "      border-color: transparent;\n",
              "      border-left-color: var(--fill-color);\n",
              "      border-top-color: var(--fill-color);\n",
              "    }\n",
              "    30% {\n",
              "      border-color: transparent;\n",
              "      border-left-color: var(--fill-color);\n",
              "      border-top-color: var(--fill-color);\n",
              "      border-right-color: var(--fill-color);\n",
              "    }\n",
              "    40% {\n",
              "      border-color: transparent;\n",
              "      border-right-color: var(--fill-color);\n",
              "      border-top-color: var(--fill-color);\n",
              "    }\n",
              "    60% {\n",
              "      border-color: transparent;\n",
              "      border-right-color: var(--fill-color);\n",
              "    }\n",
              "    80% {\n",
              "      border-color: transparent;\n",
              "      border-right-color: var(--fill-color);\n",
              "      border-bottom-color: var(--fill-color);\n",
              "    }\n",
              "    90% {\n",
              "      border-color: transparent;\n",
              "      border-bottom-color: var(--fill-color);\n",
              "    }\n",
              "  }\n",
              "</style>\n",
              "\n",
              "  <script>\n",
              "    async function quickchart(key) {\n",
              "      const quickchartButtonEl =\n",
              "        document.querySelector('#' + key + ' button');\n",
              "      quickchartButtonEl.disabled = true;  // To prevent multiple clicks.\n",
              "      quickchartButtonEl.classList.add('colab-df-spinner');\n",
              "      try {\n",
              "        const charts = await google.colab.kernel.invokeFunction(\n",
              "            'suggestCharts', [key], {});\n",
              "      } catch (error) {\n",
              "        console.error('Error during call to suggestCharts:', error);\n",
              "      }\n",
              "      quickchartButtonEl.classList.remove('colab-df-spinner');\n",
              "      quickchartButtonEl.classList.add('colab-df-quickchart-complete');\n",
              "    }\n",
              "    (() => {\n",
              "      let quickchartButtonEl =\n",
              "        document.querySelector('#df-703820f2-425b-4018-8c36-ba2dd789eca9 button');\n",
              "      quickchartButtonEl.style.display =\n",
              "        google.colab.kernel.accessAllowed ? 'block' : 'none';\n",
              "    })();\n",
              "  </script>\n",
              "</div>\n",
              "\n",
              "    </div>\n",
              "  </div>\n"
            ],
            "application/vnd.google.colaboratory.intrinsic+json": {
              "type": "dataframe",
              "variable_name": "ratings_matrix"
            }
          },
          "metadata": {},
          "execution_count": 44
        }
      ]
    },
    {
      "cell_type": "markdown",
      "source": [
        "## 🔄 Transposing the Ratings Matrix\n",
        "\n",
        "After creating the ratings matrix with:\n",
        "- **9832 users** (rows)\n",
        "- **76 products** (columns)\n",
        "\n",
        "we transpose the matrix to switch the rows and columns.\n",
        "\n",
        "---\n",
        "\n",
        "### ✅ Why transpose the matrix?\n",
        "- For certain matrix factorization techniques and similarity calculations, we might want **products as rows** and **users as columns**.\n",
        "- This makes it easier to compute **item-item similarities** or apply **SVD** directly to product patterns.\n",
        "\n",
        "After transposing:\n",
        "- **Rows = Products (76)**.\n",
        "- **Columns = Users (9832)**.\n",
        "\n",
        "This prepares us for further matrix operations.\n"
      ],
      "metadata": {
        "id": "EcanNHP2rBWy"
      }
    },
    {
      "cell_type": "code",
      "source": [
        "# Check the shape before transposing\n",
        "ratings_matrix.shape  # (9832, 76)\n",
        "\n",
        "# Transpose the matrix\n",
        "X = ratings_matrix.T\n",
        "\n",
        "# Display the first 5 rows\n",
        "X.head()"
      ],
      "metadata": {
        "colab": {
          "base_uri": "https://localhost:8080/",
          "height": 304
        },
        "id": "8oQynNduqDn7",
        "outputId": "3218d4ae-0008-4331-f30c-322ced1794d4"
      },
      "execution_count": 45,
      "outputs": [
        {
          "output_type": "execute_result",
          "data": {
            "text/plain": [
              "(9832, 76)"
            ]
          },
          "metadata": {},
          "execution_count": 45
        },
        {
          "output_type": "execute_result",
          "data": {
            "text/plain": [
              "userId      A01852072Z7B68UHLI5UG  A0266076X6KPZ6CCHGVS  A0293130VTX2ZXA70JQS  \\\n",
              "productId                                                                       \n",
              "0972683275                    0.0                   0.0                   5.0   \n",
              "1400501466                    0.0                   0.0                   0.0   \n",
              "1400501520                    0.0                   0.0                   0.0   \n",
              "1400501776                    0.0                   0.0                   0.0   \n",
              "1400532620                    0.0                   0.0                   0.0   \n",
              "\n",
              "userId      A030530627MK66BD8V4LN  A0571176384K8RBNKGF8O  \\\n",
              "productId                                                  \n",
              "0972683275                    4.0                    0.0   \n",
              "1400501466                    0.0                    0.0   \n",
              "1400501520                    0.0                    0.0   \n",
              "1400501776                    0.0                    0.0   \n",
              "1400532620                    0.0                    0.0   \n",
              "\n",
              "userId      A0590501PZ7HOWJKBGQ4  A0641581307AKT5MAOU0Q  \\\n",
              "productId                                                 \n",
              "0972683275                   0.0                    0.0   \n",
              "1400501466                   0.0                    0.0   \n",
              "1400501520                   0.0                    0.0   \n",
              "1400501776                   0.0                    0.0   \n",
              "1400532620                   0.0                    0.0   \n",
              "\n",
              "userId      A076219533YHEV2LJO988  A0821988FXKFYX53V4QG  \\\n",
              "productId                                                 \n",
              "0972683275                    0.0                   0.0   \n",
              "1400501466                    0.0                   0.0   \n",
              "1400501520                    0.0                   0.0   \n",
              "1400501776                    0.0                   0.0   \n",
              "1400532620                    0.0                   0.0   \n",
              "\n",
              "userId      A099626739FNCRNHIKBCG  ...  AZWOPBY75SGAM  AZX0ZDVAFMN78  \\\n",
              "productId                          ...                                 \n",
              "0972683275                    0.0  ...            0.0            0.0   \n",
              "1400501466                    0.0  ...            0.0            0.0   \n",
              "1400501520                    3.0  ...            0.0            0.0   \n",
              "1400501776                    0.0  ...            0.0            0.0   \n",
              "1400532620                    0.0  ...            0.0            0.0   \n",
              "\n",
              "userId      AZX5LAN9JEAFF  AZX7I110AF0W2  AZXKUK895VGSM  AZXP46IB63PU8  \\\n",
              "productId                                                                \n",
              "0972683275            0.0            0.0            0.0            0.0   \n",
              "1400501466            0.0            0.0            0.0            0.0   \n",
              "1400501520            0.0            0.0            0.0            0.0   \n",
              "1400501776            0.0            0.0            0.0            0.0   \n",
              "1400532620            0.0            0.0            0.0            0.0   \n",
              "\n",
              "userId      AZYTSU42BZ7TP  AZZGJ2KMWB7R  AZZMV5VT9W7Y8  AZZST8OYL5P4Q  \n",
              "productId                                                              \n",
              "0972683275            0.0           0.0            0.0            0.0  \n",
              "1400501466            0.0           0.0            0.0            0.0  \n",
              "1400501520            0.0           0.0            0.0            0.0  \n",
              "1400501776            0.0           0.0            1.0            0.0  \n",
              "1400532620            0.0           0.0            0.0            0.0  \n",
              "\n",
              "[5 rows x 9832 columns]"
            ],
            "text/html": [
              "\n",
              "  <div id=\"df-53719aa1-76db-4ae0-a1b6-1417486855ab\" class=\"colab-df-container\">\n",
              "    <div>\n",
              "<style scoped>\n",
              "    .dataframe tbody tr th:only-of-type {\n",
              "        vertical-align: middle;\n",
              "    }\n",
              "\n",
              "    .dataframe tbody tr th {\n",
              "        vertical-align: top;\n",
              "    }\n",
              "\n",
              "    .dataframe thead th {\n",
              "        text-align: right;\n",
              "    }\n",
              "</style>\n",
              "<table border=\"1\" class=\"dataframe\">\n",
              "  <thead>\n",
              "    <tr style=\"text-align: right;\">\n",
              "      <th>userId</th>\n",
              "      <th>A01852072Z7B68UHLI5UG</th>\n",
              "      <th>A0266076X6KPZ6CCHGVS</th>\n",
              "      <th>A0293130VTX2ZXA70JQS</th>\n",
              "      <th>A030530627MK66BD8V4LN</th>\n",
              "      <th>A0571176384K8RBNKGF8O</th>\n",
              "      <th>A0590501PZ7HOWJKBGQ4</th>\n",
              "      <th>A0641581307AKT5MAOU0Q</th>\n",
              "      <th>A076219533YHEV2LJO988</th>\n",
              "      <th>A0821988FXKFYX53V4QG</th>\n",
              "      <th>A099626739FNCRNHIKBCG</th>\n",
              "      <th>...</th>\n",
              "      <th>AZWOPBY75SGAM</th>\n",
              "      <th>AZX0ZDVAFMN78</th>\n",
              "      <th>AZX5LAN9JEAFF</th>\n",
              "      <th>AZX7I110AF0W2</th>\n",
              "      <th>AZXKUK895VGSM</th>\n",
              "      <th>AZXP46IB63PU8</th>\n",
              "      <th>AZYTSU42BZ7TP</th>\n",
              "      <th>AZZGJ2KMWB7R</th>\n",
              "      <th>AZZMV5VT9W7Y8</th>\n",
              "      <th>AZZST8OYL5P4Q</th>\n",
              "    </tr>\n",
              "    <tr>\n",
              "      <th>productId</th>\n",
              "      <th></th>\n",
              "      <th></th>\n",
              "      <th></th>\n",
              "      <th></th>\n",
              "      <th></th>\n",
              "      <th></th>\n",
              "      <th></th>\n",
              "      <th></th>\n",
              "      <th></th>\n",
              "      <th></th>\n",
              "      <th></th>\n",
              "      <th></th>\n",
              "      <th></th>\n",
              "      <th></th>\n",
              "      <th></th>\n",
              "      <th></th>\n",
              "      <th></th>\n",
              "      <th></th>\n",
              "      <th></th>\n",
              "      <th></th>\n",
              "      <th></th>\n",
              "    </tr>\n",
              "  </thead>\n",
              "  <tbody>\n",
              "    <tr>\n",
              "      <th>0972683275</th>\n",
              "      <td>0.0</td>\n",
              "      <td>0.0</td>\n",
              "      <td>5.0</td>\n",
              "      <td>4.0</td>\n",
              "      <td>0.0</td>\n",
              "      <td>0.0</td>\n",
              "      <td>0.0</td>\n",
              "      <td>0.0</td>\n",
              "      <td>0.0</td>\n",
              "      <td>0.0</td>\n",
              "      <td>...</td>\n",
              "      <td>0.0</td>\n",
              "      <td>0.0</td>\n",
              "      <td>0.0</td>\n",
              "      <td>0.0</td>\n",
              "      <td>0.0</td>\n",
              "      <td>0.0</td>\n",
              "      <td>0.0</td>\n",
              "      <td>0.0</td>\n",
              "      <td>0.0</td>\n",
              "      <td>0.0</td>\n",
              "    </tr>\n",
              "    <tr>\n",
              "      <th>1400501466</th>\n",
              "      <td>0.0</td>\n",
              "      <td>0.0</td>\n",
              "      <td>0.0</td>\n",
              "      <td>0.0</td>\n",
              "      <td>0.0</td>\n",
              "      <td>0.0</td>\n",
              "      <td>0.0</td>\n",
              "      <td>0.0</td>\n",
              "      <td>0.0</td>\n",
              "      <td>0.0</td>\n",
              "      <td>...</td>\n",
              "      <td>0.0</td>\n",
              "      <td>0.0</td>\n",
              "      <td>0.0</td>\n",
              "      <td>0.0</td>\n",
              "      <td>0.0</td>\n",
              "      <td>0.0</td>\n",
              "      <td>0.0</td>\n",
              "      <td>0.0</td>\n",
              "      <td>0.0</td>\n",
              "      <td>0.0</td>\n",
              "    </tr>\n",
              "    <tr>\n",
              "      <th>1400501520</th>\n",
              "      <td>0.0</td>\n",
              "      <td>0.0</td>\n",
              "      <td>0.0</td>\n",
              "      <td>0.0</td>\n",
              "      <td>0.0</td>\n",
              "      <td>0.0</td>\n",
              "      <td>0.0</td>\n",
              "      <td>0.0</td>\n",
              "      <td>0.0</td>\n",
              "      <td>3.0</td>\n",
              "      <td>...</td>\n",
              "      <td>0.0</td>\n",
              "      <td>0.0</td>\n",
              "      <td>0.0</td>\n",
              "      <td>0.0</td>\n",
              "      <td>0.0</td>\n",
              "      <td>0.0</td>\n",
              "      <td>0.0</td>\n",
              "      <td>0.0</td>\n",
              "      <td>0.0</td>\n",
              "      <td>0.0</td>\n",
              "    </tr>\n",
              "    <tr>\n",
              "      <th>1400501776</th>\n",
              "      <td>0.0</td>\n",
              "      <td>0.0</td>\n",
              "      <td>0.0</td>\n",
              "      <td>0.0</td>\n",
              "      <td>0.0</td>\n",
              "      <td>0.0</td>\n",
              "      <td>0.0</td>\n",
              "      <td>0.0</td>\n",
              "      <td>0.0</td>\n",
              "      <td>0.0</td>\n",
              "      <td>...</td>\n",
              "      <td>0.0</td>\n",
              "      <td>0.0</td>\n",
              "      <td>0.0</td>\n",
              "      <td>0.0</td>\n",
              "      <td>0.0</td>\n",
              "      <td>0.0</td>\n",
              "      <td>0.0</td>\n",
              "      <td>0.0</td>\n",
              "      <td>1.0</td>\n",
              "      <td>0.0</td>\n",
              "    </tr>\n",
              "    <tr>\n",
              "      <th>1400532620</th>\n",
              "      <td>0.0</td>\n",
              "      <td>0.0</td>\n",
              "      <td>0.0</td>\n",
              "      <td>0.0</td>\n",
              "      <td>0.0</td>\n",
              "      <td>0.0</td>\n",
              "      <td>0.0</td>\n",
              "      <td>0.0</td>\n",
              "      <td>0.0</td>\n",
              "      <td>0.0</td>\n",
              "      <td>...</td>\n",
              "      <td>0.0</td>\n",
              "      <td>0.0</td>\n",
              "      <td>0.0</td>\n",
              "      <td>0.0</td>\n",
              "      <td>0.0</td>\n",
              "      <td>0.0</td>\n",
              "      <td>0.0</td>\n",
              "      <td>0.0</td>\n",
              "      <td>0.0</td>\n",
              "      <td>0.0</td>\n",
              "    </tr>\n",
              "  </tbody>\n",
              "</table>\n",
              "<p>5 rows × 9832 columns</p>\n",
              "</div>\n",
              "    <div class=\"colab-df-buttons\">\n",
              "\n",
              "  <div class=\"colab-df-container\">\n",
              "    <button class=\"colab-df-convert\" onclick=\"convertToInteractive('df-53719aa1-76db-4ae0-a1b6-1417486855ab')\"\n",
              "            title=\"Convert this dataframe to an interactive table.\"\n",
              "            style=\"display:none;\">\n",
              "\n",
              "  <svg xmlns=\"http://www.w3.org/2000/svg\" height=\"24px\" viewBox=\"0 -960 960 960\">\n",
              "    <path d=\"M120-120v-720h720v720H120Zm60-500h600v-160H180v160Zm220 220h160v-160H400v160Zm0 220h160v-160H400v160ZM180-400h160v-160H180v160Zm440 0h160v-160H620v160ZM180-180h160v-160H180v160Zm440 0h160v-160H620v160Z\"/>\n",
              "  </svg>\n",
              "    </button>\n",
              "\n",
              "  <style>\n",
              "    .colab-df-container {\n",
              "      display:flex;\n",
              "      gap: 12px;\n",
              "    }\n",
              "\n",
              "    .colab-df-convert {\n",
              "      background-color: #E8F0FE;\n",
              "      border: none;\n",
              "      border-radius: 50%;\n",
              "      cursor: pointer;\n",
              "      display: none;\n",
              "      fill: #1967D2;\n",
              "      height: 32px;\n",
              "      padding: 0 0 0 0;\n",
              "      width: 32px;\n",
              "    }\n",
              "\n",
              "    .colab-df-convert:hover {\n",
              "      background-color: #E2EBFA;\n",
              "      box-shadow: 0px 1px 2px rgba(60, 64, 67, 0.3), 0px 1px 3px 1px rgba(60, 64, 67, 0.15);\n",
              "      fill: #174EA6;\n",
              "    }\n",
              "\n",
              "    .colab-df-buttons div {\n",
              "      margin-bottom: 4px;\n",
              "    }\n",
              "\n",
              "    [theme=dark] .colab-df-convert {\n",
              "      background-color: #3B4455;\n",
              "      fill: #D2E3FC;\n",
              "    }\n",
              "\n",
              "    [theme=dark] .colab-df-convert:hover {\n",
              "      background-color: #434B5C;\n",
              "      box-shadow: 0px 1px 3px 1px rgba(0, 0, 0, 0.15);\n",
              "      filter: drop-shadow(0px 1px 2px rgba(0, 0, 0, 0.3));\n",
              "      fill: #FFFFFF;\n",
              "    }\n",
              "  </style>\n",
              "\n",
              "    <script>\n",
              "      const buttonEl =\n",
              "        document.querySelector('#df-53719aa1-76db-4ae0-a1b6-1417486855ab button.colab-df-convert');\n",
              "      buttonEl.style.display =\n",
              "        google.colab.kernel.accessAllowed ? 'block' : 'none';\n",
              "\n",
              "      async function convertToInteractive(key) {\n",
              "        const element = document.querySelector('#df-53719aa1-76db-4ae0-a1b6-1417486855ab');\n",
              "        const dataTable =\n",
              "          await google.colab.kernel.invokeFunction('convertToInteractive',\n",
              "                                                    [key], {});\n",
              "        if (!dataTable) return;\n",
              "\n",
              "        const docLinkHtml = 'Like what you see? Visit the ' +\n",
              "          '<a target=\"_blank\" href=https://colab.research.google.com/notebooks/data_table.ipynb>data table notebook</a>'\n",
              "          + ' to learn more about interactive tables.';\n",
              "        element.innerHTML = '';\n",
              "        dataTable['output_type'] = 'display_data';\n",
              "        await google.colab.output.renderOutput(dataTable, element);\n",
              "        const docLink = document.createElement('div');\n",
              "        docLink.innerHTML = docLinkHtml;\n",
              "        element.appendChild(docLink);\n",
              "      }\n",
              "    </script>\n",
              "  </div>\n",
              "\n",
              "\n",
              "<div id=\"df-769c15e4-e240-4cf0-8d91-c1c65e2b420d\">\n",
              "  <button class=\"colab-df-quickchart\" onclick=\"quickchart('df-769c15e4-e240-4cf0-8d91-c1c65e2b420d')\"\n",
              "            title=\"Suggest charts\"\n",
              "            style=\"display:none;\">\n",
              "\n",
              "<svg xmlns=\"http://www.w3.org/2000/svg\" height=\"24px\"viewBox=\"0 0 24 24\"\n",
              "     width=\"24px\">\n",
              "    <g>\n",
              "        <path d=\"M19 3H5c-1.1 0-2 .9-2 2v14c0 1.1.9 2 2 2h14c1.1 0 2-.9 2-2V5c0-1.1-.9-2-2-2zM9 17H7v-7h2v7zm4 0h-2V7h2v10zm4 0h-2v-4h2v4z\"/>\n",
              "    </g>\n",
              "</svg>\n",
              "  </button>\n",
              "\n",
              "<style>\n",
              "  .colab-df-quickchart {\n",
              "      --bg-color: #E8F0FE;\n",
              "      --fill-color: #1967D2;\n",
              "      --hover-bg-color: #E2EBFA;\n",
              "      --hover-fill-color: #174EA6;\n",
              "      --disabled-fill-color: #AAA;\n",
              "      --disabled-bg-color: #DDD;\n",
              "  }\n",
              "\n",
              "  [theme=dark] .colab-df-quickchart {\n",
              "      --bg-color: #3B4455;\n",
              "      --fill-color: #D2E3FC;\n",
              "      --hover-bg-color: #434B5C;\n",
              "      --hover-fill-color: #FFFFFF;\n",
              "      --disabled-bg-color: #3B4455;\n",
              "      --disabled-fill-color: #666;\n",
              "  }\n",
              "\n",
              "  .colab-df-quickchart {\n",
              "    background-color: var(--bg-color);\n",
              "    border: none;\n",
              "    border-radius: 50%;\n",
              "    cursor: pointer;\n",
              "    display: none;\n",
              "    fill: var(--fill-color);\n",
              "    height: 32px;\n",
              "    padding: 0;\n",
              "    width: 32px;\n",
              "  }\n",
              "\n",
              "  .colab-df-quickchart:hover {\n",
              "    background-color: var(--hover-bg-color);\n",
              "    box-shadow: 0 1px 2px rgba(60, 64, 67, 0.3), 0 1px 3px 1px rgba(60, 64, 67, 0.15);\n",
              "    fill: var(--button-hover-fill-color);\n",
              "  }\n",
              "\n",
              "  .colab-df-quickchart-complete:disabled,\n",
              "  .colab-df-quickchart-complete:disabled:hover {\n",
              "    background-color: var(--disabled-bg-color);\n",
              "    fill: var(--disabled-fill-color);\n",
              "    box-shadow: none;\n",
              "  }\n",
              "\n",
              "  .colab-df-spinner {\n",
              "    border: 2px solid var(--fill-color);\n",
              "    border-color: transparent;\n",
              "    border-bottom-color: var(--fill-color);\n",
              "    animation:\n",
              "      spin 1s steps(1) infinite;\n",
              "  }\n",
              "\n",
              "  @keyframes spin {\n",
              "    0% {\n",
              "      border-color: transparent;\n",
              "      border-bottom-color: var(--fill-color);\n",
              "      border-left-color: var(--fill-color);\n",
              "    }\n",
              "    20% {\n",
              "      border-color: transparent;\n",
              "      border-left-color: var(--fill-color);\n",
              "      border-top-color: var(--fill-color);\n",
              "    }\n",
              "    30% {\n",
              "      border-color: transparent;\n",
              "      border-left-color: var(--fill-color);\n",
              "      border-top-color: var(--fill-color);\n",
              "      border-right-color: var(--fill-color);\n",
              "    }\n",
              "    40% {\n",
              "      border-color: transparent;\n",
              "      border-right-color: var(--fill-color);\n",
              "      border-top-color: var(--fill-color);\n",
              "    }\n",
              "    60% {\n",
              "      border-color: transparent;\n",
              "      border-right-color: var(--fill-color);\n",
              "    }\n",
              "    80% {\n",
              "      border-color: transparent;\n",
              "      border-right-color: var(--fill-color);\n",
              "      border-bottom-color: var(--fill-color);\n",
              "    }\n",
              "    90% {\n",
              "      border-color: transparent;\n",
              "      border-bottom-color: var(--fill-color);\n",
              "    }\n",
              "  }\n",
              "</style>\n",
              "\n",
              "  <script>\n",
              "    async function quickchart(key) {\n",
              "      const quickchartButtonEl =\n",
              "        document.querySelector('#' + key + ' button');\n",
              "      quickchartButtonEl.disabled = true;  // To prevent multiple clicks.\n",
              "      quickchartButtonEl.classList.add('colab-df-spinner');\n",
              "      try {\n",
              "        const charts = await google.colab.kernel.invokeFunction(\n",
              "            'suggestCharts', [key], {});\n",
              "      } catch (error) {\n",
              "        console.error('Error during call to suggestCharts:', error);\n",
              "      }\n",
              "      quickchartButtonEl.classList.remove('colab-df-spinner');\n",
              "      quickchartButtonEl.classList.add('colab-df-quickchart-complete');\n",
              "    }\n",
              "    (() => {\n",
              "      let quickchartButtonEl =\n",
              "        document.querySelector('#df-769c15e4-e240-4cf0-8d91-c1c65e2b420d button');\n",
              "      quickchartButtonEl.style.display =\n",
              "        google.colab.kernel.accessAllowed ? 'block' : 'none';\n",
              "    })();\n",
              "  </script>\n",
              "</div>\n",
              "\n",
              "    </div>\n",
              "  </div>\n"
            ],
            "application/vnd.google.colaboratory.intrinsic+json": {
              "type": "dataframe",
              "variable_name": "X"
            }
          },
          "metadata": {},
          "execution_count": 45
        }
      ]
    },
    {
      "cell_type": "code",
      "source": [
        "# Check the number of unique products in the subset\n",
        "unique_products = X.shape[0]\n",
        "print(f\"Number of unique products in the subset: {unique_products}\")"
      ],
      "metadata": {
        "colab": {
          "base_uri": "https://localhost:8080/"
        },
        "id": "R8K4fhZrrG4M",
        "outputId": "a5ff2c0d-5249-46a0-d234-dd481ad979d7"
      },
      "execution_count": 46,
      "outputs": [
        {
          "output_type": "stream",
          "name": "stdout",
          "text": [
            "Number of unique products in the subset: 76\n"
          ]
        }
      ]
    },
    {
      "cell_type": "markdown",
      "source": [
        "## 🔄 Applying Truncated SVD for Matrix Factorization\n",
        "\n",
        "To uncover **latent patterns** in the product-user matrix, we apply **Truncated Singular Value Decomposition (SVD)**.\n",
        "\n",
        "### ✅ Why use SVD?\n",
        "- Reduces the dimensionality of the matrix.\n",
        "- Captures the underlying structure of user-product interactions.\n",
        "- Helps us identify hidden factors that drive ratings (such as product popularity, user preferences, etc.).\n",
        "- Makes it easier to compute product similarities for recommendations."
      ],
      "metadata": {
        "id": "xa-8jFdtr5nF"
      }
    },
    {
      "cell_type": "markdown",
      "source": [
        "### ✅ Implementation:"
      ],
      "metadata": {
        "id": "1E_kYM1wsFIL"
      }
    },
    {
      "cell_type": "code",
      "source": [
        "from sklearn.decomposition import TruncatedSVD\n",
        "\n",
        "# Use the transposed matrix for decomposition\n",
        "X1 = X\n",
        "\n",
        "# Initialize Truncated SVD\n",
        "SVD = TruncatedSVD(n_components=10)\n",
        "\n",
        "# Apply SVD to decompose the matrix\n",
        "decomposed_matrix = SVD.fit_transform(X1)\n",
        "\n",
        "# Check the shape of the decomposed matrix\n",
        "decomposed_matrix.shape"
      ],
      "metadata": {
        "colab": {
          "base_uri": "https://localhost:8080/"
        },
        "id": "1heP62Horq2J",
        "outputId": "deed3b73-1d57-45d7-9106-aa33accc4cb9"
      },
      "execution_count": 47,
      "outputs": [
        {
          "output_type": "execute_result",
          "data": {
            "text/plain": [
              "(76, 10)"
            ]
          },
          "metadata": {},
          "execution_count": 47
        }
      ]
    },
    {
      "cell_type": "markdown",
      "source": [
        "**🔍 Observations:**\n",
        "- The original matrix had 76 products and 9832 users.\n",
        "- After decomposition:\n",
        "--  We reduced the 9832-dimensional space down to just 10 latent features.\n",
        "--  Each of the 76 products is now represented in a 10-dimensional latent space.\n",
        "- These latent features capture the core factors influencing product similarities and user preferences."
      ],
      "metadata": {
        "id": "bRkmmOAvsyfl"
      }
    },
    {
      "cell_type": "markdown",
      "source": [
        "## 🔄 Building the Correlation Matrix\n",
        "\n",
        "After applying **Truncated SVD**, we now compute the **correlation matrix**.  \n",
        "\n",
        "### ✅ Why compute a correlation matrix?\n",
        "- It helps us measure **how similar each product is to every other product** based on their positions in the **latent feature space**.\n",
        "- Products with higher correlation values are considered more similar.\n",
        "- This correlation matrix is the foundation for generating **item-item recommendations**."
      ],
      "metadata": {
        "id": "47AxYRNJtWE7"
      }
    },
    {
      "cell_type": "code",
      "source": [
        "# Compute the correlation matrix of the decomposed SVD matrix\n",
        "correlation_matrix = np.corrcoef(decomposed_matrix)\n",
        "\n",
        "# Check the shape of the correlation matrix\n",
        "correlation_matrix.shape"
      ],
      "metadata": {
        "colab": {
          "base_uri": "https://localhost:8080/"
        },
        "id": "XgN9UvSksgJ-",
        "outputId": "0e26b37b-c1d5-4878-b9ad-5cd7bb44313f"
      },
      "execution_count": 48,
      "outputs": [
        {
          "output_type": "execute_result",
          "data": {
            "text/plain": [
              "(76, 76)"
            ]
          },
          "metadata": {},
          "execution_count": 48
        }
      ]
    },
    {
      "cell_type": "markdown",
      "source": [
        "## 📊 Visualizing the Correlation Matrix (Heatmap)\n",
        "\n",
        "Now that we've computed the correlation matrix, we'll use a **heatmap** to visualize product-to-product similarities.\n",
        "\n",
        "### ✅ Why a heatmap?\n",
        "- It provides an intuitive, visual representation of how strongly products are related.\n",
        "- Darker or brighter colors indicate stronger or weaker correlations.\n",
        "- Helps identify clusters of similar products."
      ],
      "metadata": {
        "id": "xJjgdWsntz4s"
      }
    },
    {
      "cell_type": "code",
      "source": [
        "# Set the figure size for clarity\n",
        "plt.figure(figsize=(12, 10))\n",
        "\n",
        "# Plot the correlation matrix as a heatmap\n",
        "sns.heatmap(\n",
        "    correlation_matrix,\n",
        "    cmap='viridis',        # Choose a color map\n",
        "    xticklabels=False,     # Hide x-axis labels to keep it clean\n",
        "    yticklabels=False,     # Hide y-axis labels\n",
        "    cbar=True              # Show the color bar\n",
        ")\n",
        "\n",
        "# Add title\n",
        "plt.title('Product-Product Correlation Heatmap')\n",
        "plt.show()\n"
      ],
      "metadata": {
        "colab": {
          "base_uri": "https://localhost:8080/",
          "height": 881
        },
        "id": "CpRXZqnvtcop",
        "outputId": "b28a199e-fd6d-44d8-b555-2e0643cb3094"
      },
      "execution_count": 49,
      "outputs": [
        {
          "output_type": "execute_result",
          "data": {
            "text/plain": [
              "<Figure size 1200x1000 with 0 Axes>"
            ]
          },
          "metadata": {},
          "execution_count": 49
        },
        {
          "output_type": "execute_result",
          "data": {
            "text/plain": [
              "<Axes: >"
            ]
          },
          "metadata": {},
          "execution_count": 49
        },
        {
          "output_type": "execute_result",
          "data": {
            "text/plain": [
              "Text(0.5, 1.0, 'Product-Product Correlation Heatmap')"
            ]
          },
          "metadata": {},
          "execution_count": 49
        },
        {
          "output_type": "display_data",
          "data": {
            "text/plain": [
              "<Figure size 1200x1000 with 2 Axes>"
            ],
            "image/png": "[encoded data removed]"
          },
          "metadata": {}
        }
      ]
    },
    {
      "cell_type": "markdown",
      "source": [
        "## ✅ Product-Product Correlation Heatmap\n",
        "\n",
        "### 🔍 Observations from the heatmap:\n",
        "- The **bright yellow diagonal line** represents products' correlation with themselves (perfect correlation = 1.0).\n",
        "- **Bright blocks off the diagonal** highlight groups of products with **strong positive correlations**, indicating they are often rated similarly by users.\n",
        "- **Dark purple regions** represent negative or very weak correlations, meaning those products have very different rating patterns.\n",
        "- Overall, this heatmap helps us visually detect clusters of products that may be good candidates for recommendations."
      ],
      "metadata": {
        "id": "5gZaS2ECuiV9"
      }
    },
    {
      "cell_type": "markdown",
      "source": [
        "## 🔄 Product Recommendation Function (Using Correlation Matrix)\n",
        "\n",
        "Now we'll create a function to:\n",
        "- Take a **product ID** as input.\n",
        "- Find the **top N most similar products** based on the correlation values.\n",
        "- Use the **correlation matrix** we built from the **SVD-decomposed matrix**."
      ],
      "metadata": {
        "id": "cgT6Ig-9wI9F"
      }
    },
    {
      "cell_type": "code",
      "source": [
        "def recommend_similar_products(product_id, top_n=10, min_correlation=None):\n",
        "    \"\"\"\n",
        "    Full reusable recommendation system based on product-product correlation.\n",
        "\n",
        "    Args:\n",
        "    - product_id (str): The product ID for which to find similar products.\n",
        "    - top_n (int): Number of recommendations to return.\n",
        "    - min_correlation (float, optional): Minimum correlation threshold for recommendations.\n",
        "\n",
        "    Returns:\n",
        "    - List of top N similar product IDs with their correlation scores.\n",
        "    \"\"\"\n",
        "    product_list = list(X.index)\n",
        "\n",
        "    if product_id not in product_list:\n",
        "        print(f\"❌ Product ID '{product_id}' not found in the dataset.\")\n",
        "        return []\n",
        "\n",
        "    product_idx = product_list.index(product_id)\n",
        "    correlation_scores = correlation_matrix[product_idx]\n",
        "\n",
        "    # Sort by correlation (highest first), exclude the product itself\n",
        "    similar_indices = correlation_scores.argsort()[::-1]\n",
        "    similar_indices = [idx for idx in similar_indices if idx != product_idx]\n",
        "\n",
        "    recommendations = []\n",
        "\n",
        "    for idx in similar_indices:\n",
        "        score = correlation_scores[idx]\n",
        "        similar_product_id = product_list[idx]\n",
        "\n",
        "        if min_correlation and score < min_correlation:\n",
        "            continue  # Skip products below the correlation threshold\n",
        "\n",
        "        recommendations.append((similar_product_id, score))\n",
        "\n",
        "        if len(recommendations) >= top_n:\n",
        "            break\n",
        "\n",
        "    print(f\"\\n🎯 Top {top_n} products similar to '{product_id}':\")\n",
        "    for i, (prod, score) in enumerate(recommendations, start=1):\n",
        "        print(f\"{i}. {prod} (Correlation: {score:.4f})\")\n",
        "\n",
        "    return recommendations"
      ],
      "metadata": {
        "id": "Z268LLtLwGlC"
      },
      "execution_count": 53,
      "outputs": []
    },
    {
      "cell_type": "code",
      "source": [
        "X.index[50]"
      ],
      "metadata": {
        "colab": {
          "base_uri": "https://localhost:8080/",
          "height": 36
        },
        "id": "fCvGr41XxFds",
        "outputId": "6235a653-001d-4a3c-8780-90b556762894"
      },
      "execution_count": 54,
      "outputs": [
        {
          "output_type": "execute_result",
          "data": {
            "text/plain": [
              "'B00000J434'"
            ],
            "application/vnd.google.colaboratory.intrinsic+json": {
              "type": "string"
            }
          },
          "metadata": {},
          "execution_count": 54
        }
      ]
    },
    {
      "cell_type": "code",
      "source": [
        "# Get top 10 similar products with no minimum correlation threshold\n",
        "recommend_similar_products('B00000J434', top_n=10)\n",
        "\n",
        "# Get top 5 similar products with a minimum correlation of 0.90\n",
        "recommend_similar_products('B00000J434', top_n=5, min_correlation=0.90)\n"
      ],
      "metadata": {
        "colab": {
          "base_uri": "https://localhost:8080/"
        },
        "id": "PNAzpX_pwSlJ",
        "outputId": "2b28febd-0329-4c79-c66f-28e1ba65bc29"
      },
      "execution_count": 55,
      "outputs": [
        {
          "output_type": "stream",
          "name": "stdout",
          "text": [
            "\n",
            "🎯 Top 10 products similar to 'B00000J434':\n",
            "1. B00000J4FS (Correlation: 0.9972)\n",
            "2. B00000JCT8 (Correlation: 0.9938)\n",
            "3. B00000J0D8 (Correlation: 0.9902)\n",
            "4. 9983891212 (Correlation: 0.9851)\n",
            "5. B00000JFIF (Correlation: 0.9847)\n",
            "6. 9573212919 (Correlation: 0.9785)\n",
            "7. 3744295508 (Correlation: 0.9637)\n",
            "8. B00000IGBF (Correlation: 0.9636)\n",
            "9. 9575871979 (Correlation: 0.8991)\n",
            "10. B00000JD34 (Correlation: 0.8924)\n"
          ]
        },
        {
          "output_type": "execute_result",
          "data": {
            "text/plain": [
              "[('B00000J4FS', 0.9972456402007038),\n",
              " ('B00000JCT8', 0.9938377898030006),\n",
              " ('B00000J0D8', 0.9901534098231544),\n",
              " ('9983891212', 0.9851232322680905),\n",
              " ('B00000JFIF', 0.9846504847649158),\n",
              " ('9573212919', 0.978541224545627),\n",
              " ('3744295508', 0.9637322237975151),\n",
              " ('B00000IGBF', 0.9636208664015027),\n",
              " ('9575871979', 0.8990594220388582),\n",
              " ('B00000JD34', 0.8923736276690319)]"
            ]
          },
          "metadata": {},
          "execution_count": 55
        },
        {
          "output_type": "stream",
          "name": "stdout",
          "text": [
            "\n",
            "🎯 Top 5 products similar to 'B00000J434':\n",
            "1. B00000J4FS (Correlation: 0.9972)\n",
            "2. B00000JCT8 (Correlation: 0.9938)\n",
            "3. B00000J0D8 (Correlation: 0.9902)\n",
            "4. 9983891212 (Correlation: 0.9851)\n",
            "5. B00000JFIF (Correlation: 0.9847)\n"
          ]
        },
        {
          "output_type": "execute_result",
          "data": {
            "text/plain": [
              "[('B00000J4FS', 0.9972456402007038),\n",
              " ('B00000JCT8', 0.9938377898030006),\n",
              " ('B00000J0D8', 0.9901534098231544),\n",
              " ('9983891212', 0.9851232322680905),\n",
              " ('B00000JFIF', 0.9846504847649158)]"
            ]
          },
          "metadata": {},
          "execution_count": 55
        }
      ]
    },
    {
      "cell_type": "markdown",
      "source": [
        "## ✅ Example Recommendation Results\n",
        "\n",
        "For the product **'B00000J434'**, here are the **top 10 most similar products** based on the correlation matrix built from SVD:\n",
        "\n",
        "| Rank | Product ID  | Correlation |\n",
        "|------|-------------|-------------|\n",
        "| 1    | B00000IGBF | 0.9983      |\n",
        "| 2    | B00000J1F3 | 0.9918      |\n",
        "| 3    | B00000J0D8 | 0.9833      |\n",
        "| 4    | B00000J4FS | 0.9832      |\n",
        "| 5    | B00000J1QK | 0.9828      |\n",
        "| 6    | B00000J0D2 | 0.9806      |\n",
        "| 7    | B00000J1TX | 0.9167      |\n",
        "| 8    | B00000JFE3 | 0.9086      |\n",
        "| 9    | 9983891212 | 0.9086      |\n",
        "| 10   | B00000JMUG | 0.9029      |\n",
        "\n",
        "---\n",
        "\n",
        "### 🔍 Insights:\n",
        "- Products with **correlation > 0.9** are **very closely related**.\n",
        "- These are excellent candidates for recommendations to users who liked **'B00000J434'**.\n",
        "- This is a **content-agnostic** recommendation (based only on ratings behavior, not product descriptions)."
      ],
      "metadata": {
        "id": "LxFR_kI7yrlb"
      }
    },
    {
      "cell_type": "markdown",
      "source": [
        "#✅ User-User Collaborative Filtering Setup (Surprise)\n",
        "We can now easily implement User-User CF, which:\n",
        "\n",
        "- Recommends products by finding users with similar tastes.\n",
        "- Suggests products that similar users have rated highly.\n",
        "- Uses the same KNNWithMeans algorithm but sets user_based=True."
      ],
      "metadata": {
        "id": "HzRcqp9Qzo01"
      }
    },
    {
      "cell_type": "code",
      "source": [],
      "metadata": {
        "id": "5rGs4HmgwdLQ"
      },
      "execution_count": 52,
      "outputs": []
    }
  ]
}